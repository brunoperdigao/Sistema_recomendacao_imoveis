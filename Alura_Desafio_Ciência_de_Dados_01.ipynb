{
  "nbformat": 4,
  "nbformat_minor": 0,
  "metadata": {
    "colab": {
      "provenance": []
    },
    "kernelspec": {
      "name": "python3",
      "display_name": "Python 3"
    },
    "language_info": {
      "name": "python"
    }
  },
  "cells": [
    {
      "cell_type": "markdown",
      "source": [
        "# Sistema de recomendação de imóveis - Parte 01\n",
        "# Real state recomendation system  - Part 01\n",
        "\n",
        "## Configurações básicas / Basic Configuration"
      ],
      "metadata": {
        "id": "xdJguNZzZQiX"
      }
    },
    {
      "cell_type": "code",
      "source": [
        "!pip install pyspark"
      ],
      "metadata": {
        "colab": {
          "base_uri": "https://localhost:8080/"
        },
        "id": "840DZk_MeKjJ",
        "outputId": "5623e63b-6756-4d60-bdd0-ea79a6f01cee"
      },
      "execution_count": 1,
      "outputs": [
        {
          "output_type": "stream",
          "name": "stdout",
          "text": [
            "Looking in indexes: https://pypi.org/simple, https://us-python.pkg.dev/colab-wheels/public/simple/\n",
            "Collecting pyspark\n",
            "  Downloading pyspark-3.3.1.tar.gz (281.4 MB)\n",
            "\u001b[2K     \u001b[90m━━━━━━━━━━━━━━━━━━━━━━━━━━━━━━━━━━━━━━━\u001b[0m \u001b[32m281.4/281.4 MB\u001b[0m \u001b[31m3.7 MB/s\u001b[0m eta \u001b[36m0:00:00\u001b[0m\n",
            "\u001b[?25h  Preparing metadata (setup.py) ... \u001b[?25l\u001b[?25hdone\n",
            "Collecting py4j==0.10.9.5\n",
            "  Downloading py4j-0.10.9.5-py2.py3-none-any.whl (199 kB)\n",
            "\u001b[2K     \u001b[90m━━━━━━━━━━━━━━━━━━━━━━━━━━━━━━━━━━━━━━━\u001b[0m \u001b[32m199.7/199.7 KB\u001b[0m \u001b[31m6.9 MB/s\u001b[0m eta \u001b[36m0:00:00\u001b[0m\n",
            "\u001b[?25hBuilding wheels for collected packages: pyspark\n",
            "  Building wheel for pyspark (setup.py) ... \u001b[?25l\u001b[?25hdone\n",
            "  Created wheel for pyspark: filename=pyspark-3.3.1-py2.py3-none-any.whl size=281845512 sha256=ce75f843a3f5530011411a4ec9197e2202da836586c3e357baffb59709949980\n",
            "  Stored in directory: /root/.cache/pip/wheels/43/dc/11/ec201cd671da62fa9c5cc77078235e40722170ceba231d7598\n",
            "Successfully built pyspark\n",
            "Installing collected packages: py4j, pyspark\n",
            "Successfully installed py4j-0.10.9.5 pyspark-3.3.1\n"
          ]
        }
      ]
    },
    {
      "cell_type": "code",
      "source": [
        "from pyspark.sql import SparkSession\n",
        "\n",
        "spark = SparkSession.builder \\\n",
        "    .master('local[*]') \\\n",
        "    .appName(\"Alura Challange Semana 01\") \\\n",
        "    .getOrCreate()\n",
        "\n",
        "spark"
      ],
      "metadata": {
        "id": "zZmlPTztauhT",
        "colab": {
          "base_uri": "https://localhost:8080/",
          "height": 219
        },
        "outputId": "5ffd76da-f743-4bdf-95e6-b1a97b8eedb9"
      },
      "execution_count": 2,
      "outputs": [
        {
          "output_type": "execute_result",
          "data": {
            "text/plain": [
              "<pyspark.sql.session.SparkSession at 0x7fb11be71dc0>"
            ],
            "text/html": [
              "\n",
              "            <div>\n",
              "                <p><b>SparkSession - in-memory</b></p>\n",
              "                \n",
              "        <div>\n",
              "            <p><b>SparkContext</b></p>\n",
              "\n",
              "            <p><a href=\"http://126c58ad911c:4040\">Spark UI</a></p>\n",
              "\n",
              "            <dl>\n",
              "              <dt>Version</dt>\n",
              "                <dd><code>v3.3.1</code></dd>\n",
              "              <dt>Master</dt>\n",
              "                <dd><code>local[*]</code></dd>\n",
              "              <dt>AppName</dt>\n",
              "                <dd><code>Alura Challange Semana 01</code></dd>\n",
              "            </dl>\n",
              "        </div>\n",
              "        \n",
              "            </div>\n",
              "        "
            ]
          },
          "metadata": {},
          "execution_count": 2
        }
      ]
    },
    {
      "cell_type": "code",
      "source": [
        "from google.colab import drive\n",
        "drive.mount('/content/drive')"
      ],
      "metadata": {
        "id": "Jh6MQNPLbQ1W",
        "colab": {
          "base_uri": "https://localhost:8080/"
        },
        "outputId": "11831b89-86f4-4fe1-ff61-86e07c60ff71"
      },
      "execution_count": 4,
      "outputs": [
        {
          "output_type": "stream",
          "name": "stdout",
          "text": [
            "Mounted at /content/drive\n"
          ]
        }
      ]
    },
    {
      "cell_type": "markdown",
      "source": [
        "# Carregando os dados / Loading the data"
      ],
      "metadata": {
        "id": "4DQCa0S9xyZK"
      }
    },
    {
      "cell_type": "code",
      "source": [
        "import pyspark.sql.functions as f\n",
        "from pyspark.sql.types import IntegerType, StringType"
      ],
      "metadata": {
        "id": "E2b09qNqobh8"
      },
      "execution_count": 5,
      "outputs": []
    },
    {
      "cell_type": "code",
      "source": [
        "dados = spark.read.json('/content/drive/MyDrive/Alura/Challenge Data Science/dataset_bruto.json')"
      ],
      "metadata": {
        "id": "SBy25x8JdbeP"
      },
      "execution_count": 6,
      "outputs": []
    },
    {
      "cell_type": "code",
      "source": [
        "dados.printSchema()"
      ],
      "metadata": {
        "colab": {
          "base_uri": "https://localhost:8080/"
        },
        "id": "eHoQYXMWdp8U",
        "outputId": "f2bb81a2-03e7-4583-e8b4-e960521c690d"
      },
      "execution_count": 7,
      "outputs": [
        {
          "output_type": "stream",
          "name": "stdout",
          "text": [
            "root\n",
            " |-- anuncio: struct (nullable = true)\n",
            " |    |-- andar: long (nullable = true)\n",
            " |    |-- area_total: array (nullable = true)\n",
            " |    |    |-- element: string (containsNull = true)\n",
            " |    |-- area_util: array (nullable = true)\n",
            " |    |    |-- element: string (containsNull = true)\n",
            " |    |-- banheiros: array (nullable = true)\n",
            " |    |    |-- element: long (containsNull = true)\n",
            " |    |-- caracteristicas: array (nullable = true)\n",
            " |    |    |-- element: string (containsNull = true)\n",
            " |    |-- endereco: struct (nullable = true)\n",
            " |    |    |-- bairro: string (nullable = true)\n",
            " |    |    |-- cep: string (nullable = true)\n",
            " |    |    |-- cidade: string (nullable = true)\n",
            " |    |    |-- estado: string (nullable = true)\n",
            " |    |    |-- latitude: double (nullable = true)\n",
            " |    |    |-- longitude: double (nullable = true)\n",
            " |    |    |-- pais: string (nullable = true)\n",
            " |    |    |-- rua: string (nullable = true)\n",
            " |    |    |-- zona: string (nullable = true)\n",
            " |    |-- id: string (nullable = true)\n",
            " |    |-- quartos: array (nullable = true)\n",
            " |    |    |-- element: long (containsNull = true)\n",
            " |    |-- suites: array (nullable = true)\n",
            " |    |    |-- element: long (containsNull = true)\n",
            " |    |-- tipo_anuncio: string (nullable = true)\n",
            " |    |-- tipo_unidade: string (nullable = true)\n",
            " |    |-- tipo_uso: string (nullable = true)\n",
            " |    |-- vaga: array (nullable = true)\n",
            " |    |    |-- element: long (containsNull = true)\n",
            " |    |-- valores: array (nullable = true)\n",
            " |    |    |-- element: struct (containsNull = true)\n",
            " |    |    |    |-- condominio: string (nullable = true)\n",
            " |    |    |    |-- iptu: string (nullable = true)\n",
            " |    |    |    |-- tipo: string (nullable = true)\n",
            " |    |    |    |-- valor: string (nullable = true)\n",
            " |-- imagens: array (nullable = true)\n",
            " |    |-- element: struct (containsNull = true)\n",
            " |    |    |-- id: string (nullable = true)\n",
            " |    |    |-- url: string (nullable = true)\n",
            " |-- usuario: struct (nullable = true)\n",
            " |    |-- id: string (nullable = true)\n",
            " |    |-- nome: string (nullable = true)\n",
            "\n"
          ]
        }
      ]
    },
    {
      "cell_type": "code",
      "source": [
        "dados.show(20, False)"
      ],
      "metadata": {
        "colab": {
          "base_uri": "https://localhost:8080/"
        },
        "id": "xtwxdmledxNH",
        "outputId": "575f0ee8-46d2-4b22-8bce-80313523ec5c"
      },
      "execution_count": 8,
      "outputs": [
        {
          "output_type": "stream",
          "name": "stdout",
          "text": [
            "+------------------------------------------------------------------------------------------------------------------------------------------------------------------------------------------------------------------------------------------------------------------------------------------------------------------------------------------------------------------------------------------------+--------------------------------------------------------------------------------------------------------------------------------------------------------------------------------------------------------------------------------------------------------------------------------------------------------------------------------------------------------------------------------------------------------------------------------------------------------------------------------------------------------------------------------------------------------------------------------------------------------+-------------------------------------------------+\n",
            "|anuncio                                                                                                                                                                                                                                                                                                                                                                                         |imagens                                                                                                                                                                                                                                                                                                                                                                                                                                                                                                                                                                                                 |usuario                                          |\n",
            "+------------------------------------------------------------------------------------------------------------------------------------------------------------------------------------------------------------------------------------------------------------------------------------------------------------------------------------------------------------------------------------------------+--------------------------------------------------------------------------------------------------------------------------------------------------------------------------------------------------------------------------------------------------------------------------------------------------------------------------------------------------------------------------------------------------------------------------------------------------------------------------------------------------------------------------------------------------------------------------------------------------------+-------------------------------------------------+\n",
            "|{0, [], [16], [0], [], {Centro, 20061003, Rio de Janeiro, Rio de Janeiro, -22.906082, -43.18671, BR, Rua Buenos Aires, Zona Central}, 47d553e0-79f2-4a46-9390-5a3c962740c2, [0], [0], Usado, Outros, Comercial, [1], [{260, 107, Venda, 10000}]}                                                                                                                                                |[{39d6282a-71f3-47bc-94aa-909351ecd881, https://api.images.insightplaces.com.br/{type}/{width}/{height}/1b08098d-f2dc-439c-b604-a4e50d12774b.jpg}]                                                                                                                                                                                                                                                                                                                                                                                                                                                      |{9d44563d-3405-4e84-9381-35b7cf40a9a4, Frank}    |\n",
            "|{0, [], [14], [0], [], {Centro, 20051040, Rio de Janeiro, Rio de Janeiro, -22.902536, -43.18434, BR, Avenida Passos, Zona Central}, b6ffbae1-17f6-4870-9950-e998ac1c8d6a, [0], [], Usado, Outros, Comercial, [0], [{260, 107, Venda, 10000}]}                                                                                                                                                   |[{23d2b3ab-45b0-47f2-a27f-ffbe066c2c38, https://api.images.insightplaces.com.br/{type}/{width}/{height}/7a65b929-fe46-4a60-ae31-81faf2edb3c6.jpg}, {1b5f71f8-1aec-4b82-8d4c-67540d204a59, https://api.images.insightplaces.com.br/{type}/{width}/{height}/82e92d72-002a-4d3b-8063-16d4d65474b3.jpg}, {9bb11688-7dc9-48b9-bc1d-6a7a2dbcd553, https://api.images.insightplaces.com.br/{type}/{width}/{height}/23be0c2c-4c8f-4718-8126-6f160bb3efcc.jpg}, {1aaf6095-70bc-4f1f-87a4-fe3534a1bd2a, https://api.images.insightplaces.com.br/{type}/{width}/{height}/0ae382f4-b1ac-4ad9-b6cf-d9b4d7d01908.jpg}]|{36245be7-70fe-40cd-84d4-70a57dc8f976, Caroline} |\n",
            "|{0, [1026], [1026], [0], [], {Maria da Graça, 20785360, Rio de Janeiro, Rio de Janeiro, -22.885516, -43.269083, BR, Rua Luís de Brito, Zona Norte}, 1fb030a5-9e3e-4a1d-93cd-cd2d8a215e11, [0], [], Usado, Outros, Comercial, [0], [{null, 1613, Venda, 10000}]}                                                                                                                                 |[{1da65baa-368b-490f-bef7-1834b9a428c1, https://api.images.insightplaces.com.br/{type}/{width}/{height}/b06fe423-6f18-43bb-b0e3-a569158885d2.jpg}]                                                                                                                                                                                                                                                                                                                                                                                                                                                      |{9dc415d8-1397-4d8d-8425-b8310fad309d, Oliver}   |\n",
            "|{0, [120], [120], [0], [Portão eletrônico, Condomínio fechado], {Campo Grande, 23095071, Rio de Janeiro, Rio de Janeiro, -22.885028, -43.561668, BR, Estrada Guandu do Sape, Zona Oeste}, ac6cb348-69d6-45af-9589-dc34099370d8, [0], [], Usado, Outros, Residencial, [], [{80, null, Venda, 10000}]}                                                                                            |[{79b542c6-49b4-4f06-80b5-ef4fcdf98f76, https://api.images.insightplaces.com.br/{type}/{width}/{height}/b9688b1a-e6e8-4027-9368-d8298bc5ac40.jpg}]                                                                                                                                                                                                                                                                                                                                                                                                                                                      |{9911a2df-f299-4a73-a384-281417abaf69, Matthew}  |\n",
            "|{0, [3], [3], [0], [], {São Cristóvão, 20931670, Rio de Janeiro, Rio de Janeiro, -22.885912, -43.219296, BR, Rua Monsenhor Manuel Gomes, Zona Norte}, e032b908-ef42-4d4a-8125-eba4792bacbe, [0], [], Usado, Outros, Residencial, [], [{0, 0, Venda, 5000}]}                                                                                                                                     |[{e2bc497b-6510-4731-8942-97b3d3cdab5e, https://api.images.insightplaces.com.br/{type}/{width}/{height}/bd7e2c54-8d10-4148-806d-0d656ff80fc2.jpg}]                                                                                                                                                                                                                                                                                                                                                                                                                                                      |{240a7aab-12e5-4069-9a2c-9dca4c4f9c68, Jude}     |\n",
            "|{0, [20], [15], [1], [], {Centro, 20231047, Rio de Janeiro, Rio de Janeiro, -22.913152, -43.184043, BR, Rua dos Inválidos, Zona Central}, df9cf0b8-b972-4334-88c9-87ef528806df, [0], [], Usado, Outros, Comercial, [1], [{223, 87, Venda, 18500}]}                                                                                                                                              |[{2de09d46-dc0d-47cf-aed2-a34e1dacce90, https://api.images.insightplaces.com.br/{type}/{width}/{height}/548872c8-9f2c-45af-8dd0-83a49aa7d920.jpg}, {6189a3f3-d722-4dcb-9368-4ca444be1c43, https://api.images.insightplaces.com.br/{type}/{width}/{height}/30cf34cb-86a6-4ac9-a6db-7e065329ba70.jpg}]                                                                                                                                                                                                                                                                                                    |{3c7057f5-0923-42eb-8b6d-25f3e61155ef, David}    |\n",
            "|{3, [43], [43], [1], [Academia, Churrasqueira, Playground, Salão de festas, Condomínio fechado, Portão eletrônico, Portaria 24h, Animais permitidos], {Paciência, 23585430, Rio de Janeiro, Rio de Janeiro, -22.919851, -43.634034, BR, Estrada de Santa Eugênia, Zona Oeste}, d2e3a3aa-09b5-45a0-9dcd-918847cd3ca3, [2], [], Usado, Apartamento, Residencial, [1], [{245, null, Venda, 15000}]}|[{147a80d9-cd40-4a57-bece-a45ea729ddae, https://api.images.insightplaces.com.br/{type}/{width}/{height}/fa0f099d-cd78-4839-82d6-fcbc0cac4242.jpg}, {c3d5fd7e-2da2-41fd-a4c5-bab0410bec95, https://api.images.insightplaces.com.br/{type}/{width}/{height}/c0bc830d-9b9d-4227-b97f-4b26eba40161.jpg}]                                                                                                                                                                                                                                                                                                    |{5a9736b5-aaa0-4a35-8632-26bbd8bd5cbe, Hope}     |\n",
            "|{2, [42], [42], [1], [Churrasqueira, Playground, Salão de festas, Condomínio fechado, Portão eletrônico, Portaria 24h, Animais permitidos], {Paciência, 23585430, Rio de Janeiro, Rio de Janeiro, -22.928108, -43.635375, BR, Estrada de Santa Eugênia, Zona Oeste}, 085bab2c-87ad-452a-bd0f-8b1451509f84, [2], [], Usado, Apartamento, Residencial, [1], [{0, 0, Venda, 15000}]}               |[{35740004-063d-489b-b84c-f278c018e9f3, https://api.images.insightplaces.com.br/{type}/{width}/{height}/549d156b-3c30-4441-a935-071ba3d89d2b.jpg}, {6bd5391b-aa54-4bcb-994e-b37fea4b85b8, https://api.images.insightplaces.com.br/{type}/{width}/{height}/0be416b1-b0c8-40e6-b82f-97b738d07599.jpg}, {6566eb7d-f715-4b15-ada8-496241bbeb82, https://api.images.insightplaces.com.br/{type}/{width}/{height}/c24a04e2-d89b-474b-9510-98d165c4ba6d.jpg}]                                                                                                                                                  |{ec48d96a-137c-49d5-ad7a-66c39932f599, Margareth}|\n",
            "|{0, [], [12], [0], [Portaria 24h, Elevador], {Centro, 20231047, Rio de Janeiro, Rio de Janeiro, -22.913152, -43.184043, BR, Rua dos Inválidos, Zona Central}, 096ad966-dc36-47bf-8795-5604f078713a, [0], [], Usado, Outros, Comercial, [1], [{250, null, Venda, 20000}]}                                                                                                                        |[{6d3d2aec-c96f-4e57-8b31-8400af100b65, https://api.images.insightplaces.com.br/{type}/{width}/{height}/2f615235-3698-4500-9680-213e1a433057.jpg}]                                                                                                                                                                                                                                                                                                                                                                                                                                                      |{dad7db63-e19c-4420-a64d-f3052ffbba4b, Sean}     |\n",
            "|{1, [41], [41], [1], [Portaria 24h, Condomínio fechado, Playground, Salão de festas, Churrasqueira, Portão eletrônico], {Guaratiba, 23036060, Rio de Janeiro, Rio de Janeiro, -22.948756, -43.582824, BR, Estrada Cabuçu de Baixo, Zona Oeste}, 18d22cbe-1b86-4764-8def-70c615f15a61, [2], [], Usado, Apartamento, Residencial, [1], [{0, 0, Venda, 20000}]}                                    |[{3d404069-418e-4a3f-a087-f4007f701869, https://api.images.insightplaces.com.br/{type}/{width}/{height}/4df6082f-59e3-493d-b4ae-10e785d6e5f3.jpg}, {79139d37-2d03-4291-8258-d0aa7ce0ac0b, https://api.images.insightplaces.com.br/{type}/{width}/{height}/3e05d8e6-ba58-4d73-bbda-29244c62f15a.jpg}, {032589d8-f6aa-4eb7-8010-f78f260db9d4, https://api.images.insightplaces.com.br/{type}/{width}/{height}/f95da5f5-b6cf-4969-8119-1bb8383398ef.jpg}]                                                                                                                                                  |{a845f35f-3ab3-4619-9e53-259a6539af60, Nicole}   |\n",
            "|{3, [43], [43], [1], [Churrasqueira, Piscina, Playground, Salão de festas, Condomínio fechado, Portão eletrônico, Portaria 24h, Animais permitidos], {Cosmos, 23066271, Rio de Janeiro, Rio de Janeiro, -22.888194, -43.629602, BR, Estrada da Paciência, Zona Oeste}, bed8a354-9317-4426-b27e-1c798f864271, [2], [], Usado, Apartamento, Residencial, [0], [{285, null, Venda, 20000}]}        |[{5b8a8de7-2088-4ed8-8c80-9df92b721543, https://api.images.insightplaces.com.br/{type}/{width}/{height}/883dbf54-8485-42fc-a5d0-dd2caefeebd0.jpg}, {5fa4df5c-628d-47b2-882a-3904b481fa08, https://api.images.insightplaces.com.br/{type}/{width}/{height}/d8936d07-4dd5-4b88-843c-2306de56dfec.jpg}]                                                                                                                                                                                                                                                                                                    |{8c8de313-45d5-4cc1-9ae5-9cb7ec104b41, Bradley}  |\n",
            "|{0, [10], [4], [0], [Elevador, Portaria 24h], {Centro, 20080021, Rio de Janeiro, Rio de Janeiro, -22.900167, -43.183256, BR, Rua dos Andradas, Zona Central}, b7d0fbd3-0b28-4203-b7d2-5a63b6f6f7aa, [0], [], Usado, Outros, Comercial, [0], [{200, 86, Venda, 11500}]}                                                                                                                          |[{5385da42-8276-4cf6-9a94-211474cde65c, https://api.images.insightplaces.com.br/{type}/{width}/{height}/6b6d0e87-f61c-4b22-8d67-d0f4aad3ea09.jpg}, {d8db65a2-a1da-43db-8091-662a57a2cade, https://api.images.insightplaces.com.br/{type}/{width}/{height}/5b736188-536a-4bfe-94e8-a810a94fb74c.jpg}, {52bb22e4-734c-4aab-abdb-f3d4ca5dcae3, https://api.images.insightplaces.com.br/{type}/{width}/{height}/4be1b191-273f-44aa-b5e8-a1ddb516f5ab.jpg}]                                                                                                                                                  |{0b1d4ee0-2bc3-4cb6-b3a8-0cfd69f6c645, Hilary}   |\n",
            "|{0, [12], [12], [1], [Portaria 24h], {Copacabana, 22021010, Rio de Janeiro, Rio de Janeiro, -22.965218, -43.179086, BR, Rua Ministro Viveiros de Castro, Zona Sul}, c6571c11-166e-4a4c-acdf-10da35afd5fa, [0], [], Usado, Outros, Comercial, [], [{470, null, Venda, 12000}]}                                                                                                                   |[{7e4c2d03-1188-4451-9c1e-5f8bff8e9c73, https://api.images.insightplaces.com.br/{type}/{width}/{height}/7227f8dd-2b21-485b-9ee8-5a54298768c1.jpg}]                                                                                                                                                                                                                                                                                                                                                                                                                                                      |{d744ac23-f16e-44a0-8627-ea7766afb963, Tabitha}  |\n",
            "|{0, [17], [17], [0], [Elevador], {Centro, 20070021, Rio de Janeiro, Rio de Janeiro, -22.902503, -43.177944, BR, Rua Buenos Aires, Zona Central}, 46d5b560-205f-45fe-9223-f2a4db04545c, [0], [], Usado, Outros, Comercial, [1], [{294, 98, Venda, 18000}]}                                                                                                                                       |[{db608e30-f3e0-4fa3-9ee9-4d05afbea34d, https://api.images.insightplaces.com.br/{type}/{width}/{height}/ca0d3f02-bb8a-4b51-b8be-81482ff05aec.jpg}, {9360ab89-788c-45d8-b878-d7f051cbc888, https://api.images.insightplaces.com.br/{type}/{width}/{height}/a211da7c-cc48-4603-8d9d-d71ae267d96b.jpg}]                                                                                                                                                                                                                                                                                                    |{edc3fcf6-4441-4096-9873-78ed146b0f40, Grace}    |\n",
            "|{1, [32], [32], [], [Elevador, Condomínio fechado, Portão eletrônico], {Centro, 20090020, Rio de Janeiro, Rio de Janeiro, -22.898297, -43.178573, BR, Rua Cortines Laxe, Zona Central}, db197997-00e6-4d6d-8066-45cbbf3ac56c, [], [], Usado, Outros, Comercial, [1], [{684, null, Venda, 15000}]}                                                                                               |[{318d4e40-f759-449e-b053-f25980854866, https://api.images.insightplaces.com.br/{type}/{width}/{height}/ba22701f-082e-4947-86be-57773dc6df8a.jpg}, {ef501dfb-0251-409c-8e9b-b37aeffd1f7c, https://api.images.insightplaces.com.br/{type}/{width}/{height}/451f6539-e31e-4d0a-b699-a208d884fa09.jpg}, {c834108e-d9f4-4211-bf4a-5c7a842ea7c3, https://api.images.insightplaces.com.br/{type}/{width}/{height}/14e50871-c3c1-4d8a-a1fc-b97c964c8492.jpg}, {1e0a82eb-4143-419f-b345-5c84d3a258a5, https://api.images.insightplaces.com.br/{type}/{width}/{height}/7999d10f-61ff-4222-a529-d93408e4a591.jpg}]|{84dfa72e-10dd-4856-a603-87ecb0112c4b, Bradley}  |\n",
            "|{0, [], [10], [0], [Elevador, Condomínio fechado, Portão eletrônico, Portaria 24h], {Saúde, 20080040, Rio de Janeiro, Rio de Janeiro, -22.899571, -43.184864, BR, Travessa Coronel Julião, Zona Central}, 835d4338-4aa9-4e46-8a19-c7a31b387ce5, [0], [], Usado, Outros, Comercial, [], [{0, 120, Venda, 20000}]}                                                                                |[{9e39e46f-59f8-4340-8bda-9d1483d0fa99, https://api.images.insightplaces.com.br/{type}/{width}/{height}/80174d5e-5111-4c01-a098-aec83517b647.jpg}, {62768c30-a721-4a8b-a93b-1d8dea14d416, https://api.images.insightplaces.com.br/{type}/{width}/{height}/d9caaad8-db12-4dc8-a186-6ddecdef55ad.jpg}]                                                                                                                                                                                                                                                                                                    |{fc1d2b73-9d29-4c57-a7c0-1b75722e63d6, Anthony}  |\n",
            "|{2, [43], [43], [1], [Academia, Churrasqueira, Playground, Salão de festas, Condomínio fechado, Portão eletrônico, Portaria 24h, Animais permitidos], {Guaratiba, 23036060, Rio de Janeiro, Rio de Janeiro, -22.948291, -43.582205, BR, Estrada Cabuçu de Baixo, Zona Oeste}, 12a13315-d67f-48f0-9497-017b83252781, [2], [], Usado, Apartamento, Residencial, [1], [{245, null, Venda, 15000}]} |[{3fe1c1cc-7a9c-4f6c-b030-6f16b6fa4f69, https://api.images.insightplaces.com.br/{type}/{width}/{height}/3b09011f-759c-497a-9f8e-806bf8aa6144.jpg}, {9dbee9a9-9611-46a8-b104-c7a72ed7a2a6, https://api.images.insightplaces.com.br/{type}/{width}/{height}/e3b5c07b-f299-449c-8ea0-1a2633847a9a.jpg}, {91bda2dd-5cef-4daa-978d-2685f6b36e35, https://api.images.insightplaces.com.br/{type}/{width}/{height}/de5f1482-2761-42ef-b9c4-4257b5745ae8.jpg}, {e36fb279-eb69-4c51-8309-62d2c8ac79d3, https://api.images.insightplaces.com.br/{type}/{width}/{height}/9990e9fc-fbef-41d5-a9b5-da9d5609b3f9.jpg}]|{7f2de69f-68f8-4047-84d2-9c847b77bcc0, Duncan}   |\n",
            "|{3, [43], [43], [1], [Churrasqueira, Piscina, Playground, Salão de festas, Condomínio fechado, Portaria 24h, Portão eletrônico, Animais permitidos], {Cosmos, 23066271, Rio de Janeiro, Rio de Janeiro, -22.888194, -43.629602, BR, Estrada da Paciência, Zona Oeste}, a2e6d7a5-0ff0-484d-b3d8-3a8f15e2d80e, [2], [0], Usado, Apartamento, Residencial, [0], [{285, null, Venda, 20000}]}       |[{fd04f07d-cfdf-4383-8dfc-84277b9cdd5d, https://api.images.insightplaces.com.br/{type}/{width}/{height}/4cd1a2e6-4c25-4f7f-ac3c-d297f0c2d32b.jpg}, {2f9e0baf-9736-483a-8086-f1b0805252c7, https://api.images.insightplaces.com.br/{type}/{width}/{height}/505dc961-9345-4800-bffa-ccef8d83a314.jpg}]                                                                                                                                                                                                                                                                                                    |{12ce772e-4aac-46bc-b840-aea0b3ad1f46, Mia}      |\n",
            "|{3, [43], [43], [1], [Churrasqueira, Playground, Salão de festas, Condomínio fechado, Portão eletrônico, Portaria 24h, Animais permitidos], {Paciência, 23585430, Rio de Janeiro, Rio de Janeiro, -22.919851, -43.634034, BR, Estrada de Santa Eugênia, Zona Oeste}, a6e3173b-c950-4db4-9b7b-80c44bd75e90, [2], [], Usado, Apartamento, Residencial, [1], [{250, null, Venda, 15000}]}          |[{76f97b59-a61b-4904-9f0b-850c454cfb09, https://api.images.insightplaces.com.br/{type}/{width}/{height}/a8969e63-c6dd-4fce-853b-7ccd1bea0043.jpg}, {12a24020-f0a9-40e2-b544-736afe7ff022, https://api.images.insightplaces.com.br/{type}/{width}/{height}/0df86da3-41db-4925-aa7c-16e7e7b9a438.jpg}, {3bffacf1-7c57-4a38-a15d-f8c6eeb2e611, https://api.images.insightplaces.com.br/{type}/{width}/{height}/9b4a2902-62ea-41b3-8f4f-73a2a6b2e23d.jpg}, {2fc588a7-e30e-4741-8a33-cfcb22bb204d, https://api.images.insightplaces.com.br/{type}/{width}/{height}/76e3431e-1eff-4235-ad0e-37c1fba4c132.jpg}]|{cc17fc2c-6be2-4e59-9cf7-5b03efbac944, Brooke}   |\n",
            "|{3, [43], [43], [1], [Churrasqueira, Playground, Salão de festas, Condomínio fechado, Portão eletrônico, Animais permitidos], {Guaratiba, 23036060, Rio de Janeiro, Rio de Janeiro, -22.948291, -43.582205, BR, Estrada Cabuçu de Baixo, Zona Oeste}, 2e6e5dfb-206c-4968-944b-ea4c3918b50d, [2], [0], Usado, Apartamento, Residencial, [1], [{245, null, Venda, 15000}]}                        |[{95d9678e-491f-4cd6-ba99-30ef61bd3532, https://api.images.insightplaces.com.br/{type}/{width}/{height}/04ffc555-9248-40f0-b2f6-a4ae12a4de29.jpg}, {c91bdc4f-16c5-4d12-b78d-42c26ab0d52a, https://api.images.insightplaces.com.br/{type}/{width}/{height}/c35f61c7-0cf1-4ffa-ad30-075c2ca4cc76.jpg}, {b6e2ebf4-34a4-45e3-8f01-53dca7e08170, https://api.images.insightplaces.com.br/{type}/{width}/{height}/56a5b8ab-b4b9-41f1-99e2-bcf1373da796.jpg}, {3bd7d29c-02f4-4eea-8ddf-544baf905afc, https://api.images.insightplaces.com.br/{type}/{width}/{height}/f0c1df5b-a63f-4f88-96d2-79e56acede57.jpg}]|{286649de-3099-4cce-9561-4e1e8707e5ca, Declan}   |\n",
            "+------------------------------------------------------------------------------------------------------------------------------------------------------------------------------------------------------------------------------------------------------------------------------------------------------------------------------------------------------------------------------------------------+--------------------------------------------------------------------------------------------------------------------------------------------------------------------------------------------------------------------------------------------------------------------------------------------------------------------------------------------------------------------------------------------------------------------------------------------------------------------------------------------------------------------------------------------------------------------------------------------------------+-------------------------------------------------+\n",
            "only showing top 20 rows\n",
            "\n"
          ]
        }
      ]
    },
    {
      "cell_type": "markdown",
      "source": [
        "# Preparação dos dados / Data preparation"
      ],
      "metadata": {
        "id": "kGqifLiAZrqF"
      }
    },
    {
      "cell_type": "code",
      "source": [
        "dados_anuncio = dados\\\n",
        "  .select('anuncio.*')"
      ],
      "metadata": {
        "id": "fU5NF5wLfvwG"
      },
      "execution_count": 9,
      "outputs": []
    },
    {
      "cell_type": "code",
      "source": [
        "dados_anuncio.show(20, False)"
      ],
      "metadata": {
        "colab": {
          "base_uri": "https://localhost:8080/"
        },
        "id": "r5hSKw7IgtFX",
        "outputId": "bde9232b-4303-407e-a156-2d9fd2414ea0"
      },
      "execution_count": 10,
      "outputs": [
        {
          "output_type": "stream",
          "name": "stdout",
          "text": [
            "+-----+----------+---------+---------+-------------------------------------------------------------------------------------------------------------------------------+-----------------------------------------------------------------------------------------------------------------------------+------------------------------------+-------+------+------------+------------+-----------+----+----------------------------+\n",
            "|andar|area_total|area_util|banheiros|caracteristicas                                                                                                                |endereco                                                                                                                     |id                                  |quartos|suites|tipo_anuncio|tipo_unidade|tipo_uso   |vaga|valores                     |\n",
            "+-----+----------+---------+---------+-------------------------------------------------------------------------------------------------------------------------------+-----------------------------------------------------------------------------------------------------------------------------+------------------------------------+-------+------+------------+------------+-----------+----+----------------------------+\n",
            "|0    |[]        |[16]     |[0]      |[]                                                                                                                             |{Centro, 20061003, Rio de Janeiro, Rio de Janeiro, -22.906082, -43.18671, BR, Rua Buenos Aires, Zona Central}                |47d553e0-79f2-4a46-9390-5a3c962740c2|[0]    |[0]   |Usado       |Outros      |Comercial  |[1] |[{260, 107, Venda, 10000}]  |\n",
            "|0    |[]        |[14]     |[0]      |[]                                                                                                                             |{Centro, 20051040, Rio de Janeiro, Rio de Janeiro, -22.902536, -43.18434, BR, Avenida Passos, Zona Central}                  |b6ffbae1-17f6-4870-9950-e998ac1c8d6a|[0]    |[]    |Usado       |Outros      |Comercial  |[0] |[{260, 107, Venda, 10000}]  |\n",
            "|0    |[1026]    |[1026]   |[0]      |[]                                                                                                                             |{Maria da Graça, 20785360, Rio de Janeiro, Rio de Janeiro, -22.885516, -43.269083, BR, Rua Luís de Brito, Zona Norte}        |1fb030a5-9e3e-4a1d-93cd-cd2d8a215e11|[0]    |[]    |Usado       |Outros      |Comercial  |[0] |[{null, 1613, Venda, 10000}]|\n",
            "|0    |[120]     |[120]    |[0]      |[Portão eletrônico, Condomínio fechado]                                                                                        |{Campo Grande, 23095071, Rio de Janeiro, Rio de Janeiro, -22.885028, -43.561668, BR, Estrada Guandu do Sape, Zona Oeste}     |ac6cb348-69d6-45af-9589-dc34099370d8|[0]    |[]    |Usado       |Outros      |Residencial|[]  |[{80, null, Venda, 10000}]  |\n",
            "|0    |[3]       |[3]      |[0]      |[]                                                                                                                             |{São Cristóvão, 20931670, Rio de Janeiro, Rio de Janeiro, -22.885912, -43.219296, BR, Rua Monsenhor Manuel Gomes, Zona Norte}|e032b908-ef42-4d4a-8125-eba4792bacbe|[0]    |[]    |Usado       |Outros      |Residencial|[]  |[{0, 0, Venda, 5000}]       |\n",
            "|0    |[20]      |[15]     |[1]      |[]                                                                                                                             |{Centro, 20231047, Rio de Janeiro, Rio de Janeiro, -22.913152, -43.184043, BR, Rua dos Inválidos, Zona Central}              |df9cf0b8-b972-4334-88c9-87ef528806df|[0]    |[]    |Usado       |Outros      |Comercial  |[1] |[{223, 87, Venda, 18500}]   |\n",
            "|3    |[43]      |[43]     |[1]      |[Academia, Churrasqueira, Playground, Salão de festas, Condomínio fechado, Portão eletrônico, Portaria 24h, Animais permitidos]|{Paciência, 23585430, Rio de Janeiro, Rio de Janeiro, -22.919851, -43.634034, BR, Estrada de Santa Eugênia, Zona Oeste}      |d2e3a3aa-09b5-45a0-9dcd-918847cd3ca3|[2]    |[]    |Usado       |Apartamento |Residencial|[1] |[{245, null, Venda, 15000}] |\n",
            "|2    |[42]      |[42]     |[1]      |[Churrasqueira, Playground, Salão de festas, Condomínio fechado, Portão eletrônico, Portaria 24h, Animais permitidos]          |{Paciência, 23585430, Rio de Janeiro, Rio de Janeiro, -22.928108, -43.635375, BR, Estrada de Santa Eugênia, Zona Oeste}      |085bab2c-87ad-452a-bd0f-8b1451509f84|[2]    |[]    |Usado       |Apartamento |Residencial|[1] |[{0, 0, Venda, 15000}]      |\n",
            "|0    |[]        |[12]     |[0]      |[Portaria 24h, Elevador]                                                                                                       |{Centro, 20231047, Rio de Janeiro, Rio de Janeiro, -22.913152, -43.184043, BR, Rua dos Inválidos, Zona Central}              |096ad966-dc36-47bf-8795-5604f078713a|[0]    |[]    |Usado       |Outros      |Comercial  |[1] |[{250, null, Venda, 20000}] |\n",
            "|1    |[41]      |[41]     |[1]      |[Portaria 24h, Condomínio fechado, Playground, Salão de festas, Churrasqueira, Portão eletrônico]                              |{Guaratiba, 23036060, Rio de Janeiro, Rio de Janeiro, -22.948756, -43.582824, BR, Estrada Cabuçu de Baixo, Zona Oeste}       |18d22cbe-1b86-4764-8def-70c615f15a61|[2]    |[]    |Usado       |Apartamento |Residencial|[1] |[{0, 0, Venda, 20000}]      |\n",
            "|3    |[43]      |[43]     |[1]      |[Churrasqueira, Piscina, Playground, Salão de festas, Condomínio fechado, Portão eletrônico, Portaria 24h, Animais permitidos] |{Cosmos, 23066271, Rio de Janeiro, Rio de Janeiro, -22.888194, -43.629602, BR, Estrada da Paciência, Zona Oeste}             |bed8a354-9317-4426-b27e-1c798f864271|[2]    |[]    |Usado       |Apartamento |Residencial|[0] |[{285, null, Venda, 20000}] |\n",
            "|0    |[10]      |[4]      |[0]      |[Elevador, Portaria 24h]                                                                                                       |{Centro, 20080021, Rio de Janeiro, Rio de Janeiro, -22.900167, -43.183256, BR, Rua dos Andradas, Zona Central}               |b7d0fbd3-0b28-4203-b7d2-5a63b6f6f7aa|[0]    |[]    |Usado       |Outros      |Comercial  |[0] |[{200, 86, Venda, 11500}]   |\n",
            "|0    |[12]      |[12]     |[1]      |[Portaria 24h]                                                                                                                 |{Copacabana, 22021010, Rio de Janeiro, Rio de Janeiro, -22.965218, -43.179086, BR, Rua Ministro Viveiros de Castro, Zona Sul}|c6571c11-166e-4a4c-acdf-10da35afd5fa|[0]    |[]    |Usado       |Outros      |Comercial  |[]  |[{470, null, Venda, 12000}] |\n",
            "|0    |[17]      |[17]     |[0]      |[Elevador]                                                                                                                     |{Centro, 20070021, Rio de Janeiro, Rio de Janeiro, -22.902503, -43.177944, BR, Rua Buenos Aires, Zona Central}               |46d5b560-205f-45fe-9223-f2a4db04545c|[0]    |[]    |Usado       |Outros      |Comercial  |[1] |[{294, 98, Venda, 18000}]   |\n",
            "|1    |[32]      |[32]     |[]       |[Elevador, Condomínio fechado, Portão eletrônico]                                                                              |{Centro, 20090020, Rio de Janeiro, Rio de Janeiro, -22.898297, -43.178573, BR, Rua Cortines Laxe, Zona Central}              |db197997-00e6-4d6d-8066-45cbbf3ac56c|[]     |[]    |Usado       |Outros      |Comercial  |[1] |[{684, null, Venda, 15000}] |\n",
            "|0    |[]        |[10]     |[0]      |[Elevador, Condomínio fechado, Portão eletrônico, Portaria 24h]                                                                |{Saúde, 20080040, Rio de Janeiro, Rio de Janeiro, -22.899571, -43.184864, BR, Travessa Coronel Julião, Zona Central}         |835d4338-4aa9-4e46-8a19-c7a31b387ce5|[0]    |[]    |Usado       |Outros      |Comercial  |[]  |[{0, 120, Venda, 20000}]    |\n",
            "|2    |[43]      |[43]     |[1]      |[Academia, Churrasqueira, Playground, Salão de festas, Condomínio fechado, Portão eletrônico, Portaria 24h, Animais permitidos]|{Guaratiba, 23036060, Rio de Janeiro, Rio de Janeiro, -22.948291, -43.582205, BR, Estrada Cabuçu de Baixo, Zona Oeste}       |12a13315-d67f-48f0-9497-017b83252781|[2]    |[]    |Usado       |Apartamento |Residencial|[1] |[{245, null, Venda, 15000}] |\n",
            "|3    |[43]      |[43]     |[1]      |[Churrasqueira, Piscina, Playground, Salão de festas, Condomínio fechado, Portaria 24h, Portão eletrônico, Animais permitidos] |{Cosmos, 23066271, Rio de Janeiro, Rio de Janeiro, -22.888194, -43.629602, BR, Estrada da Paciência, Zona Oeste}             |a2e6d7a5-0ff0-484d-b3d8-3a8f15e2d80e|[2]    |[0]   |Usado       |Apartamento |Residencial|[0] |[{285, null, Venda, 20000}] |\n",
            "|3    |[43]      |[43]     |[1]      |[Churrasqueira, Playground, Salão de festas, Condomínio fechado, Portão eletrônico, Portaria 24h, Animais permitidos]          |{Paciência, 23585430, Rio de Janeiro, Rio de Janeiro, -22.919851, -43.634034, BR, Estrada de Santa Eugênia, Zona Oeste}      |a6e3173b-c950-4db4-9b7b-80c44bd75e90|[2]    |[]    |Usado       |Apartamento |Residencial|[1] |[{250, null, Venda, 15000}] |\n",
            "|3    |[43]      |[43]     |[1]      |[Churrasqueira, Playground, Salão de festas, Condomínio fechado, Portão eletrônico, Animais permitidos]                        |{Guaratiba, 23036060, Rio de Janeiro, Rio de Janeiro, -22.948291, -43.582205, BR, Estrada Cabuçu de Baixo, Zona Oeste}       |2e6e5dfb-206c-4968-944b-ea4c3918b50d|[2]    |[0]   |Usado       |Apartamento |Residencial|[1] |[{245, null, Venda, 15000}] |\n",
            "+-----+----------+---------+---------+-------------------------------------------------------------------------------------------------------------------------------+-----------------------------------------------------------------------------------------------------------------------------+------------------------------------+-------+------+------------+------------+-----------+----+----------------------------+\n",
            "only showing top 20 rows\n",
            "\n"
          ]
        }
      ]
    },
    {
      "cell_type": "code",
      "source": [
        "dados_anuncio = dados_anuncio\\\n",
        "  .select(\"*\")\\\n",
        "  .where(\"tipo_uso = 'Residencial'\")\\\n",
        "  .where(\"tipo_unidade = 'Apartamento'\")\\\n",
        "  .where(\"tipo_anuncio = 'Usado'\")\n",
        "\n",
        "dados_anuncio.show(20, False)"
      ],
      "metadata": {
        "colab": {
          "base_uri": "https://localhost:8080/"
        },
        "id": "mS_IBSmEhKSz",
        "outputId": "3e3da376-5963-4c67-f35f-de1a7509b0f8"
      },
      "execution_count": 11,
      "outputs": [
        {
          "output_type": "stream",
          "name": "stdout",
          "text": [
            "+-----+----------+---------+---------+--------------------------------------------------------------------------------------------------------------------------------------------------+-------------------------------------------------------------------------------------------------------------------------------------+------------------------------------+-------+------+------------+------------+-----------+----+----------------------------+\n",
            "|andar|area_total|area_util|banheiros|caracteristicas                                                                                                                                   |endereco                                                                                                                             |id                                  |quartos|suites|tipo_anuncio|tipo_unidade|tipo_uso   |vaga|valores                     |\n",
            "+-----+----------+---------+---------+--------------------------------------------------------------------------------------------------------------------------------------------------+-------------------------------------------------------------------------------------------------------------------------------------+------------------------------------+-------+------+------------+------------+-----------+----+----------------------------+\n",
            "|3    |[43]      |[43]     |[1]      |[Academia, Churrasqueira, Playground, Salão de festas, Condomínio fechado, Portão eletrônico, Portaria 24h, Animais permitidos]                   |{Paciência, 23585430, Rio de Janeiro, Rio de Janeiro, -22.919851, -43.634034, BR, Estrada de Santa Eugênia, Zona Oeste}              |d2e3a3aa-09b5-45a0-9dcd-918847cd3ca3|[2]    |[]    |Usado       |Apartamento |Residencial|[1] |[{245, null, Venda, 15000}] |\n",
            "|2    |[42]      |[42]     |[1]      |[Churrasqueira, Playground, Salão de festas, Condomínio fechado, Portão eletrônico, Portaria 24h, Animais permitidos]                             |{Paciência, 23585430, Rio de Janeiro, Rio de Janeiro, -22.928108, -43.635375, BR, Estrada de Santa Eugênia, Zona Oeste}              |085bab2c-87ad-452a-bd0f-8b1451509f84|[2]    |[]    |Usado       |Apartamento |Residencial|[1] |[{0, 0, Venda, 15000}]      |\n",
            "|1    |[41]      |[41]     |[1]      |[Portaria 24h, Condomínio fechado, Playground, Salão de festas, Churrasqueira, Portão eletrônico]                                                 |{Guaratiba, 23036060, Rio de Janeiro, Rio de Janeiro, -22.948756, -43.582824, BR, Estrada Cabuçu de Baixo, Zona Oeste}               |18d22cbe-1b86-4764-8def-70c615f15a61|[2]    |[]    |Usado       |Apartamento |Residencial|[1] |[{0, 0, Venda, 20000}]      |\n",
            "|3    |[43]      |[43]     |[1]      |[Churrasqueira, Piscina, Playground, Salão de festas, Condomínio fechado, Portão eletrônico, Portaria 24h, Animais permitidos]                    |{Cosmos, 23066271, Rio de Janeiro, Rio de Janeiro, -22.888194, -43.629602, BR, Estrada da Paciência, Zona Oeste}                     |bed8a354-9317-4426-b27e-1c798f864271|[2]    |[]    |Usado       |Apartamento |Residencial|[0] |[{285, null, Venda, 20000}] |\n",
            "|2    |[43]      |[43]     |[1]      |[Academia, Churrasqueira, Playground, Salão de festas, Condomínio fechado, Portão eletrônico, Portaria 24h, Animais permitidos]                   |{Guaratiba, 23036060, Rio de Janeiro, Rio de Janeiro, -22.948291, -43.582205, BR, Estrada Cabuçu de Baixo, Zona Oeste}               |12a13315-d67f-48f0-9497-017b83252781|[2]    |[]    |Usado       |Apartamento |Residencial|[1] |[{245, null, Venda, 15000}] |\n",
            "|3    |[43]      |[43]     |[1]      |[Churrasqueira, Piscina, Playground, Salão de festas, Condomínio fechado, Portaria 24h, Portão eletrônico, Animais permitidos]                    |{Cosmos, 23066271, Rio de Janeiro, Rio de Janeiro, -22.888194, -43.629602, BR, Estrada da Paciência, Zona Oeste}                     |a2e6d7a5-0ff0-484d-b3d8-3a8f15e2d80e|[2]    |[0]   |Usado       |Apartamento |Residencial|[0] |[{285, null, Venda, 20000}] |\n",
            "|3    |[43]      |[43]     |[1]      |[Churrasqueira, Playground, Salão de festas, Condomínio fechado, Portão eletrônico, Portaria 24h, Animais permitidos]                             |{Paciência, 23585430, Rio de Janeiro, Rio de Janeiro, -22.919851, -43.634034, BR, Estrada de Santa Eugênia, Zona Oeste}              |a6e3173b-c950-4db4-9b7b-80c44bd75e90|[2]    |[]    |Usado       |Apartamento |Residencial|[1] |[{250, null, Venda, 15000}] |\n",
            "|3    |[43]      |[43]     |[1]      |[Churrasqueira, Playground, Salão de festas, Condomínio fechado, Portão eletrônico, Animais permitidos]                                           |{Guaratiba, 23036060, Rio de Janeiro, Rio de Janeiro, -22.948291, -43.582205, BR, Estrada Cabuçu de Baixo, Zona Oeste}               |2e6e5dfb-206c-4968-944b-ea4c3918b50d|[2]    |[0]   |Usado       |Apartamento |Residencial|[1] |[{245, null, Venda, 15000}] |\n",
            "|3    |[43]      |[43]     |[1]      |[Churrasqueira, Playground, Salão de festas, Condomínio fechado, Portão eletrônico, Portaria 24h, Animais permitidos]                             |{Paciência, 23585430, Rio de Janeiro, Rio de Janeiro, -22.919851, -43.634034, BR, Estrada de Santa Eugênia, Zona Oeste}              |99f8d0f9-95a4-4613-a55d-c949e7a73e90|[2]    |[0]   |Usado       |Apartamento |Residencial|[1] |[{245, null, Venda, 15000}] |\n",
            "|4    |[43]      |[43]     |[1]      |[Churrasqueira, Playground, Salão de festas, Condomínio fechado, Portão eletrônico, Portaria 24h, Animais permitidos]                             |{Guaratiba, 23036060, Rio de Janeiro, Rio de Janeiro, -22.948291, -43.582205, BR, Estrada Cabuçu de Baixo, Zona Oeste}               |b3f44c1a-2d50-4d56-b1fb-a94d59b55ab8|[2]    |[]    |Usado       |Apartamento |Residencial|[1] |[{240, null, Venda, 17999}] |\n",
            "|0    |[60]      |[60]     |[1]      |[Condomínio fechado]                                                                                                                              |{Pedra de Guaratiba, 23025018, Rio de Janeiro, Rio de Janeiro, -22.991393, -43.628042, BR, Rua Cento e Trinta e Três, Zona Oeste}    |dc99d9e1-4c63-41f7-a53d-678b2b3ccb52|[2]    |[]    |Usado       |Apartamento |Residencial|[1] |[{0, 0, Venda, 15000}]      |\n",
            "|1    |[43]      |[43]     |[1]      |[Churrasqueira, Playground, Salão de festas, Condomínio fechado, Portão eletrônico, Portaria 24h]                                                 |{Cosmos, 23056630, Rio de Janeiro, Rio de Janeiro, -22.918594, -43.611184, BR, Rua das Amoreiras, Zona Oeste}                        |aa3606d8-8bcd-45ec-a609-d68a58a12014|[2]    |[]    |Usado       |Apartamento |Residencial|[1] |[{240, 0, Venda, 19999}]    |\n",
            "|0    |[43]      |[43]     |[1]      |[Churrasqueira, Playground, Salão de festas, Condomínio fechado, Portão eletrônico, Portaria 24h, Animais permitidos]                             |{Campo Grande, 23070600, Rio de Janeiro, Rio de Janeiro, -22.883694, -43.593646, BR, Rua Constituinte, Zona Oeste}                   |df80b0d5-677c-4be7-93c4-ddef578125ac|[2]    |[0]   |Usado       |Apartamento |Residencial|[0] |[{245, null, Venda, 19999}] |\n",
            "|2    |[43]      |[43]     |[1]      |[Academia, Churrasqueira, Piscina, Playground, Salão de festas, Condomínio fechado, Portão eletrônico, Portaria 24h, Animais permitidos]          |{Santa Cruz, 23520560, Rio de Janeiro, Rio de Janeiro, -22.945648, -43.640029, BR, Estrada de Santa Eugênia, Zona Oeste}             |3d6c0218-9b7d-474b-9a44-cd3e005375f9|[2]    |[]    |Usado       |Apartamento |Residencial|[2] |[{290, null, Venda, 25000}] |\n",
            "|3    |[43]      |[43]     |[1]      |[Salão de festas, Playground, Condomínio fechado, Portão eletrônico, Portaria 24h, Animais permitidos]                                            |{Guaratiba, 23020135, Rio de Janeiro, Rio de Janeiro, -22.936475, -43.583306, BR, Rua Seis de Julho, Zona Oeste}                     |304266cc-62d1-4ce7-909b-21198c306839|[2]    |[]    |Usado       |Apartamento |Residencial|[]  |[{285, null, Venda, 29999}] |\n",
            "|4    |[55]      |[55]     |[2]      |[Academia, Churrasqueira, Piscina, Playground, Salão de festas, Elevador, Condomínio fechado, Portão eletrônico, Portaria 24h, Animais permitidos]|{Recreio dos Bandeirantes, 22790880, Rio de Janeiro, Rio de Janeiro, -23.022323, -43.509961, BR, Rua Luiz Carlos Sarolli, Zona Oeste}|111472a2-afa1-4a73-a8b3-3588ffba362c|[2]    |[1]   |Usado       |Apartamento |Residencial|[1] |[{0, 0, Venda, 30000}]      |\n",
            "|0    |[45]      |[45]     |[1]      |[Playground, Piscina, Churrasqueira, Salão de festas, Condomínio fechado]                                                                         |{Cosmos, 23066271, Rio de Janeiro, Rio de Janeiro, -22.88939, -43.629587, BR, Estrada da Paciência, Zona Oeste}                      |275c1589-6537-4bf7-9504-74410dbf01fc|[2]    |[0]   |Usado       |Apartamento |Residencial|[1] |[{null, null, Venda, 30000}]|\n",
            "|5    |[42]      |[42]     |[1]      |[Condomínio fechado, Portaria 24h, Salão de festas, Portão eletrônico, Animais permitidos]                                                        |{Realengo, 21725180, Rio de Janeiro, Rio de Janeiro, -22.857776, -43.448282, BR, Rua Hélio do Amaral, Zona Oeste}                    |ab8f367f-7509-45c7-ad9a-f51f84584376|[2]    |[0]   |Usado       |Apartamento |Residencial|[0] |[{280, 0, Venda, 25000}]    |\n",
            "|1    |[43]      |[43]     |[1]      |[Churrasqueira, Playground, Salão de festas, Condomínio fechado, Portão eletrônico, Portaria 24h, Animais permitidos]                             |{Cosmos, 23058001, Rio de Janeiro, Rio de Janeiro, -22.915615, -43.61736, BR, Avenida Cesário de Melo, Zona Oeste}                   |e0a3d370-66dd-4f50-a3d9-cf09c8212318|[2]    |[]    |Usado       |Apartamento |Residencial|[1] |[{280, null, Venda, 27999}] |\n",
            "|3    |[]        |[55]     |[1]      |[Academia, Churrasqueira, Piscina, Playground, Salão de festas, Elevador, Condomínio fechado, Portão eletrônico, Portaria 24h, Animais permitidos]|{Todos os Santos, 20770240, Rio de Janeiro, Rio de Janeiro, -22.896488, -43.282714, BR, Rua José Bonifácio, Zona Norte}              |09c8ba2d-dbf1-4879-ba5b-1345355dc415|[2]    |[1]   |Usado       |Apartamento |Residencial|[1] |[{0, 0, Venda, 26000}]      |\n",
            "+-----+----------+---------+---------+--------------------------------------------------------------------------------------------------------------------------------------------------+-------------------------------------------------------------------------------------------------------------------------------------+------------------------------------+-------+------+------------+------------+-----------+----+----------------------------+\n",
            "only showing top 20 rows\n",
            "\n"
          ]
        }
      ]
    },
    {
      "cell_type": "code",
      "source": [
        "\n",
        "\n",
        "dados_anuncio = dados_anuncio\\\n",
        "  .withColumn('area_total', dados_anuncio['area_total'][0].cast(IntegerType()))\\\n",
        "  .withColumn('area_util', dados_anuncio['area_util'][0].cast(IntegerType()))\\\n",
        "  .withColumn('banheiros', dados_anuncio['banheiros'][0].cast(IntegerType()))\\\n",
        "  .withColumn('quartos', dados_anuncio['quartos'][0].cast(IntegerType()))\\\n",
        "  .withColumn('suites', dados_anuncio['suites'][0].cast(IntegerType()))\\\n",
        "  .withColumn('vaga', dados_anuncio['vaga'][0].cast(IntegerType()))\n",
        "\n",
        "dados_anuncio.show(20, False)"
      ],
      "metadata": {
        "colab": {
          "base_uri": "https://localhost:8080/"
        },
        "id": "U3yEaQZ-itjL",
        "outputId": "adcec6bb-a718-4c14-97dd-2b72dbaef792"
      },
      "execution_count": 12,
      "outputs": [
        {
          "output_type": "stream",
          "name": "stdout",
          "text": [
            "+-----+----------+---------+---------+--------------------------------------------------------------------------------------------------------------------------------------------------+-------------------------------------------------------------------------------------------------------------------------------------+------------------------------------+-------+------+------------+------------+-----------+----+----------------------------+\n",
            "|andar|area_total|area_util|banheiros|caracteristicas                                                                                                                                   |endereco                                                                                                                             |id                                  |quartos|suites|tipo_anuncio|tipo_unidade|tipo_uso   |vaga|valores                     |\n",
            "+-----+----------+---------+---------+--------------------------------------------------------------------------------------------------------------------------------------------------+-------------------------------------------------------------------------------------------------------------------------------------+------------------------------------+-------+------+------------+------------+-----------+----+----------------------------+\n",
            "|3    |43        |43       |1        |[Academia, Churrasqueira, Playground, Salão de festas, Condomínio fechado, Portão eletrônico, Portaria 24h, Animais permitidos]                   |{Paciência, 23585430, Rio de Janeiro, Rio de Janeiro, -22.919851, -43.634034, BR, Estrada de Santa Eugênia, Zona Oeste}              |d2e3a3aa-09b5-45a0-9dcd-918847cd3ca3|2      |null  |Usado       |Apartamento |Residencial|1   |[{245, null, Venda, 15000}] |\n",
            "|2    |42        |42       |1        |[Churrasqueira, Playground, Salão de festas, Condomínio fechado, Portão eletrônico, Portaria 24h, Animais permitidos]                             |{Paciência, 23585430, Rio de Janeiro, Rio de Janeiro, -22.928108, -43.635375, BR, Estrada de Santa Eugênia, Zona Oeste}              |085bab2c-87ad-452a-bd0f-8b1451509f84|2      |null  |Usado       |Apartamento |Residencial|1   |[{0, 0, Venda, 15000}]      |\n",
            "|1    |41        |41       |1        |[Portaria 24h, Condomínio fechado, Playground, Salão de festas, Churrasqueira, Portão eletrônico]                                                 |{Guaratiba, 23036060, Rio de Janeiro, Rio de Janeiro, -22.948756, -43.582824, BR, Estrada Cabuçu de Baixo, Zona Oeste}               |18d22cbe-1b86-4764-8def-70c615f15a61|2      |null  |Usado       |Apartamento |Residencial|1   |[{0, 0, Venda, 20000}]      |\n",
            "|3    |43        |43       |1        |[Churrasqueira, Piscina, Playground, Salão de festas, Condomínio fechado, Portão eletrônico, Portaria 24h, Animais permitidos]                    |{Cosmos, 23066271, Rio de Janeiro, Rio de Janeiro, -22.888194, -43.629602, BR, Estrada da Paciência, Zona Oeste}                     |bed8a354-9317-4426-b27e-1c798f864271|2      |null  |Usado       |Apartamento |Residencial|0   |[{285, null, Venda, 20000}] |\n",
            "|2    |43        |43       |1        |[Academia, Churrasqueira, Playground, Salão de festas, Condomínio fechado, Portão eletrônico, Portaria 24h, Animais permitidos]                   |{Guaratiba, 23036060, Rio de Janeiro, Rio de Janeiro, -22.948291, -43.582205, BR, Estrada Cabuçu de Baixo, Zona Oeste}               |12a13315-d67f-48f0-9497-017b83252781|2      |null  |Usado       |Apartamento |Residencial|1   |[{245, null, Venda, 15000}] |\n",
            "|3    |43        |43       |1        |[Churrasqueira, Piscina, Playground, Salão de festas, Condomínio fechado, Portaria 24h, Portão eletrônico, Animais permitidos]                    |{Cosmos, 23066271, Rio de Janeiro, Rio de Janeiro, -22.888194, -43.629602, BR, Estrada da Paciência, Zona Oeste}                     |a2e6d7a5-0ff0-484d-b3d8-3a8f15e2d80e|2      |0     |Usado       |Apartamento |Residencial|0   |[{285, null, Venda, 20000}] |\n",
            "|3    |43        |43       |1        |[Churrasqueira, Playground, Salão de festas, Condomínio fechado, Portão eletrônico, Portaria 24h, Animais permitidos]                             |{Paciência, 23585430, Rio de Janeiro, Rio de Janeiro, -22.919851, -43.634034, BR, Estrada de Santa Eugênia, Zona Oeste}              |a6e3173b-c950-4db4-9b7b-80c44bd75e90|2      |null  |Usado       |Apartamento |Residencial|1   |[{250, null, Venda, 15000}] |\n",
            "|3    |43        |43       |1        |[Churrasqueira, Playground, Salão de festas, Condomínio fechado, Portão eletrônico, Animais permitidos]                                           |{Guaratiba, 23036060, Rio de Janeiro, Rio de Janeiro, -22.948291, -43.582205, BR, Estrada Cabuçu de Baixo, Zona Oeste}               |2e6e5dfb-206c-4968-944b-ea4c3918b50d|2      |0     |Usado       |Apartamento |Residencial|1   |[{245, null, Venda, 15000}] |\n",
            "|3    |43        |43       |1        |[Churrasqueira, Playground, Salão de festas, Condomínio fechado, Portão eletrônico, Portaria 24h, Animais permitidos]                             |{Paciência, 23585430, Rio de Janeiro, Rio de Janeiro, -22.919851, -43.634034, BR, Estrada de Santa Eugênia, Zona Oeste}              |99f8d0f9-95a4-4613-a55d-c949e7a73e90|2      |0     |Usado       |Apartamento |Residencial|1   |[{245, null, Venda, 15000}] |\n",
            "|4    |43        |43       |1        |[Churrasqueira, Playground, Salão de festas, Condomínio fechado, Portão eletrônico, Portaria 24h, Animais permitidos]                             |{Guaratiba, 23036060, Rio de Janeiro, Rio de Janeiro, -22.948291, -43.582205, BR, Estrada Cabuçu de Baixo, Zona Oeste}               |b3f44c1a-2d50-4d56-b1fb-a94d59b55ab8|2      |null  |Usado       |Apartamento |Residencial|1   |[{240, null, Venda, 17999}] |\n",
            "|0    |60        |60       |1        |[Condomínio fechado]                                                                                                                              |{Pedra de Guaratiba, 23025018, Rio de Janeiro, Rio de Janeiro, -22.991393, -43.628042, BR, Rua Cento e Trinta e Três, Zona Oeste}    |dc99d9e1-4c63-41f7-a53d-678b2b3ccb52|2      |null  |Usado       |Apartamento |Residencial|1   |[{0, 0, Venda, 15000}]      |\n",
            "|1    |43        |43       |1        |[Churrasqueira, Playground, Salão de festas, Condomínio fechado, Portão eletrônico, Portaria 24h]                                                 |{Cosmos, 23056630, Rio de Janeiro, Rio de Janeiro, -22.918594, -43.611184, BR, Rua das Amoreiras, Zona Oeste}                        |aa3606d8-8bcd-45ec-a609-d68a58a12014|2      |null  |Usado       |Apartamento |Residencial|1   |[{240, 0, Venda, 19999}]    |\n",
            "|0    |43        |43       |1        |[Churrasqueira, Playground, Salão de festas, Condomínio fechado, Portão eletrônico, Portaria 24h, Animais permitidos]                             |{Campo Grande, 23070600, Rio de Janeiro, Rio de Janeiro, -22.883694, -43.593646, BR, Rua Constituinte, Zona Oeste}                   |df80b0d5-677c-4be7-93c4-ddef578125ac|2      |0     |Usado       |Apartamento |Residencial|0   |[{245, null, Venda, 19999}] |\n",
            "|2    |43        |43       |1        |[Academia, Churrasqueira, Piscina, Playground, Salão de festas, Condomínio fechado, Portão eletrônico, Portaria 24h, Animais permitidos]          |{Santa Cruz, 23520560, Rio de Janeiro, Rio de Janeiro, -22.945648, -43.640029, BR, Estrada de Santa Eugênia, Zona Oeste}             |3d6c0218-9b7d-474b-9a44-cd3e005375f9|2      |null  |Usado       |Apartamento |Residencial|2   |[{290, null, Venda, 25000}] |\n",
            "|3    |43        |43       |1        |[Salão de festas, Playground, Condomínio fechado, Portão eletrônico, Portaria 24h, Animais permitidos]                                            |{Guaratiba, 23020135, Rio de Janeiro, Rio de Janeiro, -22.936475, -43.583306, BR, Rua Seis de Julho, Zona Oeste}                     |304266cc-62d1-4ce7-909b-21198c306839|2      |null  |Usado       |Apartamento |Residencial|null|[{285, null, Venda, 29999}] |\n",
            "|4    |55        |55       |2        |[Academia, Churrasqueira, Piscina, Playground, Salão de festas, Elevador, Condomínio fechado, Portão eletrônico, Portaria 24h, Animais permitidos]|{Recreio dos Bandeirantes, 22790880, Rio de Janeiro, Rio de Janeiro, -23.022323, -43.509961, BR, Rua Luiz Carlos Sarolli, Zona Oeste}|111472a2-afa1-4a73-a8b3-3588ffba362c|2      |1     |Usado       |Apartamento |Residencial|1   |[{0, 0, Venda, 30000}]      |\n",
            "|0    |45        |45       |1        |[Playground, Piscina, Churrasqueira, Salão de festas, Condomínio fechado]                                                                         |{Cosmos, 23066271, Rio de Janeiro, Rio de Janeiro, -22.88939, -43.629587, BR, Estrada da Paciência, Zona Oeste}                      |275c1589-6537-4bf7-9504-74410dbf01fc|2      |0     |Usado       |Apartamento |Residencial|1   |[{null, null, Venda, 30000}]|\n",
            "|5    |42        |42       |1        |[Condomínio fechado, Portaria 24h, Salão de festas, Portão eletrônico, Animais permitidos]                                                        |{Realengo, 21725180, Rio de Janeiro, Rio de Janeiro, -22.857776, -43.448282, BR, Rua Hélio do Amaral, Zona Oeste}                    |ab8f367f-7509-45c7-ad9a-f51f84584376|2      |0     |Usado       |Apartamento |Residencial|0   |[{280, 0, Venda, 25000}]    |\n",
            "|1    |43        |43       |1        |[Churrasqueira, Playground, Salão de festas, Condomínio fechado, Portão eletrônico, Portaria 24h, Animais permitidos]                             |{Cosmos, 23058001, Rio de Janeiro, Rio de Janeiro, -22.915615, -43.61736, BR, Avenida Cesário de Melo, Zona Oeste}                   |e0a3d370-66dd-4f50-a3d9-cf09c8212318|2      |null  |Usado       |Apartamento |Residencial|1   |[{280, null, Venda, 27999}] |\n",
            "|3    |null      |55       |1        |[Academia, Churrasqueira, Piscina, Playground, Salão de festas, Elevador, Condomínio fechado, Portão eletrônico, Portaria 24h, Animais permitidos]|{Todos os Santos, 20770240, Rio de Janeiro, Rio de Janeiro, -22.896488, -43.282714, BR, Rua José Bonifácio, Zona Norte}              |09c8ba2d-dbf1-4879-ba5b-1345355dc415|2      |1     |Usado       |Apartamento |Residencial|1   |[{0, 0, Venda, 26000}]      |\n",
            "+-----+----------+---------+---------+--------------------------------------------------------------------------------------------------------------------------------------------------+-------------------------------------------------------------------------------------------------------------------------------------+------------------------------------+-------+------+------------+------------+-----------+----+----------------------------+\n",
            "only showing top 20 rows\n",
            "\n"
          ]
        }
      ]
    },
    {
      "cell_type": "code",
      "source": [
        "dados_anuncio = dados_anuncio\\\n",
        "  .select(\"*\", \"endereco.bairro\", \"endereco.zona\")\\\n",
        "  .drop(\"endereco\")\n",
        "\n",
        "dados_anuncio.show(20, False)"
      ],
      "metadata": {
        "colab": {
          "base_uri": "https://localhost:8080/"
        },
        "id": "PcIRmRUrlJp-",
        "outputId": "dca39799-b953-4886-e981-a4fb4bc9426e"
      },
      "execution_count": 13,
      "outputs": [
        {
          "output_type": "stream",
          "name": "stdout",
          "text": [
            "+-----+----------+---------+---------+--------------------------------------------------------------------------------------------------------------------------------------------------+------------------------------------+-------+------+------------+------------+-----------+----+----------------------------+------------------------+----------+\n",
            "|andar|area_total|area_util|banheiros|caracteristicas                                                                                                                                   |id                                  |quartos|suites|tipo_anuncio|tipo_unidade|tipo_uso   |vaga|valores                     |bairro                  |zona      |\n",
            "+-----+----------+---------+---------+--------------------------------------------------------------------------------------------------------------------------------------------------+------------------------------------+-------+------+------------+------------+-----------+----+----------------------------+------------------------+----------+\n",
            "|3    |43        |43       |1        |[Academia, Churrasqueira, Playground, Salão de festas, Condomínio fechado, Portão eletrônico, Portaria 24h, Animais permitidos]                   |d2e3a3aa-09b5-45a0-9dcd-918847cd3ca3|2      |null  |Usado       |Apartamento |Residencial|1   |[{245, null, Venda, 15000}] |Paciência               |Zona Oeste|\n",
            "|2    |42        |42       |1        |[Churrasqueira, Playground, Salão de festas, Condomínio fechado, Portão eletrônico, Portaria 24h, Animais permitidos]                             |085bab2c-87ad-452a-bd0f-8b1451509f84|2      |null  |Usado       |Apartamento |Residencial|1   |[{0, 0, Venda, 15000}]      |Paciência               |Zona Oeste|\n",
            "|1    |41        |41       |1        |[Portaria 24h, Condomínio fechado, Playground, Salão de festas, Churrasqueira, Portão eletrônico]                                                 |18d22cbe-1b86-4764-8def-70c615f15a61|2      |null  |Usado       |Apartamento |Residencial|1   |[{0, 0, Venda, 20000}]      |Guaratiba               |Zona Oeste|\n",
            "|3    |43        |43       |1        |[Churrasqueira, Piscina, Playground, Salão de festas, Condomínio fechado, Portão eletrônico, Portaria 24h, Animais permitidos]                    |bed8a354-9317-4426-b27e-1c798f864271|2      |null  |Usado       |Apartamento |Residencial|0   |[{285, null, Venda, 20000}] |Cosmos                  |Zona Oeste|\n",
            "|2    |43        |43       |1        |[Academia, Churrasqueira, Playground, Salão de festas, Condomínio fechado, Portão eletrônico, Portaria 24h, Animais permitidos]                   |12a13315-d67f-48f0-9497-017b83252781|2      |null  |Usado       |Apartamento |Residencial|1   |[{245, null, Venda, 15000}] |Guaratiba               |Zona Oeste|\n",
            "|3    |43        |43       |1        |[Churrasqueira, Piscina, Playground, Salão de festas, Condomínio fechado, Portaria 24h, Portão eletrônico, Animais permitidos]                    |a2e6d7a5-0ff0-484d-b3d8-3a8f15e2d80e|2      |0     |Usado       |Apartamento |Residencial|0   |[{285, null, Venda, 20000}] |Cosmos                  |Zona Oeste|\n",
            "|3    |43        |43       |1        |[Churrasqueira, Playground, Salão de festas, Condomínio fechado, Portão eletrônico, Portaria 24h, Animais permitidos]                             |a6e3173b-c950-4db4-9b7b-80c44bd75e90|2      |null  |Usado       |Apartamento |Residencial|1   |[{250, null, Venda, 15000}] |Paciência               |Zona Oeste|\n",
            "|3    |43        |43       |1        |[Churrasqueira, Playground, Salão de festas, Condomínio fechado, Portão eletrônico, Animais permitidos]                                           |2e6e5dfb-206c-4968-944b-ea4c3918b50d|2      |0     |Usado       |Apartamento |Residencial|1   |[{245, null, Venda, 15000}] |Guaratiba               |Zona Oeste|\n",
            "|3    |43        |43       |1        |[Churrasqueira, Playground, Salão de festas, Condomínio fechado, Portão eletrônico, Portaria 24h, Animais permitidos]                             |99f8d0f9-95a4-4613-a55d-c949e7a73e90|2      |0     |Usado       |Apartamento |Residencial|1   |[{245, null, Venda, 15000}] |Paciência               |Zona Oeste|\n",
            "|4    |43        |43       |1        |[Churrasqueira, Playground, Salão de festas, Condomínio fechado, Portão eletrônico, Portaria 24h, Animais permitidos]                             |b3f44c1a-2d50-4d56-b1fb-a94d59b55ab8|2      |null  |Usado       |Apartamento |Residencial|1   |[{240, null, Venda, 17999}] |Guaratiba               |Zona Oeste|\n",
            "|0    |60        |60       |1        |[Condomínio fechado]                                                                                                                              |dc99d9e1-4c63-41f7-a53d-678b2b3ccb52|2      |null  |Usado       |Apartamento |Residencial|1   |[{0, 0, Venda, 15000}]      |Pedra de Guaratiba      |Zona Oeste|\n",
            "|1    |43        |43       |1        |[Churrasqueira, Playground, Salão de festas, Condomínio fechado, Portão eletrônico, Portaria 24h]                                                 |aa3606d8-8bcd-45ec-a609-d68a58a12014|2      |null  |Usado       |Apartamento |Residencial|1   |[{240, 0, Venda, 19999}]    |Cosmos                  |Zona Oeste|\n",
            "|0    |43        |43       |1        |[Churrasqueira, Playground, Salão de festas, Condomínio fechado, Portão eletrônico, Portaria 24h, Animais permitidos]                             |df80b0d5-677c-4be7-93c4-ddef578125ac|2      |0     |Usado       |Apartamento |Residencial|0   |[{245, null, Venda, 19999}] |Campo Grande            |Zona Oeste|\n",
            "|2    |43        |43       |1        |[Academia, Churrasqueira, Piscina, Playground, Salão de festas, Condomínio fechado, Portão eletrônico, Portaria 24h, Animais permitidos]          |3d6c0218-9b7d-474b-9a44-cd3e005375f9|2      |null  |Usado       |Apartamento |Residencial|2   |[{290, null, Venda, 25000}] |Santa Cruz              |Zona Oeste|\n",
            "|3    |43        |43       |1        |[Salão de festas, Playground, Condomínio fechado, Portão eletrônico, Portaria 24h, Animais permitidos]                                            |304266cc-62d1-4ce7-909b-21198c306839|2      |null  |Usado       |Apartamento |Residencial|null|[{285, null, Venda, 29999}] |Guaratiba               |Zona Oeste|\n",
            "|4    |55        |55       |2        |[Academia, Churrasqueira, Piscina, Playground, Salão de festas, Elevador, Condomínio fechado, Portão eletrônico, Portaria 24h, Animais permitidos]|111472a2-afa1-4a73-a8b3-3588ffba362c|2      |1     |Usado       |Apartamento |Residencial|1   |[{0, 0, Venda, 30000}]      |Recreio dos Bandeirantes|Zona Oeste|\n",
            "|0    |45        |45       |1        |[Playground, Piscina, Churrasqueira, Salão de festas, Condomínio fechado]                                                                         |275c1589-6537-4bf7-9504-74410dbf01fc|2      |0     |Usado       |Apartamento |Residencial|1   |[{null, null, Venda, 30000}]|Cosmos                  |Zona Oeste|\n",
            "|5    |42        |42       |1        |[Condomínio fechado, Portaria 24h, Salão de festas, Portão eletrônico, Animais permitidos]                                                        |ab8f367f-7509-45c7-ad9a-f51f84584376|2      |0     |Usado       |Apartamento |Residencial|0   |[{280, 0, Venda, 25000}]    |Realengo                |Zona Oeste|\n",
            "|1    |43        |43       |1        |[Churrasqueira, Playground, Salão de festas, Condomínio fechado, Portão eletrônico, Portaria 24h, Animais permitidos]                             |e0a3d370-66dd-4f50-a3d9-cf09c8212318|2      |null  |Usado       |Apartamento |Residencial|1   |[{280, null, Venda, 27999}] |Cosmos                  |Zona Oeste|\n",
            "|3    |null      |55       |1        |[Academia, Churrasqueira, Piscina, Playground, Salão de festas, Elevador, Condomínio fechado, Portão eletrônico, Portaria 24h, Animais permitidos]|09c8ba2d-dbf1-4879-ba5b-1345355dc415|2      |1     |Usado       |Apartamento |Residencial|1   |[{0, 0, Venda, 26000}]      |Todos os Santos         |Zona Norte|\n",
            "+-----+----------+---------+---------+--------------------------------------------------------------------------------------------------------------------------------------------------+------------------------------------+-------+------+------------+------------+-----------+----+----------------------------+------------------------+----------+\n",
            "only showing top 20 rows\n",
            "\n"
          ]
        }
      ]
    },
    {
      "cell_type": "code",
      "source": [
        "dados_anuncio = dados_anuncio\\\n",
        "  .select(\n",
        "      \"*\",\n",
        "      f.col(\"valores.iptu\").alias(\"valor_iptu\"),\n",
        "      f.col(\"valores.condominio\").alias(\"valor_condominio\"),\n",
        "      f.col(\"valores.tipo\").alias(\"valor_tipo\"),\n",
        "      f.col(\"valores.valor\").alias(\"valor_valor\")\n",
        "  )\\\n",
        "  .drop(\"valores\")\\\n",
        "  \n",
        "\n",
        "dados_anuncio.show(20, False)"
      ],
      "metadata": {
        "colab": {
          "base_uri": "https://localhost:8080/"
        },
        "id": "N2OFXkDcmf1v",
        "outputId": "10333cd9-4998-4037-a09e-2fdaf6ec38b6"
      },
      "execution_count": 14,
      "outputs": [
        {
          "output_type": "stream",
          "name": "stdout",
          "text": [
            "+-----+----------+---------+---------+--------------------------------------------------------------------------------------------------------------------------------------------------+------------------------------------+-------+------+------------+------------+-----------+----+------------------------+----------+----------+----------------+----------+-----------+\n",
            "|andar|area_total|area_util|banheiros|caracteristicas                                                                                                                                   |id                                  |quartos|suites|tipo_anuncio|tipo_unidade|tipo_uso   |vaga|bairro                  |zona      |valor_iptu|valor_condominio|valor_tipo|valor_valor|\n",
            "+-----+----------+---------+---------+--------------------------------------------------------------------------------------------------------------------------------------------------+------------------------------------+-------+------+------------+------------+-----------+----+------------------------+----------+----------+----------------+----------+-----------+\n",
            "|3    |43        |43       |1        |[Academia, Churrasqueira, Playground, Salão de festas, Condomínio fechado, Portão eletrônico, Portaria 24h, Animais permitidos]                   |d2e3a3aa-09b5-45a0-9dcd-918847cd3ca3|2      |null  |Usado       |Apartamento |Residencial|1   |Paciência               |Zona Oeste|[null]    |[245]           |[Venda]   |[15000]    |\n",
            "|2    |42        |42       |1        |[Churrasqueira, Playground, Salão de festas, Condomínio fechado, Portão eletrônico, Portaria 24h, Animais permitidos]                             |085bab2c-87ad-452a-bd0f-8b1451509f84|2      |null  |Usado       |Apartamento |Residencial|1   |Paciência               |Zona Oeste|[0]       |[0]             |[Venda]   |[15000]    |\n",
            "|1    |41        |41       |1        |[Portaria 24h, Condomínio fechado, Playground, Salão de festas, Churrasqueira, Portão eletrônico]                                                 |18d22cbe-1b86-4764-8def-70c615f15a61|2      |null  |Usado       |Apartamento |Residencial|1   |Guaratiba               |Zona Oeste|[0]       |[0]             |[Venda]   |[20000]    |\n",
            "|3    |43        |43       |1        |[Churrasqueira, Piscina, Playground, Salão de festas, Condomínio fechado, Portão eletrônico, Portaria 24h, Animais permitidos]                    |bed8a354-9317-4426-b27e-1c798f864271|2      |null  |Usado       |Apartamento |Residencial|0   |Cosmos                  |Zona Oeste|[null]    |[285]           |[Venda]   |[20000]    |\n",
            "|2    |43        |43       |1        |[Academia, Churrasqueira, Playground, Salão de festas, Condomínio fechado, Portão eletrônico, Portaria 24h, Animais permitidos]                   |12a13315-d67f-48f0-9497-017b83252781|2      |null  |Usado       |Apartamento |Residencial|1   |Guaratiba               |Zona Oeste|[null]    |[245]           |[Venda]   |[15000]    |\n",
            "|3    |43        |43       |1        |[Churrasqueira, Piscina, Playground, Salão de festas, Condomínio fechado, Portaria 24h, Portão eletrônico, Animais permitidos]                    |a2e6d7a5-0ff0-484d-b3d8-3a8f15e2d80e|2      |0     |Usado       |Apartamento |Residencial|0   |Cosmos                  |Zona Oeste|[null]    |[285]           |[Venda]   |[20000]    |\n",
            "|3    |43        |43       |1        |[Churrasqueira, Playground, Salão de festas, Condomínio fechado, Portão eletrônico, Portaria 24h, Animais permitidos]                             |a6e3173b-c950-4db4-9b7b-80c44bd75e90|2      |null  |Usado       |Apartamento |Residencial|1   |Paciência               |Zona Oeste|[null]    |[250]           |[Venda]   |[15000]    |\n",
            "|3    |43        |43       |1        |[Churrasqueira, Playground, Salão de festas, Condomínio fechado, Portão eletrônico, Animais permitidos]                                           |2e6e5dfb-206c-4968-944b-ea4c3918b50d|2      |0     |Usado       |Apartamento |Residencial|1   |Guaratiba               |Zona Oeste|[null]    |[245]           |[Venda]   |[15000]    |\n",
            "|3    |43        |43       |1        |[Churrasqueira, Playground, Salão de festas, Condomínio fechado, Portão eletrônico, Portaria 24h, Animais permitidos]                             |99f8d0f9-95a4-4613-a55d-c949e7a73e90|2      |0     |Usado       |Apartamento |Residencial|1   |Paciência               |Zona Oeste|[null]    |[245]           |[Venda]   |[15000]    |\n",
            "|4    |43        |43       |1        |[Churrasqueira, Playground, Salão de festas, Condomínio fechado, Portão eletrônico, Portaria 24h, Animais permitidos]                             |b3f44c1a-2d50-4d56-b1fb-a94d59b55ab8|2      |null  |Usado       |Apartamento |Residencial|1   |Guaratiba               |Zona Oeste|[null]    |[240]           |[Venda]   |[17999]    |\n",
            "|0    |60        |60       |1        |[Condomínio fechado]                                                                                                                              |dc99d9e1-4c63-41f7-a53d-678b2b3ccb52|2      |null  |Usado       |Apartamento |Residencial|1   |Pedra de Guaratiba      |Zona Oeste|[0]       |[0]             |[Venda]   |[15000]    |\n",
            "|1    |43        |43       |1        |[Churrasqueira, Playground, Salão de festas, Condomínio fechado, Portão eletrônico, Portaria 24h]                                                 |aa3606d8-8bcd-45ec-a609-d68a58a12014|2      |null  |Usado       |Apartamento |Residencial|1   |Cosmos                  |Zona Oeste|[0]       |[240]           |[Venda]   |[19999]    |\n",
            "|0    |43        |43       |1        |[Churrasqueira, Playground, Salão de festas, Condomínio fechado, Portão eletrônico, Portaria 24h, Animais permitidos]                             |df80b0d5-677c-4be7-93c4-ddef578125ac|2      |0     |Usado       |Apartamento |Residencial|0   |Campo Grande            |Zona Oeste|[null]    |[245]           |[Venda]   |[19999]    |\n",
            "|2    |43        |43       |1        |[Academia, Churrasqueira, Piscina, Playground, Salão de festas, Condomínio fechado, Portão eletrônico, Portaria 24h, Animais permitidos]          |3d6c0218-9b7d-474b-9a44-cd3e005375f9|2      |null  |Usado       |Apartamento |Residencial|2   |Santa Cruz              |Zona Oeste|[null]    |[290]           |[Venda]   |[25000]    |\n",
            "|3    |43        |43       |1        |[Salão de festas, Playground, Condomínio fechado, Portão eletrônico, Portaria 24h, Animais permitidos]                                            |304266cc-62d1-4ce7-909b-21198c306839|2      |null  |Usado       |Apartamento |Residencial|null|Guaratiba               |Zona Oeste|[null]    |[285]           |[Venda]   |[29999]    |\n",
            "|4    |55        |55       |2        |[Academia, Churrasqueira, Piscina, Playground, Salão de festas, Elevador, Condomínio fechado, Portão eletrônico, Portaria 24h, Animais permitidos]|111472a2-afa1-4a73-a8b3-3588ffba362c|2      |1     |Usado       |Apartamento |Residencial|1   |Recreio dos Bandeirantes|Zona Oeste|[0]       |[0]             |[Venda]   |[30000]    |\n",
            "|0    |45        |45       |1        |[Playground, Piscina, Churrasqueira, Salão de festas, Condomínio fechado]                                                                         |275c1589-6537-4bf7-9504-74410dbf01fc|2      |0     |Usado       |Apartamento |Residencial|1   |Cosmos                  |Zona Oeste|[null]    |[null]          |[Venda]   |[30000]    |\n",
            "|5    |42        |42       |1        |[Condomínio fechado, Portaria 24h, Salão de festas, Portão eletrônico, Animais permitidos]                                                        |ab8f367f-7509-45c7-ad9a-f51f84584376|2      |0     |Usado       |Apartamento |Residencial|0   |Realengo                |Zona Oeste|[0]       |[280]           |[Venda]   |[25000]    |\n",
            "|1    |43        |43       |1        |[Churrasqueira, Playground, Salão de festas, Condomínio fechado, Portão eletrônico, Portaria 24h, Animais permitidos]                             |e0a3d370-66dd-4f50-a3d9-cf09c8212318|2      |null  |Usado       |Apartamento |Residencial|1   |Cosmos                  |Zona Oeste|[null]    |[280]           |[Venda]   |[27999]    |\n",
            "|3    |null      |55       |1        |[Academia, Churrasqueira, Piscina, Playground, Salão de festas, Elevador, Condomínio fechado, Portão eletrônico, Portaria 24h, Animais permitidos]|09c8ba2d-dbf1-4879-ba5b-1345355dc415|2      |1     |Usado       |Apartamento |Residencial|1   |Todos os Santos         |Zona Norte|[0]       |[0]             |[Venda]   |[26000]    |\n",
            "+-----+----------+---------+---------+--------------------------------------------------------------------------------------------------------------------------------------------------+------------------------------------+-------+------+------------+------------+-----------+----+------------------------+----------+----------+----------------+----------+-----------+\n",
            "only showing top 20 rows\n",
            "\n"
          ]
        }
      ]
    },
    {
      "cell_type": "code",
      "source": [
        "dados_anuncio = dados_anuncio\\\n",
        "  .withColumn('valor_valor', dados_anuncio['valor_valor'][0].cast(IntegerType()))\\\n",
        "\n",
        "dados_anuncio.show(20, False)"
      ],
      "metadata": {
        "colab": {
          "base_uri": "https://localhost:8080/"
        },
        "id": "0fjFOAb2wL56",
        "outputId": "88eea0d3-0f98-42ed-f303-bfe8421d8600"
      },
      "execution_count": 15,
      "outputs": [
        {
          "output_type": "stream",
          "name": "stdout",
          "text": [
            "+-----+----------+---------+---------+--------------------------------------------------------------------------------------------------------------------------------------------------+------------------------------------+-------+------+------------+------------+-----------+----+------------------------+----------+----------+----------------+----------+-----------+\n",
            "|andar|area_total|area_util|banheiros|caracteristicas                                                                                                                                   |id                                  |quartos|suites|tipo_anuncio|tipo_unidade|tipo_uso   |vaga|bairro                  |zona      |valor_iptu|valor_condominio|valor_tipo|valor_valor|\n",
            "+-----+----------+---------+---------+--------------------------------------------------------------------------------------------------------------------------------------------------+------------------------------------+-------+------+------------+------------+-----------+----+------------------------+----------+----------+----------------+----------+-----------+\n",
            "|3    |43        |43       |1        |[Academia, Churrasqueira, Playground, Salão de festas, Condomínio fechado, Portão eletrônico, Portaria 24h, Animais permitidos]                   |d2e3a3aa-09b5-45a0-9dcd-918847cd3ca3|2      |null  |Usado       |Apartamento |Residencial|1   |Paciência               |Zona Oeste|[null]    |[245]           |[Venda]   |15000      |\n",
            "|2    |42        |42       |1        |[Churrasqueira, Playground, Salão de festas, Condomínio fechado, Portão eletrônico, Portaria 24h, Animais permitidos]                             |085bab2c-87ad-452a-bd0f-8b1451509f84|2      |null  |Usado       |Apartamento |Residencial|1   |Paciência               |Zona Oeste|[0]       |[0]             |[Venda]   |15000      |\n",
            "|1    |41        |41       |1        |[Portaria 24h, Condomínio fechado, Playground, Salão de festas, Churrasqueira, Portão eletrônico]                                                 |18d22cbe-1b86-4764-8def-70c615f15a61|2      |null  |Usado       |Apartamento |Residencial|1   |Guaratiba               |Zona Oeste|[0]       |[0]             |[Venda]   |20000      |\n",
            "|3    |43        |43       |1        |[Churrasqueira, Piscina, Playground, Salão de festas, Condomínio fechado, Portão eletrônico, Portaria 24h, Animais permitidos]                    |bed8a354-9317-4426-b27e-1c798f864271|2      |null  |Usado       |Apartamento |Residencial|0   |Cosmos                  |Zona Oeste|[null]    |[285]           |[Venda]   |20000      |\n",
            "|2    |43        |43       |1        |[Academia, Churrasqueira, Playground, Salão de festas, Condomínio fechado, Portão eletrônico, Portaria 24h, Animais permitidos]                   |12a13315-d67f-48f0-9497-017b83252781|2      |null  |Usado       |Apartamento |Residencial|1   |Guaratiba               |Zona Oeste|[null]    |[245]           |[Venda]   |15000      |\n",
            "|3    |43        |43       |1        |[Churrasqueira, Piscina, Playground, Salão de festas, Condomínio fechado, Portaria 24h, Portão eletrônico, Animais permitidos]                    |a2e6d7a5-0ff0-484d-b3d8-3a8f15e2d80e|2      |0     |Usado       |Apartamento |Residencial|0   |Cosmos                  |Zona Oeste|[null]    |[285]           |[Venda]   |20000      |\n",
            "|3    |43        |43       |1        |[Churrasqueira, Playground, Salão de festas, Condomínio fechado, Portão eletrônico, Portaria 24h, Animais permitidos]                             |a6e3173b-c950-4db4-9b7b-80c44bd75e90|2      |null  |Usado       |Apartamento |Residencial|1   |Paciência               |Zona Oeste|[null]    |[250]           |[Venda]   |15000      |\n",
            "|3    |43        |43       |1        |[Churrasqueira, Playground, Salão de festas, Condomínio fechado, Portão eletrônico, Animais permitidos]                                           |2e6e5dfb-206c-4968-944b-ea4c3918b50d|2      |0     |Usado       |Apartamento |Residencial|1   |Guaratiba               |Zona Oeste|[null]    |[245]           |[Venda]   |15000      |\n",
            "|3    |43        |43       |1        |[Churrasqueira, Playground, Salão de festas, Condomínio fechado, Portão eletrônico, Portaria 24h, Animais permitidos]                             |99f8d0f9-95a4-4613-a55d-c949e7a73e90|2      |0     |Usado       |Apartamento |Residencial|1   |Paciência               |Zona Oeste|[null]    |[245]           |[Venda]   |15000      |\n",
            "|4    |43        |43       |1        |[Churrasqueira, Playground, Salão de festas, Condomínio fechado, Portão eletrônico, Portaria 24h, Animais permitidos]                             |b3f44c1a-2d50-4d56-b1fb-a94d59b55ab8|2      |null  |Usado       |Apartamento |Residencial|1   |Guaratiba               |Zona Oeste|[null]    |[240]           |[Venda]   |17999      |\n",
            "|0    |60        |60       |1        |[Condomínio fechado]                                                                                                                              |dc99d9e1-4c63-41f7-a53d-678b2b3ccb52|2      |null  |Usado       |Apartamento |Residencial|1   |Pedra de Guaratiba      |Zona Oeste|[0]       |[0]             |[Venda]   |15000      |\n",
            "|1    |43        |43       |1        |[Churrasqueira, Playground, Salão de festas, Condomínio fechado, Portão eletrônico, Portaria 24h]                                                 |aa3606d8-8bcd-45ec-a609-d68a58a12014|2      |null  |Usado       |Apartamento |Residencial|1   |Cosmos                  |Zona Oeste|[0]       |[240]           |[Venda]   |19999      |\n",
            "|0    |43        |43       |1        |[Churrasqueira, Playground, Salão de festas, Condomínio fechado, Portão eletrônico, Portaria 24h, Animais permitidos]                             |df80b0d5-677c-4be7-93c4-ddef578125ac|2      |0     |Usado       |Apartamento |Residencial|0   |Campo Grande            |Zona Oeste|[null]    |[245]           |[Venda]   |19999      |\n",
            "|2    |43        |43       |1        |[Academia, Churrasqueira, Piscina, Playground, Salão de festas, Condomínio fechado, Portão eletrônico, Portaria 24h, Animais permitidos]          |3d6c0218-9b7d-474b-9a44-cd3e005375f9|2      |null  |Usado       |Apartamento |Residencial|2   |Santa Cruz              |Zona Oeste|[null]    |[290]           |[Venda]   |25000      |\n",
            "|3    |43        |43       |1        |[Salão de festas, Playground, Condomínio fechado, Portão eletrônico, Portaria 24h, Animais permitidos]                                            |304266cc-62d1-4ce7-909b-21198c306839|2      |null  |Usado       |Apartamento |Residencial|null|Guaratiba               |Zona Oeste|[null]    |[285]           |[Venda]   |29999      |\n",
            "|4    |55        |55       |2        |[Academia, Churrasqueira, Piscina, Playground, Salão de festas, Elevador, Condomínio fechado, Portão eletrônico, Portaria 24h, Animais permitidos]|111472a2-afa1-4a73-a8b3-3588ffba362c|2      |1     |Usado       |Apartamento |Residencial|1   |Recreio dos Bandeirantes|Zona Oeste|[0]       |[0]             |[Venda]   |30000      |\n",
            "|0    |45        |45       |1        |[Playground, Piscina, Churrasqueira, Salão de festas, Condomínio fechado]                                                                         |275c1589-6537-4bf7-9504-74410dbf01fc|2      |0     |Usado       |Apartamento |Residencial|1   |Cosmos                  |Zona Oeste|[null]    |[null]          |[Venda]   |30000      |\n",
            "|5    |42        |42       |1        |[Condomínio fechado, Portaria 24h, Salão de festas, Portão eletrônico, Animais permitidos]                                                        |ab8f367f-7509-45c7-ad9a-f51f84584376|2      |0     |Usado       |Apartamento |Residencial|0   |Realengo                |Zona Oeste|[0]       |[280]           |[Venda]   |25000      |\n",
            "|1    |43        |43       |1        |[Churrasqueira, Playground, Salão de festas, Condomínio fechado, Portão eletrônico, Portaria 24h, Animais permitidos]                             |e0a3d370-66dd-4f50-a3d9-cf09c8212318|2      |null  |Usado       |Apartamento |Residencial|1   |Cosmos                  |Zona Oeste|[null]    |[280]           |[Venda]   |27999      |\n",
            "|3    |null      |55       |1        |[Academia, Churrasqueira, Piscina, Playground, Salão de festas, Elevador, Condomínio fechado, Portão eletrônico, Portaria 24h, Animais permitidos]|09c8ba2d-dbf1-4879-ba5b-1345355dc415|2      |1     |Usado       |Apartamento |Residencial|1   |Todos os Santos         |Zona Norte|[0]       |[0]             |[Venda]   |26000      |\n",
            "+-----+----------+---------+---------+--------------------------------------------------------------------------------------------------------------------------------------------------+------------------------------------+-------+------+------------+------------+-----------+----+------------------------+----------+----------+----------------+----------+-----------+\n",
            "only showing top 20 rows\n",
            "\n"
          ]
        }
      ]
    },
    {
      "cell_type": "code",
      "source": [
        "dados_anuncio = dados_anuncio\\\n",
        "  .select(\"*\")\\\n",
        "  .where(f.array_contains(dados_anuncio['valor_tipo'], 'Venda'))\\\n",
        "\n",
        "dados_anuncio.show(50, False)"
      ],
      "metadata": {
        "colab": {
          "base_uri": "https://localhost:8080/"
        },
        "id": "q5eDFCnpqB7G",
        "outputId": "064740a9-adbe-4917-a97f-a8eaa5bc37b3"
      },
      "execution_count": 16,
      "outputs": [
        {
          "output_type": "stream",
          "name": "stdout",
          "text": [
            "+-----+----------+---------+---------+--------------------------------------------------------------------------------------------------------------------------------------------------+------------------------------------+-------+------+------------+------------+-----------+----+------------------------+----------+------------+----------------+----------------+-----------+\n",
            "|andar|area_total|area_util|banheiros|caracteristicas                                                                                                                                   |id                                  |quartos|suites|tipo_anuncio|tipo_unidade|tipo_uso   |vaga|bairro                  |zona      |valor_iptu  |valor_condominio|valor_tipo      |valor_valor|\n",
            "+-----+----------+---------+---------+--------------------------------------------------------------------------------------------------------------------------------------------------+------------------------------------+-------+------+------------+------------+-----------+----+------------------------+----------+------------+----------------+----------------+-----------+\n",
            "|3    |43        |43       |1        |[Academia, Churrasqueira, Playground, Salão de festas, Condomínio fechado, Portão eletrônico, Portaria 24h, Animais permitidos]                   |d2e3a3aa-09b5-45a0-9dcd-918847cd3ca3|2      |null  |Usado       |Apartamento |Residencial|1   |Paciência               |Zona Oeste|[null]      |[245]           |[Venda]         |15000      |\n",
            "|2    |42        |42       |1        |[Churrasqueira, Playground, Salão de festas, Condomínio fechado, Portão eletrônico, Portaria 24h, Animais permitidos]                             |085bab2c-87ad-452a-bd0f-8b1451509f84|2      |null  |Usado       |Apartamento |Residencial|1   |Paciência               |Zona Oeste|[0]         |[0]             |[Venda]         |15000      |\n",
            "|1    |41        |41       |1        |[Portaria 24h, Condomínio fechado, Playground, Salão de festas, Churrasqueira, Portão eletrônico]                                                 |18d22cbe-1b86-4764-8def-70c615f15a61|2      |null  |Usado       |Apartamento |Residencial|1   |Guaratiba               |Zona Oeste|[0]         |[0]             |[Venda]         |20000      |\n",
            "|3    |43        |43       |1        |[Churrasqueira, Piscina, Playground, Salão de festas, Condomínio fechado, Portão eletrônico, Portaria 24h, Animais permitidos]                    |bed8a354-9317-4426-b27e-1c798f864271|2      |null  |Usado       |Apartamento |Residencial|0   |Cosmos                  |Zona Oeste|[null]      |[285]           |[Venda]         |20000      |\n",
            "|2    |43        |43       |1        |[Academia, Churrasqueira, Playground, Salão de festas, Condomínio fechado, Portão eletrônico, Portaria 24h, Animais permitidos]                   |12a13315-d67f-48f0-9497-017b83252781|2      |null  |Usado       |Apartamento |Residencial|1   |Guaratiba               |Zona Oeste|[null]      |[245]           |[Venda]         |15000      |\n",
            "|3    |43        |43       |1        |[Churrasqueira, Piscina, Playground, Salão de festas, Condomínio fechado, Portaria 24h, Portão eletrônico, Animais permitidos]                    |a2e6d7a5-0ff0-484d-b3d8-3a8f15e2d80e|2      |0     |Usado       |Apartamento |Residencial|0   |Cosmos                  |Zona Oeste|[null]      |[285]           |[Venda]         |20000      |\n",
            "|3    |43        |43       |1        |[Churrasqueira, Playground, Salão de festas, Condomínio fechado, Portão eletrônico, Portaria 24h, Animais permitidos]                             |a6e3173b-c950-4db4-9b7b-80c44bd75e90|2      |null  |Usado       |Apartamento |Residencial|1   |Paciência               |Zona Oeste|[null]      |[250]           |[Venda]         |15000      |\n",
            "|3    |43        |43       |1        |[Churrasqueira, Playground, Salão de festas, Condomínio fechado, Portão eletrônico, Animais permitidos]                                           |2e6e5dfb-206c-4968-944b-ea4c3918b50d|2      |0     |Usado       |Apartamento |Residencial|1   |Guaratiba               |Zona Oeste|[null]      |[245]           |[Venda]         |15000      |\n",
            "|3    |43        |43       |1        |[Churrasqueira, Playground, Salão de festas, Condomínio fechado, Portão eletrônico, Portaria 24h, Animais permitidos]                             |99f8d0f9-95a4-4613-a55d-c949e7a73e90|2      |0     |Usado       |Apartamento |Residencial|1   |Paciência               |Zona Oeste|[null]      |[245]           |[Venda]         |15000      |\n",
            "|4    |43        |43       |1        |[Churrasqueira, Playground, Salão de festas, Condomínio fechado, Portão eletrônico, Portaria 24h, Animais permitidos]                             |b3f44c1a-2d50-4d56-b1fb-a94d59b55ab8|2      |null  |Usado       |Apartamento |Residencial|1   |Guaratiba               |Zona Oeste|[null]      |[240]           |[Venda]         |17999      |\n",
            "|0    |60        |60       |1        |[Condomínio fechado]                                                                                                                              |dc99d9e1-4c63-41f7-a53d-678b2b3ccb52|2      |null  |Usado       |Apartamento |Residencial|1   |Pedra de Guaratiba      |Zona Oeste|[0]         |[0]             |[Venda]         |15000      |\n",
            "|1    |43        |43       |1        |[Churrasqueira, Playground, Salão de festas, Condomínio fechado, Portão eletrônico, Portaria 24h]                                                 |aa3606d8-8bcd-45ec-a609-d68a58a12014|2      |null  |Usado       |Apartamento |Residencial|1   |Cosmos                  |Zona Oeste|[0]         |[240]           |[Venda]         |19999      |\n",
            "|0    |43        |43       |1        |[Churrasqueira, Playground, Salão de festas, Condomínio fechado, Portão eletrônico, Portaria 24h, Animais permitidos]                             |df80b0d5-677c-4be7-93c4-ddef578125ac|2      |0     |Usado       |Apartamento |Residencial|0   |Campo Grande            |Zona Oeste|[null]      |[245]           |[Venda]         |19999      |\n",
            "|2    |43        |43       |1        |[Academia, Churrasqueira, Piscina, Playground, Salão de festas, Condomínio fechado, Portão eletrônico, Portaria 24h, Animais permitidos]          |3d6c0218-9b7d-474b-9a44-cd3e005375f9|2      |null  |Usado       |Apartamento |Residencial|2   |Santa Cruz              |Zona Oeste|[null]      |[290]           |[Venda]         |25000      |\n",
            "|3    |43        |43       |1        |[Salão de festas, Playground, Condomínio fechado, Portão eletrônico, Portaria 24h, Animais permitidos]                                            |304266cc-62d1-4ce7-909b-21198c306839|2      |null  |Usado       |Apartamento |Residencial|null|Guaratiba               |Zona Oeste|[null]      |[285]           |[Venda]         |29999      |\n",
            "|4    |55        |55       |2        |[Academia, Churrasqueira, Piscina, Playground, Salão de festas, Elevador, Condomínio fechado, Portão eletrônico, Portaria 24h, Animais permitidos]|111472a2-afa1-4a73-a8b3-3588ffba362c|2      |1     |Usado       |Apartamento |Residencial|1   |Recreio dos Bandeirantes|Zona Oeste|[0]         |[0]             |[Venda]         |30000      |\n",
            "|0    |45        |45       |1        |[Playground, Piscina, Churrasqueira, Salão de festas, Condomínio fechado]                                                                         |275c1589-6537-4bf7-9504-74410dbf01fc|2      |0     |Usado       |Apartamento |Residencial|1   |Cosmos                  |Zona Oeste|[null]      |[null]          |[Venda]         |30000      |\n",
            "|5    |42        |42       |1        |[Condomínio fechado, Portaria 24h, Salão de festas, Portão eletrônico, Animais permitidos]                                                        |ab8f367f-7509-45c7-ad9a-f51f84584376|2      |0     |Usado       |Apartamento |Residencial|0   |Realengo                |Zona Oeste|[0]         |[280]           |[Venda]         |25000      |\n",
            "|1    |43        |43       |1        |[Churrasqueira, Playground, Salão de festas, Condomínio fechado, Portão eletrônico, Portaria 24h, Animais permitidos]                             |e0a3d370-66dd-4f50-a3d9-cf09c8212318|2      |null  |Usado       |Apartamento |Residencial|1   |Cosmos                  |Zona Oeste|[null]      |[280]           |[Venda]         |27999      |\n",
            "|3    |null      |55       |1        |[Academia, Churrasqueira, Piscina, Playground, Salão de festas, Elevador, Condomínio fechado, Portão eletrônico, Portaria 24h, Animais permitidos]|09c8ba2d-dbf1-4879-ba5b-1345355dc415|2      |1     |Usado       |Apartamento |Residencial|1   |Todos os Santos         |Zona Norte|[0]         |[0]             |[Venda]         |26000      |\n",
            "|0    |45        |45       |1        |[Academia, Churrasqueira, Playground, Salão de festas, Condomínio fechado, Portão eletrônico, Portaria 24h, Animais permitidos]                   |33da5489-72c9-4d18-883c-a85363348bcc|2      |null  |Usado       |Apartamento |Residencial|1   |Paciência               |Zona Oeste|[0]         |[200]           |[Venda]         |23000      |\n",
            "|1    |43        |43       |1        |[Churrasqueira, Playground, Salão de festas, Condomínio fechado, Portão eletrônico, Portaria 24h, Animais permitidos]                             |08511604-dffe-40a4-801b-2ee1e73d49c5|2      |null  |Usado       |Apartamento |Residencial|1   |Campo Grande            |Zona Oeste|[null]      |[245]           |[Venda]         |29999      |\n",
            "|0    |28        |28       |1        |[]                                                                                                                                                |a8de531f-5e85-4217-aa7d-578b9cc3ee97|1      |0     |Usado       |Apartamento |Residencial|0   |Marechal Hermes         |Zona Norte|[0]         |[null]          |[Venda]         |27000      |\n",
            "|0    |43        |43       |1        |[Churrasqueira, Academia, Playground, Salão de festas, Condomínio fechado, Portão eletrônico, Portaria 24h, Animais permitidos]                   |03a386b6-7ab8-4eff-891d-f8a16efc1989|2      |null  |Usado       |Apartamento |Residencial|1   |Realengo                |Zona Oeste|[null]      |[285]           |[Venda]         |22999      |\n",
            "|4    |45        |45       |1        |[Academia, Churrasqueira, Playground, Salão de festas, Condomínio fechado, Portão eletrônico, Portaria 24h, Animais permitidos]                   |f63ae653-c3ac-4d1a-a87e-9f3f1fb27c7f|2      |null  |Usado       |Apartamento |Residencial|1   |Guaratiba               |Zona Oeste|[0]         |[200]           |[Venda]         |23000      |\n",
            "|2    |49        |49       |1        |[]                                                                                                                                                |c2676515-0633-4375-958e-b7b1644a4108|1      |0     |Usado       |Apartamento |Residencial|0   |Realengo                |Zona Oeste|[null]      |[null]          |[Venda]         |28000      |\n",
            "|2    |45        |45       |1        |[Academia, Churrasqueira, Playground, Salão de festas, Condomínio fechado, Portão eletrônico, Portaria 24h, Animais permitidos]                   |01de0250-50cc-4e75-9c01-b886c5059ddc|2      |0     |Usado       |Apartamento |Residencial|1   |Cosmos                  |Zona Oeste|[0]         |[200]           |[Venda]         |24999      |\n",
            "|0    |45        |45       |1        |[Academia, Churrasqueira, Playground, Salão de festas, Condomínio fechado, Portão eletrônico, Portaria 24h, Animais permitidos]                   |6b196ad0-fca5-4a2b-98f3-8e4abb633e5b|2      |null  |Usado       |Apartamento |Residencial|1   |Cosmos                  |Zona Oeste|[0]         |[200]           |[Venda]         |23000      |\n",
            "|0    |30        |30       |1        |[]                                                                                                                                                |57ac572e-34e2-4427-b3fa-d2198c4e9203|1      |0     |Usado       |Apartamento |Residencial|0   |Anchieta                |Zona Norte|[0]         |[null]          |[Venda]         |25000      |\n",
            "|4    |43        |43       |1        |[Churrasqueira, Piscina, Playground, Salão de festas, Condomínio fechado, Portão eletrônico, Portaria 24h, Animais permitidos]                    |fa17e63c-0a23-4a87-a985-9b7bd258353b|2      |null  |Usado       |Apartamento |Residencial|2   |Cosmos                  |Zona Oeste|[null]      |[240]           |[Venda]         |39999      |\n",
            "|0    |43        |43       |1        |[Churrasqueira, Condomínio fechado, Portão eletrônico, Portaria 24h, Animais permitidos]                                                          |ae90e3f7-4b9e-4e68-a28c-7e98b6b3bd97|2      |0     |Usado       |Apartamento |Residencial|1   |Cosmos                  |Zona Oeste|[null]      |[233]           |[Venda]         |35000      |\n",
            "|3    |50        |50       |1        |[Portaria 24h, Portão eletrônico, Condomínio fechado]                                                                                             |fca04c66-5f6d-4e9c-a2bd-b97eb179ad1b|2      |0     |Usado       |Apartamento |Residencial|1   |Guaratiba               |Zona Oeste|[0]         |[270]           |[Venda]         |40000      |\n",
            "|1    |43        |43       |1        |[Churrasqueira, Piscina, Playground, Salão de festas, Condomínio fechado, Portão eletrônico, Portaria 24h, Animais permitidos]                    |4f1755c9-862f-4dcd-a5f5-09af9ae74313|2      |null  |Usado       |Apartamento |Residencial|1   |Campo Grande            |Zona Oeste|[0]         |[459]           |[Venda]         |40000      |\n",
            "|0    |60        |43       |1        |[Salão de festas, Playground, Churrasqueira, Condomínio fechado, Portão eletrônico, Portaria 24h, Animais permitidos]                             |61a40854-1fee-4f50-8c3c-d9fa4d9e16c7|2      |null  |Usado       |Apartamento |Residencial|1   |Cosmos                  |Zona Oeste|[null]      |[233]           |[Venda]         |39999      |\n",
            "|0    |42        |42       |1        |[Condomínio fechado, Portaria 24h, Animais permitidos, Salão de festas]                                                                           |d7ed40c6-96b2-4456-8ee6-c33e21772ba6|2      |null  |Usado       |Apartamento |Residencial|1   |Realengo                |Zona Oeste|[null]      |[300]           |[Venda]         |38000      |\n",
            "|0    |44        |44       |1        |[Churrasqueira]                                                                                                                                   |b8d40915-3fbd-4671-9797-e13e12f2d554|2      |0     |Usado       |Apartamento |Residencial|0   |Cosmos                  |Zona Oeste|[0]         |[197]           |[Venda]         |40000      |\n",
            "|2    |null      |31       |1        |[]                                                                                                                                                |891745fd-7826-425f-afb1-7a80425ebf1d|1      |0     |Usado       |Apartamento |Residencial|0   |Pedra de Guaratiba      |Zona Oeste|[0]         |[0]             |[Venda]         |35000      |\n",
            "|0    |32        |32       |1        |[]                                                                                                                                                |47334896-dbd7-45ba-9b3f-c59bccdd54fb|1      |0     |Usado       |Apartamento |Residencial|1   |Praça Seca              |Zona Oeste|[10]        |[275]           |[Venda]         |37000      |\n",
            "|0    |null      |30       |1        |[]                                                                                                                                                |354e0850-cc2f-4a98-931b-af3ebb1527d0|1      |null  |Usado       |Apartamento |Residencial|null|Coelho Neto             |Zona Norte|[0]         |[0]             |[Venda]         |35000      |\n",
            "|5    |null      |42       |2        |[Playground, Churrasqueira, Portão eletrônico, Condomínio fechado, Portaria 24h, Animais permitidos]                                              |2cdbb771-2ae4-4979-a483-dcc6099d0893|2      |1     |Usado       |Apartamento |Residencial|1   |Campo Grande            |Zona Oeste|[null]      |[350]           |[Venda]         |50000      |\n",
            "|0    |null      |44       |1        |[]                                                                                                                                                |42433229-ceef-4bb6-896a-46fdc1f85515|2      |null  |Usado       |Apartamento |Residencial|1   |Santíssimo              |Zona Oeste|[0]         |[120]           |[Venda]         |43500      |\n",
            "|2    |45        |45       |1        |[Academia, Churrasqueira, Piscina, Playground, Salão de festas, Condomínio fechado, Portão eletrônico, Portaria 24h, Animais permitidos]          |c543da32-a895-45ee-9116-7f6387fcbc1b|2      |0     |Usado       |Apartamento |Residencial|0   |Campo Grande            |Zona Oeste|[null]      |[299]           |[Venda]         |50000      |\n",
            "|2    |43        |43       |1        |[Academia, Churrasqueira, Piscina, Playground, Salão de festas, Condomínio fechado, Portão eletrônico, Portaria 24h, Animais permitidos]          |31709fc3-0503-4e57-912f-e2fb0640cdf1|2      |null  |Usado       |Apartamento |Residencial|0   |Campo Grande            |Zona Oeste|[null]      |[295]           |[Venda]         |42000      |\n",
            "|3    |48        |48       |1        |[Churrasqueira, Condomínio fechado, Salão de festas]                                                                                              |c425f585-53e3-44b6-8bb6-6b9b766b0e30|2      |0     |Usado       |Apartamento |Residencial|0   |Santa Cruz              |Zona Oeste|[20, 20]    |[350, 350]      |[Venda, Aluguel]|49000      |\n",
            "|3    |null      |46       |1        |[Churrasqueira, Condomínio fechado, Piscina, Playground, Portão eletrônico, Portaria 24h, Salão de festas, Animais permitidos]                    |df481ce5-65d0-4c15-936e-f4732ef96c49|2      |null  |Usado       |Apartamento |Residencial|1   |Cosmos                  |Zona Oeste|[null, null]|[0, 0]          |[Venda, Aluguel]|50000      |\n",
            "|0    |44        |44       |1        |[]                                                                                                                                                |78c4d364-bed2-4af7-bbf4-fd2ffa83f7dd|2      |0     |Usado       |Apartamento |Residencial|1   |Santa Cruz              |Zona Oeste|[0]         |[150]           |[Venda]         |48000      |\n",
            "|0    |38        |30       |1        |[]                                                                                                                                                |7e7d054f-0fb2-4c55-a66e-1c38de34e83a|2      |0     |Usado       |Apartamento |Residencial|1   |Coelho Neto             |Zona Norte|[0]         |[null]          |[Venda]         |45000      |\n",
            "|2    |null      |49       |1        |[Playground, Condomínio fechado, Animais permitidos]                                                                                              |e1513f1d-2b36-4223-a94e-10e0b0ca42ba|2      |0     |Usado       |Apartamento |Residencial|1   |Campo Grande            |Zona Oeste|[0]         |[50]            |[Venda]         |50000      |\n",
            "|2    |45        |45       |1        |[Portão eletrônico, Animais permitidos]                                                                                                           |19be630c-f487-448b-85d3-4dae88e7c9e6|1      |null  |Usado       |Apartamento |Residencial|0   |Bangu                   |Zona Oeste|[null]      |[null]          |[Venda]         |50000      |\n",
            "|0    |null      |25       |1        |[]                                                                                                                                                |336aa58c-b9ee-4387-b2fe-f7d08fac4ca2|0      |0     |Usado       |Apartamento |Residencial|0   |Campo Grande            |Zona Oeste|[0]         |[0]             |[Venda]         |42000      |\n",
            "+-----+----------+---------+---------+--------------------------------------------------------------------------------------------------------------------------------------------------+------------------------------------+-------+------+------------+------------+-----------+----+------------------------+----------+------------+----------------+----------------+-----------+\n",
            "only showing top 50 rows\n",
            "\n"
          ]
        }
      ]
    },
    {
      "cell_type": "code",
      "source": [
        "dados_anuncio.printSchema()"
      ],
      "metadata": {
        "colab": {
          "base_uri": "https://localhost:8080/"
        },
        "id": "2qQ1gO-XsPPo",
        "outputId": "4defb4be-7a0c-4d20-b5e1-2960dcd3ab70"
      },
      "execution_count": 17,
      "outputs": [
        {
          "output_type": "stream",
          "name": "stdout",
          "text": [
            "root\n",
            " |-- andar: long (nullable = true)\n",
            " |-- area_total: integer (nullable = true)\n",
            " |-- area_util: integer (nullable = true)\n",
            " |-- banheiros: integer (nullable = true)\n",
            " |-- caracteristicas: array (nullable = true)\n",
            " |    |-- element: string (containsNull = true)\n",
            " |-- id: string (nullable = true)\n",
            " |-- quartos: integer (nullable = true)\n",
            " |-- suites: integer (nullable = true)\n",
            " |-- tipo_anuncio: string (nullable = true)\n",
            " |-- tipo_unidade: string (nullable = true)\n",
            " |-- tipo_uso: string (nullable = true)\n",
            " |-- vaga: integer (nullable = true)\n",
            " |-- bairro: string (nullable = true)\n",
            " |-- zona: string (nullable = true)\n",
            " |-- valor_iptu: array (nullable = true)\n",
            " |    |-- element: string (containsNull = true)\n",
            " |-- valor_condominio: array (nullable = true)\n",
            " |    |-- element: string (containsNull = true)\n",
            " |-- valor_tipo: array (nullable = true)\n",
            " |    |-- element: string (containsNull = true)\n",
            " |-- valor_valor: integer (nullable = true)\n",
            "\n"
          ]
        }
      ]
    },
    {
      "cell_type": "markdown",
      "source": [
        "## Salvando e lendo arquivos / Saving and reading files"
      ],
      "metadata": {
        "id": "ppBqkhDbwv79"
      }
    },
    {
      "cell_type": "code",
      "source": [
        "dados_anuncio.write.parquet('/content/drive/MyDrive/Alura/Challenge Data Science/parquet', mode='overwrite')"
      ],
      "metadata": {
        "id": "5v_GjXTrrOq0"
      },
      "execution_count": 18,
      "outputs": []
    },
    {
      "cell_type": "code",
      "source": [
        "dados_anuncio\\\n",
        "  .withColumn('caracteristicas', dados_anuncio['caracteristicas'].cast(StringType()))\\\n",
        "  .withColumn('valor_iptu', dados_anuncio['valor_iptu'].cast(StringType()))\\\n",
        "  .withColumn('valor_condominio', dados_anuncio['valor_condominio'].cast(StringType()))\\\n",
        "  .withColumn('valor_tipo', dados_anuncio['valor_tipo'].cast(StringType()))\\\n",
        "  .write.csv('/content/drive/MyDrive/Alura/Challenge Data Science/csv', mode='overwrite')"
      ],
      "metadata": {
        "id": "Dfv5uVFevDM2"
      },
      "execution_count": 19,
      "outputs": []
    },
    {
      "cell_type": "code",
      "source": [
        "%%time\n",
        "dados_parquet = spark.read.parquet('/content/drive/MyDrive/Alura/Challenge Data Science/parquet')"
      ],
      "metadata": {
        "colab": {
          "base_uri": "https://localhost:8080/"
        },
        "id": "4_T_Lk_7wyK-",
        "outputId": "9ef30fe5-4c9a-4ad3-db02-498f82c8670c"
      },
      "execution_count": 20,
      "outputs": [
        {
          "output_type": "stream",
          "name": "stdout",
          "text": [
            "CPU times: user 6.35 ms, sys: 1.8 ms, total: 8.15 ms\n",
            "Wall time: 255 ms\n"
          ]
        }
      ]
    },
    {
      "cell_type": "code",
      "source": [
        "%%time\n",
        "dados_csv = spark.read.csv('/content/drive/MyDrive/Alura/Challenge Data Science/csv')"
      ],
      "metadata": {
        "colab": {
          "base_uri": "https://localhost:8080/"
        },
        "id": "VkQokEpwxDdM",
        "outputId": "7f075a79-9ff4-405d-eea2-214080c19347"
      },
      "execution_count": 21,
      "outputs": [
        {
          "output_type": "stream",
          "name": "stdout",
          "text": [
            "CPU times: user 4.66 ms, sys: 1.13 ms, total: 5.79 ms\n",
            "Wall time: 443 ms\n"
          ]
        }
      ]
    }
  ]
}