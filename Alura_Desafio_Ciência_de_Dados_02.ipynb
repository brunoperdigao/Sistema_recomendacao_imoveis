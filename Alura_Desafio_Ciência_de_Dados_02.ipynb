{
  "nbformat": 4,
  "nbformat_minor": 0,
  "metadata": {
    "colab": {
      "provenance": []
    },
    "kernelspec": {
      "name": "python3",
      "display_name": "Python 3"
    },
    "language_info": {
      "name": "python"
    }
  },
  "cells": [
    {
      "cell_type": "markdown",
      "source": [
        "# Sistema de recomendação de imóveis - Parte 02\n",
        "# Real state recomendation system  - Part 02\n",
        "\n",
        "## Configurações básicas / Basic Configuration"
      ],
      "metadata": {
        "id": "bkAELf-yVElv"
      }
    },
    {
      "cell_type": "code",
      "execution_count": null,
      "metadata": {
        "colab": {
          "base_uri": "https://localhost:8080/"
        },
        "id": "8d7kz6MtdXk3",
        "outputId": "34e09345-96dd-479a-b287-f159f77f1718"
      },
      "outputs": [
        {
          "output_type": "stream",
          "name": "stdout",
          "text": [
            "Looking in indexes: https://pypi.org/simple, https://us-python.pkg.dev/colab-wheels/public/simple/\n",
            "Requirement already satisfied: pyspark in /usr/local/lib/python3.8/dist-packages (3.3.1)\n",
            "Requirement already satisfied: py4j==0.10.9.5 in /usr/local/lib/python3.8/dist-packages (from pyspark) (0.10.9.5)\n"
          ]
        }
      ],
      "source": [
        "!pip install pyspark"
      ]
    },
    {
      "cell_type": "code",
      "source": [
        "from pyspark.sql import SparkSession\n",
        "\n",
        "spark = SparkSession.builder \\\n",
        "    .master('local[*]') \\\n",
        "    .appName(\"Alura Challange Semana 02\") \\\n",
        "    .getOrCreate()\n",
        "\n",
        "spark"
      ],
      "metadata": {
        "colab": {
          "base_uri": "https://localhost:8080/",
          "height": 219
        },
        "id": "J3TdDHLrdfr1",
        "outputId": "bae73555-d6ae-46eb-d9f0-6e648523572d"
      },
      "execution_count": null,
      "outputs": [
        {
          "output_type": "execute_result",
          "data": {
            "text/plain": [
              "<pyspark.sql.session.SparkSession at 0x7f2fcdb02670>"
            ],
            "text/html": [
              "\n",
              "            <div>\n",
              "                <p><b>SparkSession - in-memory</b></p>\n",
              "                \n",
              "        <div>\n",
              "            <p><b>SparkContext</b></p>\n",
              "\n",
              "            <p><a href=\"http://a7cdaa2cf129:4040\">Spark UI</a></p>\n",
              "\n",
              "            <dl>\n",
              "              <dt>Version</dt>\n",
              "                <dd><code>v3.3.1</code></dd>\n",
              "              <dt>Master</dt>\n",
              "                <dd><code>local[*]</code></dd>\n",
              "              <dt>AppName</dt>\n",
              "                <dd><code>Alura Challange Semana 02</code></dd>\n",
              "            </dl>\n",
              "        </div>\n",
              "        \n",
              "            </div>\n",
              "        "
            ]
          },
          "metadata": {},
          "execution_count": 76
        }
      ]
    },
    {
      "cell_type": "code",
      "source": [
        "from google.colab import drive\n",
        "drive.mount('/content/drive')"
      ],
      "metadata": {
        "colab": {
          "base_uri": "https://localhost:8080/"
        },
        "id": "wXgZMojHdgDg",
        "outputId": "5d23387f-b4fc-4dba-e3c8-b34d022a0d77"
      },
      "execution_count": null,
      "outputs": [
        {
          "output_type": "stream",
          "name": "stdout",
          "text": [
            "Drive already mounted at /content/drive; to attempt to forcibly remount, call drive.mount(\"/content/drive\", force_remount=True).\n"
          ]
        }
      ]
    },
    {
      "cell_type": "code",
      "source": [
        "from pyspark.sql import functions as f"
      ],
      "metadata": {
        "id": "KZTE9Ln4gXqX"
      },
      "execution_count": null,
      "outputs": []
    },
    {
      "cell_type": "markdown",
      "source": [
        "# Carregando os dados / Loading the data"
      ],
      "metadata": {
        "id": "pllRWaYmkhOE"
      }
    },
    {
      "cell_type": "code",
      "source": [
        "dados = spark.read.parquet('/content/drive/MyDrive/Alura/Challenge Data Science/parquet')"
      ],
      "metadata": {
        "id": "41oRG6cvdo-u"
      },
      "execution_count": null,
      "outputs": []
    },
    {
      "cell_type": "code",
      "source": [
        "dados.show(20, False)"
      ],
      "metadata": {
        "colab": {
          "base_uri": "https://localhost:8080/"
        },
        "id": "cov6Y0hmd-yU",
        "outputId": "9040699c-11bd-4e08-e448-a82dd754808e"
      },
      "execution_count": null,
      "outputs": [
        {
          "output_type": "stream",
          "name": "stdout",
          "text": [
            "+-----+----------+---------+---------+--------------------------------------------------------------------------------------------------------------------------------------------------+------------------------------------+-------+------+------------+------------+-----------+----+------------------------+----------+----------+----------------+----------+-----------+\n",
            "|andar|area_total|area_util|banheiros|caracteristicas                                                                                                                                   |id                                  |quartos|suites|tipo_anuncio|tipo_unidade|tipo_uso   |vaga|bairro                  |zona      |valor_iptu|valor_condominio|valor_tipo|valor_valor|\n",
            "+-----+----------+---------+---------+--------------------------------------------------------------------------------------------------------------------------------------------------+------------------------------------+-------+------+------------+------------+-----------+----+------------------------+----------+----------+----------------+----------+-----------+\n",
            "|3    |43        |43       |1        |[Academia, Churrasqueira, Playground, Salão de festas, Condomínio fechado, Portão eletrônico, Portaria 24h, Animais permitidos]                   |d2e3a3aa-09b5-45a0-9dcd-918847cd3ca3|2      |null  |Usado       |Apartamento |Residencial|1   |Paciência               |Zona Oeste|[null]    |[245]           |[Venda]   |15000      |\n",
            "|2    |42        |42       |1        |[Churrasqueira, Playground, Salão de festas, Condomínio fechado, Portão eletrônico, Portaria 24h, Animais permitidos]                             |085bab2c-87ad-452a-bd0f-8b1451509f84|2      |null  |Usado       |Apartamento |Residencial|1   |Paciência               |Zona Oeste|[0]       |[0]             |[Venda]   |15000      |\n",
            "|1    |41        |41       |1        |[Portaria 24h, Condomínio fechado, Playground, Salão de festas, Churrasqueira, Portão eletrônico]                                                 |18d22cbe-1b86-4764-8def-70c615f15a61|2      |null  |Usado       |Apartamento |Residencial|1   |Guaratiba               |Zona Oeste|[0]       |[0]             |[Venda]   |20000      |\n",
            "|3    |43        |43       |1        |[Churrasqueira, Piscina, Playground, Salão de festas, Condomínio fechado, Portão eletrônico, Portaria 24h, Animais permitidos]                    |bed8a354-9317-4426-b27e-1c798f864271|2      |null  |Usado       |Apartamento |Residencial|0   |Cosmos                  |Zona Oeste|[null]    |[285]           |[Venda]   |20000      |\n",
            "|2    |43        |43       |1        |[Academia, Churrasqueira, Playground, Salão de festas, Condomínio fechado, Portão eletrônico, Portaria 24h, Animais permitidos]                   |12a13315-d67f-48f0-9497-017b83252781|2      |null  |Usado       |Apartamento |Residencial|1   |Guaratiba               |Zona Oeste|[null]    |[245]           |[Venda]   |15000      |\n",
            "|3    |43        |43       |1        |[Churrasqueira, Piscina, Playground, Salão de festas, Condomínio fechado, Portaria 24h, Portão eletrônico, Animais permitidos]                    |a2e6d7a5-0ff0-484d-b3d8-3a8f15e2d80e|2      |0     |Usado       |Apartamento |Residencial|0   |Cosmos                  |Zona Oeste|[null]    |[285]           |[Venda]   |20000      |\n",
            "|3    |43        |43       |1        |[Churrasqueira, Playground, Salão de festas, Condomínio fechado, Portão eletrônico, Portaria 24h, Animais permitidos]                             |a6e3173b-c950-4db4-9b7b-80c44bd75e90|2      |null  |Usado       |Apartamento |Residencial|1   |Paciência               |Zona Oeste|[null]    |[250]           |[Venda]   |15000      |\n",
            "|3    |43        |43       |1        |[Churrasqueira, Playground, Salão de festas, Condomínio fechado, Portão eletrônico, Animais permitidos]                                           |2e6e5dfb-206c-4968-944b-ea4c3918b50d|2      |0     |Usado       |Apartamento |Residencial|1   |Guaratiba               |Zona Oeste|[null]    |[245]           |[Venda]   |15000      |\n",
            "|3    |43        |43       |1        |[Churrasqueira, Playground, Salão de festas, Condomínio fechado, Portão eletrônico, Portaria 24h, Animais permitidos]                             |99f8d0f9-95a4-4613-a55d-c949e7a73e90|2      |0     |Usado       |Apartamento |Residencial|1   |Paciência               |Zona Oeste|[null]    |[245]           |[Venda]   |15000      |\n",
            "|4    |43        |43       |1        |[Churrasqueira, Playground, Salão de festas, Condomínio fechado, Portão eletrônico, Portaria 24h, Animais permitidos]                             |b3f44c1a-2d50-4d56-b1fb-a94d59b55ab8|2      |null  |Usado       |Apartamento |Residencial|1   |Guaratiba               |Zona Oeste|[null]    |[240]           |[Venda]   |17999      |\n",
            "|0    |60        |60       |1        |[Condomínio fechado]                                                                                                                              |dc99d9e1-4c63-41f7-a53d-678b2b3ccb52|2      |null  |Usado       |Apartamento |Residencial|1   |Pedra de Guaratiba      |Zona Oeste|[0]       |[0]             |[Venda]   |15000      |\n",
            "|1    |43        |43       |1        |[Churrasqueira, Playground, Salão de festas, Condomínio fechado, Portão eletrônico, Portaria 24h]                                                 |aa3606d8-8bcd-45ec-a609-d68a58a12014|2      |null  |Usado       |Apartamento |Residencial|1   |Cosmos                  |Zona Oeste|[0]       |[240]           |[Venda]   |19999      |\n",
            "|0    |43        |43       |1        |[Churrasqueira, Playground, Salão de festas, Condomínio fechado, Portão eletrônico, Portaria 24h, Animais permitidos]                             |df80b0d5-677c-4be7-93c4-ddef578125ac|2      |0     |Usado       |Apartamento |Residencial|0   |Campo Grande            |Zona Oeste|[null]    |[245]           |[Venda]   |19999      |\n",
            "|2    |43        |43       |1        |[Academia, Churrasqueira, Piscina, Playground, Salão de festas, Condomínio fechado, Portão eletrônico, Portaria 24h, Animais permitidos]          |3d6c0218-9b7d-474b-9a44-cd3e005375f9|2      |null  |Usado       |Apartamento |Residencial|2   |Santa Cruz              |Zona Oeste|[null]    |[290]           |[Venda]   |25000      |\n",
            "|3    |43        |43       |1        |[Salão de festas, Playground, Condomínio fechado, Portão eletrônico, Portaria 24h, Animais permitidos]                                            |304266cc-62d1-4ce7-909b-21198c306839|2      |null  |Usado       |Apartamento |Residencial|null|Guaratiba               |Zona Oeste|[null]    |[285]           |[Venda]   |29999      |\n",
            "|4    |55        |55       |2        |[Academia, Churrasqueira, Piscina, Playground, Salão de festas, Elevador, Condomínio fechado, Portão eletrônico, Portaria 24h, Animais permitidos]|111472a2-afa1-4a73-a8b3-3588ffba362c|2      |1     |Usado       |Apartamento |Residencial|1   |Recreio dos Bandeirantes|Zona Oeste|[0]       |[0]             |[Venda]   |30000      |\n",
            "|0    |45        |45       |1        |[Playground, Piscina, Churrasqueira, Salão de festas, Condomínio fechado]                                                                         |275c1589-6537-4bf7-9504-74410dbf01fc|2      |0     |Usado       |Apartamento |Residencial|1   |Cosmos                  |Zona Oeste|[null]    |[null]          |[Venda]   |30000      |\n",
            "|5    |42        |42       |1        |[Condomínio fechado, Portaria 24h, Salão de festas, Portão eletrônico, Animais permitidos]                                                        |ab8f367f-7509-45c7-ad9a-f51f84584376|2      |0     |Usado       |Apartamento |Residencial|0   |Realengo                |Zona Oeste|[0]       |[280]           |[Venda]   |25000      |\n",
            "|1    |43        |43       |1        |[Churrasqueira, Playground, Salão de festas, Condomínio fechado, Portão eletrônico, Portaria 24h, Animais permitidos]                             |e0a3d370-66dd-4f50-a3d9-cf09c8212318|2      |null  |Usado       |Apartamento |Residencial|1   |Cosmos                  |Zona Oeste|[null]    |[280]           |[Venda]   |27999      |\n",
            "|3    |null      |55       |1        |[Academia, Churrasqueira, Piscina, Playground, Salão de festas, Elevador, Condomínio fechado, Portão eletrônico, Portaria 24h, Animais permitidos]|09c8ba2d-dbf1-4879-ba5b-1345355dc415|2      |1     |Usado       |Apartamento |Residencial|1   |Todos os Santos         |Zona Norte|[0]       |[0]             |[Venda]   |26000      |\n",
            "+-----+----------+---------+---------+--------------------------------------------------------------------------------------------------------------------------------------------------+------------------------------------+-------+------+------------+------------+-----------+----+------------------------+----------+----------+----------------+----------+-----------+\n",
            "only showing top 20 rows\n",
            "\n"
          ]
        }
      ]
    },
    {
      "cell_type": "markdown",
      "source": [
        "# Preparação dos dados / Data preparation"
      ],
      "metadata": {
        "id": "efmX9WY7kvHU"
      }
    },
    {
      "cell_type": "code",
      "source": [
        "dados.describe(['area_total', 'area_util']).show()"
      ],
      "metadata": {
        "colab": {
          "base_uri": "https://localhost:8080/"
        },
        "id": "KvgE_OCDfezG",
        "outputId": "a4d69dbb-9eb0-427e-9f3b-7c3902abdacf"
      },
      "execution_count": null,
      "outputs": [
        {
          "output_type": "stream",
          "name": "stdout",
          "text": [
            "+-------+-----------------+------------------+\n",
            "|summary|       area_total|         area_util|\n",
            "+-------+-----------------+------------------+\n",
            "|  count|            57368|             66562|\n",
            "|   mean|938.1081264816622|116.73728253357771|\n",
            "| stddev|84173.43322353484| 89.09094364150465|\n",
            "|    min|                0|                10|\n",
            "|    max|         15022793|              3456|\n",
            "+-------+-----------------+------------------+\n",
            "\n"
          ]
        }
      ]
    },
    {
      "cell_type": "code",
      "source": [
        "dados = dados \\\n",
        "    .drop('area_total')\n",
        "\n",
        "dados.show()"
      ],
      "metadata": {
        "colab": {
          "base_uri": "https://localhost:8080/"
        },
        "id": "D4Vq4eiLfsrE",
        "outputId": "5f01eb47-af01-4b9e-ed2a-43bd4ae0180d"
      },
      "execution_count": null,
      "outputs": [
        {
          "output_type": "stream",
          "name": "stdout",
          "text": [
            "+-----+---------+---------+--------------------+--------------------+-------+------+------------+------------+-----------+----+--------------------+----------+----------+----------------+----------+-----------+\n",
            "|andar|area_util|banheiros|     caracteristicas|                  id|quartos|suites|tipo_anuncio|tipo_unidade|   tipo_uso|vaga|              bairro|      zona|valor_iptu|valor_condominio|valor_tipo|valor_valor|\n",
            "+-----+---------+---------+--------------------+--------------------+-------+------+------------+------------+-----------+----+--------------------+----------+----------+----------------+----------+-----------+\n",
            "|    3|       43|        1|[Academia, Churra...|d2e3a3aa-09b5-45a...|      2|  null|       Usado| Apartamento|Residencial|   1|           Paciência|Zona Oeste|    [null]|           [245]|   [Venda]|      15000|\n",
            "|    2|       42|        1|[Churrasqueira, P...|085bab2c-87ad-452...|      2|  null|       Usado| Apartamento|Residencial|   1|           Paciência|Zona Oeste|       [0]|             [0]|   [Venda]|      15000|\n",
            "|    1|       41|        1|[Portaria 24h, Co...|18d22cbe-1b86-476...|      2|  null|       Usado| Apartamento|Residencial|   1|           Guaratiba|Zona Oeste|       [0]|             [0]|   [Venda]|      20000|\n",
            "|    3|       43|        1|[Churrasqueira, P...|bed8a354-9317-442...|      2|  null|       Usado| Apartamento|Residencial|   0|              Cosmos|Zona Oeste|    [null]|           [285]|   [Venda]|      20000|\n",
            "|    2|       43|        1|[Academia, Churra...|12a13315-d67f-48f...|      2|  null|       Usado| Apartamento|Residencial|   1|           Guaratiba|Zona Oeste|    [null]|           [245]|   [Venda]|      15000|\n",
            "|    3|       43|        1|[Churrasqueira, P...|a2e6d7a5-0ff0-484...|      2|     0|       Usado| Apartamento|Residencial|   0|              Cosmos|Zona Oeste|    [null]|           [285]|   [Venda]|      20000|\n",
            "|    3|       43|        1|[Churrasqueira, P...|a6e3173b-c950-4db...|      2|  null|       Usado| Apartamento|Residencial|   1|           Paciência|Zona Oeste|    [null]|           [250]|   [Venda]|      15000|\n",
            "|    3|       43|        1|[Churrasqueira, P...|2e6e5dfb-206c-496...|      2|     0|       Usado| Apartamento|Residencial|   1|           Guaratiba|Zona Oeste|    [null]|           [245]|   [Venda]|      15000|\n",
            "|    3|       43|        1|[Churrasqueira, P...|99f8d0f9-95a4-461...|      2|     0|       Usado| Apartamento|Residencial|   1|           Paciência|Zona Oeste|    [null]|           [245]|   [Venda]|      15000|\n",
            "|    4|       43|        1|[Churrasqueira, P...|b3f44c1a-2d50-4d5...|      2|  null|       Usado| Apartamento|Residencial|   1|           Guaratiba|Zona Oeste|    [null]|           [240]|   [Venda]|      17999|\n",
            "|    0|       60|        1|[Condomínio fechado]|dc99d9e1-4c63-41f...|      2|  null|       Usado| Apartamento|Residencial|   1|  Pedra de Guaratiba|Zona Oeste|       [0]|             [0]|   [Venda]|      15000|\n",
            "|    1|       43|        1|[Churrasqueira, P...|aa3606d8-8bcd-45e...|      2|  null|       Usado| Apartamento|Residencial|   1|              Cosmos|Zona Oeste|       [0]|           [240]|   [Venda]|      19999|\n",
            "|    0|       43|        1|[Churrasqueira, P...|df80b0d5-677c-4be...|      2|     0|       Usado| Apartamento|Residencial|   0|        Campo Grande|Zona Oeste|    [null]|           [245]|   [Venda]|      19999|\n",
            "|    2|       43|        1|[Academia, Churra...|3d6c0218-9b7d-474...|      2|  null|       Usado| Apartamento|Residencial|   2|          Santa Cruz|Zona Oeste|    [null]|           [290]|   [Venda]|      25000|\n",
            "|    3|       43|        1|[Salão de festas,...|304266cc-62d1-4ce...|      2|  null|       Usado| Apartamento|Residencial|null|           Guaratiba|Zona Oeste|    [null]|           [285]|   [Venda]|      29999|\n",
            "|    4|       55|        2|[Academia, Churra...|111472a2-afa1-4a7...|      2|     1|       Usado| Apartamento|Residencial|   1|Recreio dos Bande...|Zona Oeste|       [0]|             [0]|   [Venda]|      30000|\n",
            "|    0|       45|        1|[Playground, Pisc...|275c1589-6537-4bf...|      2|     0|       Usado| Apartamento|Residencial|   1|              Cosmos|Zona Oeste|    [null]|          [null]|   [Venda]|      30000|\n",
            "|    5|       42|        1|[Condomínio fecha...|ab8f367f-7509-45c...|      2|     0|       Usado| Apartamento|Residencial|   0|            Realengo|Zona Oeste|       [0]|           [280]|   [Venda]|      25000|\n",
            "|    1|       43|        1|[Churrasqueira, P...|e0a3d370-66dd-4f5...|      2|  null|       Usado| Apartamento|Residencial|   1|              Cosmos|Zona Oeste|    [null]|           [280]|   [Venda]|      27999|\n",
            "|    3|       55|        1|[Academia, Churra...|09c8ba2d-dbf1-487...|      2|     1|       Usado| Apartamento|Residencial|   1|     Todos os Santos|Zona Norte|       [0]|             [0]|   [Venda]|      26000|\n",
            "+-----+---------+---------+--------------------+--------------------+-------+------+------------+------------+-----------+----+--------------------+----------+----------+----------------+----------+-----------+\n",
            "only showing top 20 rows\n",
            "\n"
          ]
        }
      ]
    },
    {
      "cell_type": "code",
      "source": [
        "dados \\\n",
        "    .select('valor_tipo') \\\n",
        "    .groupBy('valor_tipo') \\\n",
        "    .count() \\\n",
        "    .show()\n",
        "\n",
        "dados \\\n",
        "    .select('tipo_anuncio') \\\n",
        "    .groupBy('tipo_anuncio') \\\n",
        "    .count() \\\n",
        "    .show()\n",
        "\n",
        "dados \\\n",
        "    .select('tipo_unidade') \\\n",
        "    .groupBy('tipo_unidade') \\\n",
        "    .count() \\\n",
        "    .show()\n",
        "\n",
        "dados \\\n",
        "    .select('tipo_uso') \\\n",
        "    .groupBy('tipo_uso') \\\n",
        "    .count() \\\n",
        "    .show()"
      ],
      "metadata": {
        "colab": {
          "base_uri": "https://localhost:8080/"
        },
        "id": "cygs_4J6jXsa",
        "outputId": "924fc89c-3d81-4e25-b31d-a804bc48fb78"
      },
      "execution_count": null,
      "outputs": [
        {
          "output_type": "stream",
          "name": "stdout",
          "text": [
            "+----------------+-----+\n",
            "|      valor_tipo|count|\n",
            "+----------------+-----+\n",
            "|[Venda, Aluguel]|  407|\n",
            "|[Aluguel, Venda]|  214|\n",
            "|         [Venda]|65941|\n",
            "+----------------+-----+\n",
            "\n",
            "+------------+-----+\n",
            "|tipo_anuncio|count|\n",
            "+------------+-----+\n",
            "|       Usado|66562|\n",
            "+------------+-----+\n",
            "\n",
            "+------------+-----+\n",
            "|tipo_unidade|count|\n",
            "+------------+-----+\n",
            "| Apartamento|66562|\n",
            "+------------+-----+\n",
            "\n",
            "+-----------+-----+\n",
            "|   tipo_uso|count|\n",
            "+-----------+-----+\n",
            "|Residencial|66562|\n",
            "+-----------+-----+\n",
            "\n"
          ]
        }
      ]
    },
    {
      "cell_type": "code",
      "source": [
        "dados = dados \\\n",
        "    .drop('valor_tipo') \\\n",
        "    .drop('tipo_anuncio') \\\n",
        "    .drop('tipo_unidade') \\\n",
        "    .drop('tipo_uso') \\\n",
        "\n",
        "dados.show()"
      ],
      "metadata": {
        "colab": {
          "base_uri": "https://localhost:8080/"
        },
        "id": "bxFQI0Dpjs4E",
        "outputId": "051e0d75-9380-42a9-fea3-007f314cbe7c"
      },
      "execution_count": null,
      "outputs": [
        {
          "output_type": "stream",
          "name": "stdout",
          "text": [
            "+-----+---------+---------+--------------------+--------------------+-------+------+----+--------------------+----------+----------+----------------+-----------+\n",
            "|andar|area_util|banheiros|     caracteristicas|                  id|quartos|suites|vaga|              bairro|      zona|valor_iptu|valor_condominio|valor_valor|\n",
            "+-----+---------+---------+--------------------+--------------------+-------+------+----+--------------------+----------+----------+----------------+-----------+\n",
            "|    3|       43|        1|[Academia, Churra...|d2e3a3aa-09b5-45a...|      2|  null|   1|           Paciência|Zona Oeste|    [null]|           [245]|      15000|\n",
            "|    2|       42|        1|[Churrasqueira, P...|085bab2c-87ad-452...|      2|  null|   1|           Paciência|Zona Oeste|       [0]|             [0]|      15000|\n",
            "|    1|       41|        1|[Portaria 24h, Co...|18d22cbe-1b86-476...|      2|  null|   1|           Guaratiba|Zona Oeste|       [0]|             [0]|      20000|\n",
            "|    3|       43|        1|[Churrasqueira, P...|bed8a354-9317-442...|      2|  null|   0|              Cosmos|Zona Oeste|    [null]|           [285]|      20000|\n",
            "|    2|       43|        1|[Academia, Churra...|12a13315-d67f-48f...|      2|  null|   1|           Guaratiba|Zona Oeste|    [null]|           [245]|      15000|\n",
            "|    3|       43|        1|[Churrasqueira, P...|a2e6d7a5-0ff0-484...|      2|     0|   0|              Cosmos|Zona Oeste|    [null]|           [285]|      20000|\n",
            "|    3|       43|        1|[Churrasqueira, P...|a6e3173b-c950-4db...|      2|  null|   1|           Paciência|Zona Oeste|    [null]|           [250]|      15000|\n",
            "|    3|       43|        1|[Churrasqueira, P...|2e6e5dfb-206c-496...|      2|     0|   1|           Guaratiba|Zona Oeste|    [null]|           [245]|      15000|\n",
            "|    3|       43|        1|[Churrasqueira, P...|99f8d0f9-95a4-461...|      2|     0|   1|           Paciência|Zona Oeste|    [null]|           [245]|      15000|\n",
            "|    4|       43|        1|[Churrasqueira, P...|b3f44c1a-2d50-4d5...|      2|  null|   1|           Guaratiba|Zona Oeste|    [null]|           [240]|      17999|\n",
            "|    0|       60|        1|[Condomínio fechado]|dc99d9e1-4c63-41f...|      2|  null|   1|  Pedra de Guaratiba|Zona Oeste|       [0]|             [0]|      15000|\n",
            "|    1|       43|        1|[Churrasqueira, P...|aa3606d8-8bcd-45e...|      2|  null|   1|              Cosmos|Zona Oeste|       [0]|           [240]|      19999|\n",
            "|    0|       43|        1|[Churrasqueira, P...|df80b0d5-677c-4be...|      2|     0|   0|        Campo Grande|Zona Oeste|    [null]|           [245]|      19999|\n",
            "|    2|       43|        1|[Academia, Churra...|3d6c0218-9b7d-474...|      2|  null|   2|          Santa Cruz|Zona Oeste|    [null]|           [290]|      25000|\n",
            "|    3|       43|        1|[Salão de festas,...|304266cc-62d1-4ce...|      2|  null|null|           Guaratiba|Zona Oeste|    [null]|           [285]|      29999|\n",
            "|    4|       55|        2|[Academia, Churra...|111472a2-afa1-4a7...|      2|     1|   1|Recreio dos Bande...|Zona Oeste|       [0]|             [0]|      30000|\n",
            "|    0|       45|        1|[Playground, Pisc...|275c1589-6537-4bf...|      2|     0|   1|              Cosmos|Zona Oeste|    [null]|          [null]|      30000|\n",
            "|    5|       42|        1|[Condomínio fecha...|ab8f367f-7509-45c...|      2|     0|   0|            Realengo|Zona Oeste|       [0]|           [280]|      25000|\n",
            "|    1|       43|        1|[Churrasqueira, P...|e0a3d370-66dd-4f5...|      2|  null|   1|              Cosmos|Zona Oeste|    [null]|           [280]|      27999|\n",
            "|    3|       55|        1|[Academia, Churra...|09c8ba2d-dbf1-487...|      2|     1|   1|     Todos os Santos|Zona Norte|       [0]|             [0]|      26000|\n",
            "+-----+---------+---------+--------------------+--------------------+-------+------+----+--------------------+----------+----------+----------------+-----------+\n",
            "only showing top 20 rows\n",
            "\n"
          ]
        }
      ]
    },
    {
      "cell_type": "markdown",
      "source": [
        "## Covertendo os tipos das colunas / Converting columns' types"
      ],
      "metadata": {
        "id": "JXZ0jdIkkxuR"
      }
    },
    {
      "cell_type": "code",
      "source": [
        "from pyspark.sql.types import IntegerType, DoubleType"
      ],
      "metadata": {
        "id": "KS8b8Sinj1qa"
      },
      "execution_count": null,
      "outputs": []
    },
    {
      "cell_type": "code",
      "source": [
        "dados.printSchema()"
      ],
      "metadata": {
        "colab": {
          "base_uri": "https://localhost:8080/"
        },
        "id": "MgTeiTg2k5_P",
        "outputId": "6661c47d-19ba-4d12-fa52-363041f85502"
      },
      "execution_count": null,
      "outputs": [
        {
          "output_type": "stream",
          "name": "stdout",
          "text": [
            "root\n",
            " |-- andar: long (nullable = true)\n",
            " |-- area_util: integer (nullable = true)\n",
            " |-- banheiros: integer (nullable = true)\n",
            " |-- caracteristicas: array (nullable = true)\n",
            " |    |-- element: string (containsNull = true)\n",
            " |-- id: string (nullable = true)\n",
            " |-- quartos: integer (nullable = true)\n",
            " |-- suites: integer (nullable = true)\n",
            " |-- vaga: integer (nullable = true)\n",
            " |-- bairro: string (nullable = true)\n",
            " |-- zona: string (nullable = true)\n",
            " |-- valor_iptu: array (nullable = true)\n",
            " |    |-- element: string (containsNull = true)\n",
            " |-- valor_condominio: array (nullable = true)\n",
            " |    |-- element: string (containsNull = true)\n",
            " |-- valor_valor: integer (nullable = true)\n",
            "\n"
          ]
        }
      ]
    },
    {
      "cell_type": "code",
      "source": [
        "dados = dados \\\n",
        "    .withColumn('andar', dados['andar'].cast(IntegerType())) \\\n",
        "    .withColumn('area_util', dados['area_util'].cast(DoubleType())) \\\n",
        "    .withColumn('valor_iptu', dados['valor_iptu'][0].cast(DoubleType())) \\\n",
        "    .withColumn('valor_condominio', dados['valor_condominio'][0].cast(DoubleType())) \\\n",
        "    .withColumn('valor_valor', dados['valor_valor'].cast(DoubleType())) \\\n",
        "    \n",
        "dados.printSchema()"
      ],
      "metadata": {
        "colab": {
          "base_uri": "https://localhost:8080/"
        },
        "id": "xSa2eradk754",
        "outputId": "b685807c-8c87-4897-bdf6-21cde95d9413"
      },
      "execution_count": null,
      "outputs": [
        {
          "output_type": "stream",
          "name": "stdout",
          "text": [
            "root\n",
            " |-- andar: integer (nullable = true)\n",
            " |-- area_util: double (nullable = true)\n",
            " |-- banheiros: integer (nullable = true)\n",
            " |-- caracteristicas: array (nullable = true)\n",
            " |    |-- element: string (containsNull = true)\n",
            " |-- id: string (nullable = true)\n",
            " |-- quartos: integer (nullable = true)\n",
            " |-- suites: integer (nullable = true)\n",
            " |-- vaga: integer (nullable = true)\n",
            " |-- bairro: string (nullable = true)\n",
            " |-- zona: string (nullable = true)\n",
            " |-- valor_iptu: double (nullable = true)\n",
            " |-- valor_condominio: double (nullable = true)\n",
            " |-- valor_valor: double (nullable = true)\n",
            "\n"
          ]
        }
      ]
    },
    {
      "cell_type": "code",
      "source": [
        "dados.select('andar').groupby('andar').count().orderBy('andar').show(60)"
      ],
      "metadata": {
        "colab": {
          "base_uri": "https://localhost:8080/"
        },
        "id": "UAIi7fzinEh1",
        "outputId": "bdeafa2b-35cf-4a99-dc89-33bf70aaa66e"
      },
      "execution_count": null,
      "outputs": [
        {
          "output_type": "stream",
          "name": "stdout",
          "text": [
            "+-----+-----+\n",
            "|andar|count|\n",
            "+-----+-----+\n",
            "|    0|41176|\n",
            "|    1| 3207|\n",
            "|    2| 3694|\n",
            "|    3| 3552|\n",
            "|    4| 2711|\n",
            "|    5| 2417|\n",
            "|    6| 1851|\n",
            "|    7| 1518|\n",
            "|    8| 1318|\n",
            "|    9|  838|\n",
            "|   10| 1262|\n",
            "|   11|  524|\n",
            "|   12|  522|\n",
            "|   13|  332|\n",
            "|   14|  208|\n",
            "|   15|  417|\n",
            "|   16|  181|\n",
            "|   17|  229|\n",
            "|   18|  119|\n",
            "|   19|   57|\n",
            "|   20|  131|\n",
            "|   21|   88|\n",
            "|   22|   67|\n",
            "|   23|   21|\n",
            "|   24|    9|\n",
            "|   25|   20|\n",
            "|   26|    8|\n",
            "|   27|    1|\n",
            "|   28|    6|\n",
            "|   29|    1|\n",
            "|   30|    3|\n",
            "|   32|    2|\n",
            "|   37|    1|\n",
            "|   39|    1|\n",
            "|   40|    2|\n",
            "|   41|    1|\n",
            "|   42|    1|\n",
            "|   43|    1|\n",
            "|   45|    2|\n",
            "|   47|    3|\n",
            "|   48|    1|\n",
            "|   50|   31|\n",
            "|   70|    2|\n",
            "|   99|    6|\n",
            "|  102|    1|\n",
            "|  123|    5|\n",
            "|  150|    1|\n",
            "|  280|    1|\n",
            "|  300|    1|\n",
            "|  345|    1|\n",
            "|  504|    1|\n",
            "|  703|    1|\n",
            "| 1234|    8|\n",
            "+-----+-----+\n",
            "\n"
          ]
        }
      ]
    },
    {
      "cell_type": "code",
      "source": [
        "dados = dados \\\n",
        "    .select(\"*\") \\\n",
        "    .where(\"andar <= 50\") \\\n",
        "\n",
        "dados.select('andar').groupby('andar').count().orderBy('andar').show(60)"
      ],
      "metadata": {
        "colab": {
          "base_uri": "https://localhost:8080/"
        },
        "id": "4wiVD1Tyli0D",
        "outputId": "88ba2582-6fb0-49ec-d839-b05fd12ef9ab"
      },
      "execution_count": null,
      "outputs": [
        {
          "output_type": "stream",
          "name": "stdout",
          "text": [
            "+-----+-----+\n",
            "|andar|count|\n",
            "+-----+-----+\n",
            "|    0|41176|\n",
            "|    1| 3207|\n",
            "|    2| 3694|\n",
            "|    3| 3552|\n",
            "|    4| 2711|\n",
            "|    5| 2417|\n",
            "|    6| 1851|\n",
            "|    7| 1518|\n",
            "|    8| 1318|\n",
            "|    9|  838|\n",
            "|   10| 1262|\n",
            "|   11|  524|\n",
            "|   12|  522|\n",
            "|   13|  332|\n",
            "|   14|  208|\n",
            "|   15|  417|\n",
            "|   16|  181|\n",
            "|   17|  229|\n",
            "|   18|  119|\n",
            "|   19|   57|\n",
            "|   20|  131|\n",
            "|   21|   88|\n",
            "|   22|   67|\n",
            "|   23|   21|\n",
            "|   24|    9|\n",
            "|   25|   20|\n",
            "|   26|    8|\n",
            "|   27|    1|\n",
            "|   28|    6|\n",
            "|   29|    1|\n",
            "|   30|    3|\n",
            "|   32|    2|\n",
            "|   37|    1|\n",
            "|   39|    1|\n",
            "|   40|    2|\n",
            "|   41|    1|\n",
            "|   42|    1|\n",
            "|   43|    1|\n",
            "|   45|    2|\n",
            "|   47|    3|\n",
            "|   48|    1|\n",
            "|   50|   31|\n",
            "+-----+-----+\n",
            "\n"
          ]
        }
      ]
    },
    {
      "cell_type": "markdown",
      "source": [
        "## Tratamento de dados faltantes / Dealing with missing data"
      ],
      "metadata": {
        "id": "jO9ga50cqZN1"
      }
    },
    {
      "cell_type": "code",
      "source": [
        "dados \\\n",
        "    .select(f.col('caracteristicas').alias('nulos')) \\\n",
        "    .where(f.size(f.col('caracteristicas')) < 1) \\\n",
        "    .show()"
      ],
      "metadata": {
        "colab": {
          "base_uri": "https://localhost:8080/"
        },
        "id": "1uusUihAmvXt",
        "outputId": "f78a6ed8-38e0-4fe7-88ed-365156d6e17c"
      },
      "execution_count": null,
      "outputs": [
        {
          "output_type": "stream",
          "name": "stdout",
          "text": [
            "+-----+\n",
            "|nulos|\n",
            "+-----+\n",
            "|   []|\n",
            "|   []|\n",
            "|   []|\n",
            "|   []|\n",
            "|   []|\n",
            "|   []|\n",
            "|   []|\n",
            "|   []|\n",
            "|   []|\n",
            "|   []|\n",
            "|   []|\n",
            "|   []|\n",
            "|   []|\n",
            "|   []|\n",
            "|   []|\n",
            "|   []|\n",
            "|   []|\n",
            "|   []|\n",
            "|   []|\n",
            "|   []|\n",
            "+-----+\n",
            "only showing top 20 rows\n",
            "\n"
          ]
        }
      ]
    },
    {
      "cell_type": "code",
      "source": [
        "dados = dados.withColumn(\n",
        "    'caracteristicas',\n",
        "    f.when(f.size(f.col('caracteristicas')) == 0, None) \\\n",
        "    .otherwise(f.col('caracteristicas'))\n",
        ") \\\n",
        "\n",
        "dados\\\n",
        "    .select(f.col('caracteristicas').alias('nulos')) \\\n",
        "    .where(f.size(f.col('caracteristicas')) < 1) \\\n",
        "    .show()\n"
      ],
      "metadata": {
        "colab": {
          "base_uri": "https://localhost:8080/"
        },
        "id": "JEDrwLlHqyZU",
        "outputId": "688372f9-879f-4b0c-d8a4-ef8e333999e0"
      },
      "execution_count": null,
      "outputs": [
        {
          "output_type": "stream",
          "name": "stdout",
          "text": [
            "+-----+\n",
            "|nulos|\n",
            "+-----+\n",
            "| null|\n",
            "| null|\n",
            "| null|\n",
            "| null|\n",
            "| null|\n",
            "| null|\n",
            "| null|\n",
            "| null|\n",
            "| null|\n",
            "| null|\n",
            "| null|\n",
            "| null|\n",
            "| null|\n",
            "| null|\n",
            "| null|\n",
            "| null|\n",
            "| null|\n",
            "| null|\n",
            "| null|\n",
            "| null|\n",
            "+-----+\n",
            "only showing top 20 rows\n",
            "\n"
          ]
        }
      ]
    },
    {
      "cell_type": "code",
      "source": [
        "dados = dados \\\n",
        "    .select(\"*\") \\\n",
        "    .na.fill(0)\n",
        "\n",
        "dados.show()"
      ],
      "metadata": {
        "colab": {
          "base_uri": "https://localhost:8080/"
        },
        "id": "sxBcFDTFwZ_d",
        "outputId": "e73e873c-cd71-4552-eaf9-04e1a1e5533a"
      },
      "execution_count": null,
      "outputs": [
        {
          "output_type": "stream",
          "name": "stdout",
          "text": [
            "+-----+---------+---------+--------------------+--------------------+-------+------+----+--------------------+----------+----------+----------------+-----------+\n",
            "|andar|area_util|banheiros|     caracteristicas|                  id|quartos|suites|vaga|              bairro|      zona|valor_iptu|valor_condominio|valor_valor|\n",
            "+-----+---------+---------+--------------------+--------------------+-------+------+----+--------------------+----------+----------+----------------+-----------+\n",
            "|    3|     43.0|        1|[Academia, Churra...|d2e3a3aa-09b5-45a...|      2|     0|   1|           Paciência|Zona Oeste|       0.0|           245.0|    15000.0|\n",
            "|    2|     42.0|        1|[Churrasqueira, P...|085bab2c-87ad-452...|      2|     0|   1|           Paciência|Zona Oeste|       0.0|             0.0|    15000.0|\n",
            "|    1|     41.0|        1|[Portaria 24h, Co...|18d22cbe-1b86-476...|      2|     0|   1|           Guaratiba|Zona Oeste|       0.0|             0.0|    20000.0|\n",
            "|    3|     43.0|        1|[Churrasqueira, P...|bed8a354-9317-442...|      2|     0|   0|              Cosmos|Zona Oeste|       0.0|           285.0|    20000.0|\n",
            "|    2|     43.0|        1|[Academia, Churra...|12a13315-d67f-48f...|      2|     0|   1|           Guaratiba|Zona Oeste|       0.0|           245.0|    15000.0|\n",
            "|    3|     43.0|        1|[Churrasqueira, P...|a2e6d7a5-0ff0-484...|      2|     0|   0|              Cosmos|Zona Oeste|       0.0|           285.0|    20000.0|\n",
            "|    3|     43.0|        1|[Churrasqueira, P...|a6e3173b-c950-4db...|      2|     0|   1|           Paciência|Zona Oeste|       0.0|           250.0|    15000.0|\n",
            "|    3|     43.0|        1|[Churrasqueira, P...|2e6e5dfb-206c-496...|      2|     0|   1|           Guaratiba|Zona Oeste|       0.0|           245.0|    15000.0|\n",
            "|    3|     43.0|        1|[Churrasqueira, P...|99f8d0f9-95a4-461...|      2|     0|   1|           Paciência|Zona Oeste|       0.0|           245.0|    15000.0|\n",
            "|    4|     43.0|        1|[Churrasqueira, P...|b3f44c1a-2d50-4d5...|      2|     0|   1|           Guaratiba|Zona Oeste|       0.0|           240.0|    17999.0|\n",
            "|    0|     60.0|        1|[Condomínio fechado]|dc99d9e1-4c63-41f...|      2|     0|   1|  Pedra de Guaratiba|Zona Oeste|       0.0|             0.0|    15000.0|\n",
            "|    1|     43.0|        1|[Churrasqueira, P...|aa3606d8-8bcd-45e...|      2|     0|   1|              Cosmos|Zona Oeste|       0.0|           240.0|    19999.0|\n",
            "|    0|     43.0|        1|[Churrasqueira, P...|df80b0d5-677c-4be...|      2|     0|   0|        Campo Grande|Zona Oeste|       0.0|           245.0|    19999.0|\n",
            "|    2|     43.0|        1|[Academia, Churra...|3d6c0218-9b7d-474...|      2|     0|   2|          Santa Cruz|Zona Oeste|       0.0|           290.0|    25000.0|\n",
            "|    3|     43.0|        1|[Salão de festas,...|304266cc-62d1-4ce...|      2|     0|   0|           Guaratiba|Zona Oeste|       0.0|           285.0|    29999.0|\n",
            "|    4|     55.0|        2|[Academia, Churra...|111472a2-afa1-4a7...|      2|     1|   1|Recreio dos Bande...|Zona Oeste|       0.0|             0.0|    30000.0|\n",
            "|    0|     45.0|        1|[Playground, Pisc...|275c1589-6537-4bf...|      2|     0|   1|              Cosmos|Zona Oeste|       0.0|             0.0|    30000.0|\n",
            "|    5|     42.0|        1|[Condomínio fecha...|ab8f367f-7509-45c...|      2|     0|   0|            Realengo|Zona Oeste|       0.0|           280.0|    25000.0|\n",
            "|    1|     43.0|        1|[Churrasqueira, P...|e0a3d370-66dd-4f5...|      2|     0|   1|              Cosmos|Zona Oeste|       0.0|           280.0|    27999.0|\n",
            "|    3|     55.0|        1|[Academia, Churra...|09c8ba2d-dbf1-487...|      2|     1|   1|     Todos os Santos|Zona Norte|       0.0|             0.0|    26000.0|\n",
            "+-----+---------+---------+--------------------+--------------------+-------+------+----+--------------------+----------+----------+----------------+-----------+\n",
            "only showing top 20 rows\n",
            "\n"
          ]
        }
      ]
    },
    {
      "cell_type": "markdown",
      "source": [
        "## Criação de variáveis Dummy / Dummy variables creation"
      ],
      "metadata": {
        "id": "J29JGNJgzB5m"
      }
    },
    {
      "cell_type": "code",
      "source": [
        "dados \\\n",
        "  .select('zona')\\\n",
        "  .groupBy('zona')\\\n",
        "  .count()\\\n",
        "  .show()"
      ],
      "metadata": {
        "colab": {
          "base_uri": "https://localhost:8080/"
        },
        "id": "CSr0mDkT5fpD",
        "outputId": "f2a6824e-6dbf-4051-cbc7-c020e274f980"
      },
      "execution_count": null,
      "outputs": [
        {
          "output_type": "stream",
          "name": "stdout",
          "text": [
            "+------------+-----+\n",
            "|        zona|count|\n",
            "+------------+-----+\n",
            "|  Zona Norte|11895|\n",
            "|  Zona Oeste|32954|\n",
            "|Zona Central| 1143|\n",
            "|    Zona Sul|20531|\n",
            "|            |   11|\n",
            "+------------+-----+\n",
            "\n"
          ]
        }
      ]
    },
    {
      "cell_type": "code",
      "source": [
        "dados = dados \\\n",
        "    .select(\"*\") \\\n",
        "    .where(\"zona != ''\")\n",
        "\n",
        "dados \\\n",
        "  .select('zona')\\\n",
        "  .groupBy('zona')\\\n",
        "  .count()\\\n",
        "  .show()"
      ],
      "metadata": {
        "colab": {
          "base_uri": "https://localhost:8080/"
        },
        "id": "Aw_WJZlL50gh",
        "outputId": "523f0556-6ff0-4af1-af8d-7547f2ff953e"
      },
      "execution_count": null,
      "outputs": [
        {
          "output_type": "stream",
          "name": "stdout",
          "text": [
            "+------------+-----+\n",
            "|        zona|count|\n",
            "+------------+-----+\n",
            "|  Zona Norte|11895|\n",
            "|  Zona Oeste|32954|\n",
            "|Zona Central| 1143|\n",
            "|    Zona Sul|20531|\n",
            "+------------+-----+\n",
            "\n"
          ]
        }
      ]
    },
    {
      "cell_type": "code",
      "source": [
        "zona = dados \\\n",
        "    .select(\"*\") \\\n",
        "    .groupBy(\"id\") \\\n",
        "    .pivot(\"zona\") \\\n",
        "    .agg(f.lit(1)) \\\n",
        "    .na.fill(0) \\\n",
        "    \n",
        "zona.show()"
      ],
      "metadata": {
        "colab": {
          "base_uri": "https://localhost:8080/"
        },
        "id": "4t7T50ZIyV9V",
        "outputId": "c73172d0-d65d-4e25-9355-ba1946634c39"
      },
      "execution_count": null,
      "outputs": [
        {
          "output_type": "stream",
          "name": "stdout",
          "text": [
            "+--------------------+------------+----------+----------+--------+\n",
            "|                  id|Zona Central|Zona Norte|Zona Oeste|Zona Sul|\n",
            "+--------------------+------------+----------+----------+--------+\n",
            "|4e47e4d4-3326-4eb...|           0|         0|         0|       1|\n",
            "|02fba6ef-a691-442...|           0|         0|         1|       0|\n",
            "|fc03c1a9-8bbb-41a...|           0|         1|         0|       0|\n",
            "|3dd5d200-0a7f-43d...|           0|         0|         0|       1|\n",
            "|82707939-71bd-40c...|           0|         0|         0|       1|\n",
            "|ece1e671-cb4d-48a...|           1|         0|         0|       0|\n",
            "|3521e03b-0815-4aa...|           0|         0|         0|       1|\n",
            "|03a386b6-7ab8-4ef...|           0|         0|         1|       0|\n",
            "|107507e0-f075-47e...|           0|         0|         1|       0|\n",
            "|c7e56e3a-a2b2-48a...|           0|         0|         1|       0|\n",
            "|b37a2a08-d3c6-489...|           0|         1|         0|       0|\n",
            "|a4b88c04-2655-414...|           0|         0|         1|       0|\n",
            "|3e9a8997-8071-4a4...|           0|         0|         1|       0|\n",
            "|efef38d2-12cf-428...|           0|         0|         1|       0|\n",
            "|9ab97f8d-0d2a-4a9...|           0|         0|         0|       1|\n",
            "|6179c8a4-1fd2-4f5...|           0|         0|         1|       0|\n",
            "|4c49bd8a-815f-496...|           0|         0|         0|       1|\n",
            "|af143cf5-1902-4fb...|           0|         0|         1|       0|\n",
            "|e4031c0d-5b72-493...|           0|         0|         1|       0|\n",
            "|44e32862-bfb9-4f6...|           0|         0|         1|       0|\n",
            "+--------------------+------------+----------+----------+--------+\n",
            "only showing top 20 rows\n",
            "\n"
          ]
        }
      ]
    },
    {
      "cell_type": "code",
      "source": [
        "caract = dados \\\n",
        "    .select('id', f.explode(dados['caracteristicas']).alias('caract')) \\\n",
        "    .groupBy(\"id\") \\\n",
        "    .pivot(\"caract\") \\\n",
        "    .agg(f.lit(1)) \\\n",
        "    .na.fill(0)\n",
        "\n",
        "caract.show()"
      ],
      "metadata": {
        "colab": {
          "base_uri": "https://localhost:8080/"
        },
        "id": "DWv1NiD7za39",
        "outputId": "169953d7-cd7c-462b-c963-3a882e530d0c"
      },
      "execution_count": null,
      "outputs": [
        {
          "output_type": "stream",
          "name": "stdout",
          "text": [
            "+--------------------+--------+------------------+-------------+------------------+--------+-------+----------+------------+-----------------+---------------+\n",
            "|                  id|Academia|Animais permitidos|Churrasqueira|Condomínio fechado|Elevador|Piscina|Playground|Portaria 24h|Portão eletrônico|Salão de festas|\n",
            "+--------------------+--------+------------------+-------------+------------------+--------+-------+----------+------------+-----------------+---------------+\n",
            "|fd96bbd5-d631-416...|       1|                 1|            1|                 1|       1|      1|         1|           1|                1|              1|\n",
            "|bfffedfe-99e7-4ae...|       0|                 1|            1|                 1|       1|      0|         1|           0|                1|              1|\n",
            "|fcb67af3-5601-415...|       1|                 1|            1|                 0|       0|      1|         1|           0|                0|              1|\n",
            "|afecddff-f4cc-4ab...|       1|                 1|            1|                 1|       1|      1|         1|           1|                1|              1|\n",
            "|1bbc40f3-4f5c-459...|       1|                 0|            0|                 1|       1|      1|         1|           1|                1|              1|\n",
            "|fd26aeb2-a7b3-4f8...|       1|                 1|            1|                 1|       1|      1|         1|           1|                1|              1|\n",
            "|10e9d118-dbad-43c...|       0|                 1|            1|                 1|       0|      1|         1|           1|                1|              1|\n",
            "|ca1e84d7-86c8-4b1...|       1|                 0|            1|                 1|       1|      1|         1|           1|                1|              1|\n",
            "|d9e139a5-e85d-4e1...|       1|                 1|            1|                 1|       1|      1|         1|           1|                1|              1|\n",
            "|156a1fa5-37ca-43d...|       1|                 0|            1|                 1|       1|      1|         1|           1|                1|              1|\n",
            "|e7be09eb-6223-4b4...|       1|                 1|            1|                 1|       1|      1|         1|           1|                1|              1|\n",
            "|631efda0-5e10-422...|       1|                 1|            1|                 1|       1|      1|         1|           1|                1|              1|\n",
            "|07cbfef2-efbf-4e8...|       0|                 1|            0|                 0|       1|      0|         0|           1|                0|              0|\n",
            "|62baf185-103d-448...|       1|                 0|            1|                 1|       0|      1|         1|           0|                0|              0|\n",
            "|3030d17c-5681-4b2...|       1|                 1|            1|                 1|       1|      1|         0|           1|                1|              1|\n",
            "|6179c8a4-1fd2-4f5...|       1|                 1|            0|                 1|       1|      1|         1|           1|                1|              1|\n",
            "|c284072a-7298-4e5...|       1|                 1|            1|                 1|       1|      1|         1|           1|                1|              1|\n",
            "|7e43514c-3b40-4fb...|       1|                 1|            1|                 1|       1|      1|         1|           1|                1|              1|\n",
            "|6a4ce9ac-1eb0-4d4...|       1|                 0|            1|                 0|       1|      1|         1|           0|                0|              1|\n",
            "|bdc6127a-1d97-41b...|       1|                 0|            1|                 0|       0|      0|         0|           0|                0|              1|\n",
            "+--------------------+--------+------------------+-------------+------------------+--------+-------+----------+------------+-----------------+---------------+\n",
            "only showing top 20 rows\n",
            "\n"
          ]
        }
      ]
    },
    {
      "cell_type": "code",
      "source": [
        "dataset = dados \\\n",
        "    .join(zona, 'id', how='inner') \\\n",
        "    .join(caract, 'id', how='inner')\n",
        "\n",
        "dataset.show()"
      ],
      "metadata": {
        "colab": {
          "base_uri": "https://localhost:8080/"
        },
        "id": "PKy_VWfU1TyI",
        "outputId": "40773f20-942c-4a74-f798-a4370cde297b"
      },
      "execution_count": null,
      "outputs": [
        {
          "output_type": "stream",
          "name": "stdout",
          "text": [
            "+--------------------+-----+---------+---------+--------------------+-------+------+----+--------------------+----------+----------+----------------+-----------+------------+----------+----------+--------+--------+------------------+-------------+------------------+--------+-------+----------+------------+-----------------+---------------+\n",
            "|                  id|andar|area_util|banheiros|     caracteristicas|quartos|suites|vaga|              bairro|      zona|valor_iptu|valor_condominio|valor_valor|Zona Central|Zona Norte|Zona Oeste|Zona Sul|Academia|Animais permitidos|Churrasqueira|Condomínio fechado|Elevador|Piscina|Playground|Portaria 24h|Portão eletrônico|Salão de festas|\n",
            "+--------------------+-----+---------+---------+--------------------+-------+------+----+--------------------+----------+----------+----------------+-----------+------------+----------+----------+--------+--------+------------------+-------------+------------------+--------+-------+----------+------------+-----------------+---------------+\n",
            "|00012605-9cae-45b...|    0|    410.0|        3|          [Elevador]|      4|     1|   1|             Ipanema|  Zona Sul|    5780.0|          3300.0|  4600000.0|           0|         0|         0|       1|       0|                 0|            0|                 0|       1|      0|         0|           0|                0|              0|\n",
            "|0002dfaf-7735-481...|    1|     50.0|        1|[Elevador, Salão ...|      1|     0|   1|         Vila Isabel|Zona Norte|     600.0|           500.0|   360000.0|           0|         1|         0|       0|       0|                 1|            0|                 0|       1|      0|         0|           0|                1|              1|\n",
            "|0003ce76-949d-484...|    0|    148.0|        4|[Churrasqueira, E...|      4|     2|   2|         Jacarepaguá|Zona Oeste|       0.0|             0.0|  1200000.0|           0|         0|         1|       0|       0|                 0|            1|                 0|       1|      1|         0|           0|                0|              0|\n",
            "|00064277-de4c-4a3...|    0|    104.0|        1|          [Elevador]|      2|     0|   0|          Copacabana|  Zona Sul|     272.0|          1010.0|   750000.0|           0|         0|         0|       1|       0|                 0|            0|                 0|       1|      0|         0|           0|                0|              0|\n",
            "|000be8fe-2044-4ce...|    0|     71.0|        2|          [Elevador]|      2|     0|   1|             Humaitá|  Zona Sul|     360.0|          1312.0|  1025000.0|           0|         0|         0|       1|       0|                 0|            0|                 0|       1|      0|         0|           0|                0|              0|\n",
            "|000c1a63-e78c-437...|    3|    115.0|        2|[Elevador, Playgr...|      3|     0|   0|          Copacabana|  Zona Sul|    3831.0|          1904.0|  1100000.0|           0|         0|         0|       1|       0|                 1|            0|                 1|       1|      0|         1|           1|                1|              1|\n",
            "|000ded8f-425e-435...|    0|     65.0|        1|[Elevador, Academ...|      2|     0|   0|Recreio dos Bande...|Zona Oeste|       0.0|             0.0|   593036.0|           0|         0|         1|       0|       1|                 1|            1|                 1|       1|      1|         1|           1|                1|              1|\n",
            "|000e02d5-7ee3-4e1...|    1|     74.0|        2|[Churrasqueira, A...|      2|     1|   1|     Barra da Tijuca|Zona Oeste|       1.0|             1.0|  1031576.0|           0|         0|         1|       0|       1|                 1|            1|                 1|       1|      1|         1|           1|                1|              1|\n",
            "|0012887a-18e2-4c9...|    5|    100.0|        3|[Elevador, Portão...|      3|     1|   0|          Copacabana|  Zona Sul|     240.0|          2081.0|   800000.0|           0|         0|         0|       1|       0|                 1|            0|                 0|       1|      0|         0|           0|                1|              0|\n",
            "|00189386-7a13-4f8...|    0|     70.0|        3|[Academia, Churra...|      2|     1|   2|Recreio dos Bande...|Zona Oeste|     981.0|          1003.0|   497000.0|           0|         0|         1|       0|       1|                 0|            1|                 1|       0|      0|         0|           0|                0|              1|\n",
            "|0019b46a-d9e3-405...|    0|    164.0|        5|[Academia, Churra...|      4|     2|   3|     Barra da Tijuca|Zona Oeste|     360.0|          2900.0|  1750000.0|           0|         0|         1|       0|       1|                 1|            1|                 1|       1|      1|         1|           1|                1|              1|\n",
            "|001a96b3-d026-459...|    0|     90.0|        3|[Churrasqueira, A...|      2|     1|   1|     Barra da Tijuca|Zona Oeste|    3000.0|          1300.0|   890000.0|           0|         0|         1|       0|       1|                 0|            1|                 0|       0|      0|         0|           0|                0|              0|\n",
            "|001d8c08-a187-4d7...|    8|    187.0|        5|[Churrasqueira, P...|      4|     2|   6|              Tijuca|Zona Norte|    4817.0|          2487.0|  1700000.0|           0|         1|         0|       0|       0|                 1|            1|                 1|       1|      1|         1|           1|                1|              0|\n",
            "|001e8003-ef49-4ac...|    0|    114.0|        2|          [Elevador]|      4|     1|   2|              Leblon|  Zona Sul|    2475.0|          1557.0|  1500000.0|           0|         0|         0|       1|       0|                 0|            0|                 0|       1|      0|         0|           0|                0|              0|\n",
            "|00227240-98ad-4e9...|    0|     75.0|        3|[Academia, Churra...|      2|     2|   1|     Barra da Tijuca|Zona Oeste|    2000.0|          1200.0|   800000.0|           0|         0|         1|       0|       1|                 1|            1|                 1|       1|      1|         1|           1|                1|              1|\n",
            "|0023e20a-7798-42d...|    0|     48.0|        1|[Elevador, Portão...|      1|     0|   1|     Jardim Botânico|  Zona Sul|       0.0|             0.0|   906000.0|           0|         0|         0|       1|       0|                 1|            0|                 0|       1|      0|         0|           1|                1|              0|\n",
            "|00281fb0-f53e-4b2...|    5|     65.0|        2|[Academia, Churra...|      2|     1|   1|     Barra da Tijuca|Zona Oeste|     210.0|          1100.0|   690000.0|           0|         0|         1|       0|       1|                 0|            1|                 1|       1|      1|         1|           1|                1|              1|\n",
            "|00287cb1-f8bc-4fe...|    4|     73.0|        2|[Condomínio fecha...|      2|     2|   1|         Laranjeiras|  Zona Sul|       1.0|           750.0|  1005000.0|           0|         0|         0|       1|       0|                 1|            0|                 1|       1|      1|         1|           1|                1|              1|\n",
            "|0029fe3b-399a-4ce...|    5|     50.0|        1|[Academia, Churra...|      2|     0|   1|        Campo Grande|Zona Oeste|     420.0|           400.0|   210000.0|           0|         0|         1|       0|       1|                 1|            1|                 1|       1|      1|         1|           1|                1|              1|\n",
            "|002e64f4-6256-414...|    0|     42.0|        1|[Elevador, Academ...|      1|     0|   0|            Botafogo|  Zona Sul|     100.0|           100.0|   673928.0|           0|         0|         0|       1|       1|                 1|            1|                 1|       1|      1|         1|           1|                1|              1|\n",
            "+--------------------+-----+---------+---------+--------------------+-------+------+----+--------------------+----------+----------+----------------+-----------+------------+----------+----------+--------+--------+------------------+-------------+------------------+--------+-------+----------+------------+-----------------+---------------+\n",
            "only showing top 20 rows\n",
            "\n"
          ]
        }
      ]
    },
    {
      "cell_type": "code",
      "source": [
        "dataset = dataset \\\n",
        "    .drop('bairro') \\\n",
        "    .drop('caracteristicas') \\\n",
        "    .drop('zona')\n",
        "\n",
        "dataset.printSchema()"
      ],
      "metadata": {
        "colab": {
          "base_uri": "https://localhost:8080/"
        },
        "id": "6_H9ZkU64cKZ",
        "outputId": "dd74f7e3-4c57-450d-bc00-2b63d26125eb"
      },
      "execution_count": null,
      "outputs": [
        {
          "output_type": "stream",
          "name": "stdout",
          "text": [
            "root\n",
            " |-- id: string (nullable = true)\n",
            " |-- andar: integer (nullable = true)\n",
            " |-- area_util: double (nullable = false)\n",
            " |-- banheiros: integer (nullable = true)\n",
            " |-- quartos: integer (nullable = true)\n",
            " |-- suites: integer (nullable = true)\n",
            " |-- vaga: integer (nullable = true)\n",
            " |-- valor_iptu: double (nullable = false)\n",
            " |-- valor_condominio: double (nullable = false)\n",
            " |-- valor_valor: double (nullable = false)\n",
            " |-- Zona Central: integer (nullable = true)\n",
            " |-- Zona Norte: integer (nullable = true)\n",
            " |-- Zona Oeste: integer (nullable = true)\n",
            " |-- Zona Sul: integer (nullable = true)\n",
            " |-- Academia: integer (nullable = true)\n",
            " |-- Animais permitidos: integer (nullable = true)\n",
            " |-- Churrasqueira: integer (nullable = true)\n",
            " |-- Condomínio fechado: integer (nullable = true)\n",
            " |-- Elevador: integer (nullable = true)\n",
            " |-- Piscina: integer (nullable = true)\n",
            " |-- Playground: integer (nullable = true)\n",
            " |-- Portaria 24h: integer (nullable = true)\n",
            " |-- Portão eletrônico: integer (nullable = true)\n",
            " |-- Salão de festas: integer (nullable = true)\n",
            "\n"
          ]
        }
      ]
    },
    {
      "cell_type": "markdown",
      "source": [
        "## Salvando Dataset em Parquet / Saving the Dataset in Parquet"
      ],
      "metadata": {
        "id": "E3bQypwK6kY_"
      }
    },
    {
      "cell_type": "code",
      "source": [
        "dataset.write.parquet('/content/drive/MyDrive/Alura/Challenge Data Science/Dataset', mode='overwrite')"
      ],
      "metadata": {
        "id": "7oMHnc9A4qYO"
      },
      "execution_count": null,
      "outputs": []
    },
    {
      "cell_type": "markdown",
      "source": [
        "## Vetorização dos Dados / Data vetorization"
      ],
      "metadata": {
        "id": "flI7tohC6-EL"
      }
    },
    {
      "cell_type": "code",
      "source": [
        "from pyspark.ml.feature import VectorAssembler\n"
      ],
      "metadata": {
        "id": "J5zczRZx62Tz"
      },
      "execution_count": null,
      "outputs": []
    },
    {
      "cell_type": "code",
      "source": [
        "dataset = dataset.withColumnRenamed('valor_valor', 'label')"
      ],
      "metadata": {
        "id": "Dmd6wDPL7WHp"
      },
      "execution_count": null,
      "outputs": []
    },
    {
      "cell_type": "code",
      "source": [
        "dataset.columns"
      ],
      "metadata": {
        "colab": {
          "base_uri": "https://localhost:8080/"
        },
        "id": "hNwns7Of7cZ4",
        "outputId": "613aa182-e3f7-4f37-e617-73d7e2b0ed74"
      },
      "execution_count": null,
      "outputs": [
        {
          "output_type": "execute_result",
          "data": {
            "text/plain": [
              "['id',\n",
              " 'andar',\n",
              " 'area_util',\n",
              " 'banheiros',\n",
              " 'quartos',\n",
              " 'suites',\n",
              " 'vaga',\n",
              " 'valor_iptu',\n",
              " 'valor_condominio',\n",
              " 'label',\n",
              " 'Zona Central',\n",
              " 'Zona Norte',\n",
              " 'Zona Oeste',\n",
              " 'Zona Sul',\n",
              " 'Academia',\n",
              " 'Animais permitidos',\n",
              " 'Churrasqueira',\n",
              " 'Condomínio fechado',\n",
              " 'Elevador',\n",
              " 'Piscina',\n",
              " 'Playground',\n",
              " 'Portaria 24h',\n",
              " 'Portão eletrônico',\n",
              " 'Salão de festas']"
            ]
          },
          "metadata": {},
          "execution_count": 102
        }
      ]
    },
    {
      "cell_type": "code",
      "source": [
        "X = [\n",
        " 'andar',\n",
        " 'area_util',\n",
        " 'banheiros',\n",
        " 'quartos',\n",
        " 'suites',\n",
        " 'vaga',\n",
        " 'valor_iptu',\n",
        " 'valor_condominio',\n",
        " 'Zona Central',\n",
        " 'Zona Norte',\n",
        " 'Zona Oeste',\n",
        " 'Zona Sul',\n",
        " 'Academia',\n",
        " 'Animais permitidos',\n",
        " 'Churrasqueira',\n",
        " 'Condomínio fechado',\n",
        " 'Elevador',\n",
        " 'Piscina',\n",
        " 'Playground',\n",
        " 'Portaria 24h',\n",
        " 'Portão eletrônico',\n",
        " 'Salão de festas'\n",
        "]"
      ],
      "metadata": {
        "id": "8kA-WqYq7dTg"
      },
      "execution_count": null,
      "outputs": []
    },
    {
      "cell_type": "code",
      "source": [
        "assembler = VectorAssembler(inputCols = X, outputCol = 'features')"
      ],
      "metadata": {
        "id": "Y3vMz_7m7y24"
      },
      "execution_count": null,
      "outputs": []
    },
    {
      "cell_type": "code",
      "source": [
        "dataset_prep = assembler.transform(dataset).select('features', 'label')"
      ],
      "metadata": {
        "id": "6XqhVui070MP"
      },
      "execution_count": null,
      "outputs": []
    },
    {
      "cell_type": "code",
      "source": [
        "dataset_prep.show(10, False)"
      ],
      "metadata": {
        "colab": {
          "base_uri": "https://localhost:8080/"
        },
        "id": "S8hG9CEi752Z",
        "outputId": "619c18f5-e77f-48b6-cd96-d0fb95e34d5c"
      },
      "execution_count": null,
      "outputs": [
        {
          "output_type": "stream",
          "name": "stdout",
          "text": [
            "+-------------------------------------------------------------------------------------------------+---------+\n",
            "|features                                                                                         |label    |\n",
            "+-------------------------------------------------------------------------------------------------+---------+\n",
            "|(22,[1,2,3,4,5,6,7,11,16],[410.0,3.0,4.0,1.0,1.0,5780.0,3300.0,1.0,1.0])                         |4600000.0|\n",
            "|(22,[0,1,2,3,5,6,7,9,13,16,20,21],[1.0,50.0,1.0,1.0,1.0,600.0,500.0,1.0,1.0,1.0,1.0,1.0])        |360000.0 |\n",
            "|(22,[1,2,3,4,5,10,14,16,17],[148.0,4.0,4.0,2.0,2.0,1.0,1.0,1.0,1.0])                             |1200000.0|\n",
            "|(22,[1,2,3,6,7,11,16],[104.0,1.0,2.0,272.0,1010.0,1.0,1.0])                                      |750000.0 |\n",
            "|(22,[1,2,3,5,6,7,11,16],[71.0,2.0,2.0,1.0,360.0,1312.0,1.0,1.0])                                 |1025000.0|\n",
            "|[3.0,115.0,2.0,3.0,0.0,0.0,3831.0,1904.0,0.0,0.0,0.0,1.0,0.0,1.0,0.0,1.0,1.0,0.0,1.0,1.0,1.0,1.0]|1100000.0|\n",
            "|[0.0,65.0,1.0,2.0,0.0,0.0,0.0,0.0,0.0,0.0,1.0,0.0,1.0,1.0,1.0,1.0,1.0,1.0,1.0,1.0,1.0,1.0]       |593036.0 |\n",
            "|[1.0,74.0,2.0,2.0,1.0,1.0,1.0,1.0,0.0,0.0,1.0,0.0,1.0,1.0,1.0,1.0,1.0,1.0,1.0,1.0,1.0,1.0]       |1031576.0|\n",
            "|(22,[0,1,2,3,4,6,7,11,13,16,20],[5.0,100.0,3.0,3.0,1.0,240.0,2081.0,1.0,1.0,1.0,1.0])            |800000.0 |\n",
            "|(22,[1,2,3,4,5,6,7,10,12,14,15,21],[70.0,3.0,2.0,1.0,2.0,981.0,1003.0,1.0,1.0,1.0,1.0,1.0])      |497000.0 |\n",
            "+-------------------------------------------------------------------------------------------------+---------+\n",
            "only showing top 10 rows\n",
            "\n"
          ]
        }
      ]
    },
    {
      "cell_type": "markdown",
      "source": [
        "## Análise de correlação / Correlation analysis"
      ],
      "metadata": {
        "id": "B5vhWBT98NP2"
      }
    },
    {
      "cell_type": "code",
      "source": [
        "from pyspark.ml.stat import Correlation\n",
        "import pandas as pd\n",
        "import matplotlib.pyplot as plt\n",
        "import seaborn as sns"
      ],
      "metadata": {
        "id": "MuTGtfEO77ep"
      },
      "execution_count": null,
      "outputs": []
    },
    {
      "cell_type": "code",
      "source": [
        "correlacao = Correlation.corr(dataset_prep, 'features').collect()"
      ],
      "metadata": {
        "id": "1lLR7eYI8nqB"
      },
      "execution_count": null,
      "outputs": []
    },
    {
      "cell_type": "code",
      "source": [
        "correlacao = correlacao[0][0]\n",
        "correlacao"
      ],
      "metadata": {
        "colab": {
          "base_uri": "https://localhost:8080/"
        },
        "id": "8MM7FlFj8wRv",
        "outputId": "df0509aa-f620-454f-8d6c-02f12952b02c"
      },
      "execution_count": null,
      "outputs": [
        {
          "output_type": "execute_result",
          "data": {
            "text/plain": [
              "DenseMatrix(22, 22, [1.0, 0.0454, 0.0007, -0.015, 0.0078, 0.0164, -0.0018, 0.0206, ..., 0.5441, 0.351, 0.1644, 0.5457, 0.661, 0.3079, 0.2208, 1.0], False)"
            ]
          },
          "metadata": {},
          "execution_count": 35
        }
      ]
    },
    {
      "cell_type": "code",
      "source": [
        "correlacao = correlacao.toArray()\n",
        "correlacao"
      ],
      "metadata": {
        "colab": {
          "base_uri": "https://localhost:8080/"
        },
        "id": "4eox98nH8zdK",
        "outputId": "6a712683-c26c-4a10-e70e-d3ca67924886"
      },
      "execution_count": null,
      "outputs": [
        {
          "output_type": "execute_result",
          "data": {
            "text/plain": [
              "array([[ 1.00000000e+00,  4.53945279e-02,  7.32994965e-04,\n",
              "        -1.49671620e-02,  7.83491213e-03,  1.64225464e-02,\n",
              "        -1.75943517e-03,  2.05743315e-02,  1.24475384e-01,\n",
              "        -1.17327404e-02, -4.92135265e-02,  2.72769998e-02,\n",
              "         1.44923748e-01,  3.09950145e-01,  6.25600240e-02,\n",
              "         2.59318193e-01,  1.70672339e-01,  5.15691349e-02,\n",
              "         9.83702406e-02,  3.47514900e-01,  3.19359469e-01,\n",
              "         1.12751513e-01],\n",
              "       [ 4.53945279e-02,  1.00000000e+00,  6.86365294e-01,\n",
              "         6.74025982e-01,  6.32229678e-01,  4.91547759e-01,\n",
              "         2.23128739e-02,  4.52494759e-02, -1.07567045e-01,\n",
              "        -1.70825299e-01,  1.33337442e-01,  2.86151365e-02,\n",
              "         6.86731907e-03, -1.10265991e-02, -2.47009419e-02,\n",
              "        -1.02579663e-02,  3.33778540e-02,  2.83750410e-02,\n",
              "        -1.43839256e-02, -2.49914634e-02,  2.34454973e-03,\n",
              "        -2.84834813e-02],\n",
              "       [ 7.32994965e-04,  6.86365294e-01,  1.00000000e+00,\n",
              "         6.67102120e-01,  7.41708097e-01,  4.58673748e-01,\n",
              "         1.40180138e-02,  2.69733182e-02, -1.32874068e-01,\n",
              "        -1.66191292e-01,  1.96834254e-01, -3.85216636e-02,\n",
              "         8.48883408e-02, -4.39120430e-02,  3.98666214e-02,\n",
              "        -2.26697161e-02,  6.15139176e-02,  1.11763247e-01,\n",
              "         6.95783768e-02, -5.64446449e-02, -3.28444374e-02,\n",
              "         5.65212445e-02],\n",
              "       [-1.49671620e-02,  6.74025982e-01,  6.67102120e-01,\n",
              "         1.00000000e+00,  5.96360644e-01,  4.47122501e-01,\n",
              "         1.79328446e-02,  2.21344973e-02, -1.68244545e-01,\n",
              "        -1.24345054e-01,  1.85460182e-01, -5.06477741e-02,\n",
              "         7.38031783e-02, -2.67864554e-02,  7.61219880e-02,\n",
              "        -1.18733087e-03,  3.67006516e-02,  1.04050476e-01,\n",
              "         9.65688546e-02, -2.82926821e-02, -1.96377056e-02,\n",
              "         7.65573264e-02],\n",
              "       [ 7.83491213e-03,  6.32229678e-01,  7.41708097e-01,\n",
              "         5.96360644e-01,  1.00000000e+00,  4.64507174e-01,\n",
              "         1.12113882e-02,  2.86838426e-02, -1.10733306e-01,\n",
              "        -2.13829006e-01,  2.77904844e-01, -9.52528881e-02,\n",
              "         2.44658219e-01,  2.82886264e-02,  1.75059390e-01,\n",
              "         1.15568325e-01,  8.42133894e-02,  2.73062080e-01,\n",
              "         1.79208780e-01,  4.67087621e-02,  5.95968432e-02,\n",
              "         1.59933376e-01],\n",
              "       [ 1.64225464e-02,  4.91547759e-01,  4.58673748e-01,\n",
              "         4.47122501e-01,  4.64507174e-01,  1.00000000e+00,\n",
              "         1.19468297e-02,  2.48591306e-02, -1.04250741e-01,\n",
              "        -1.08690146e-01,  2.47285161e-01, -1.52233143e-01,\n",
              "         1.36522332e-01,  9.02780552e-03,  1.25250872e-01,\n",
              "         5.70195294e-02,  2.30750005e-02,  1.74776763e-01,\n",
              "         1.27693974e-01,  4.95839556e-03,  2.02550103e-02,\n",
              "         1.27079170e-01],\n",
              "       [-1.75943517e-03,  2.23128739e-02,  1.40180138e-02,\n",
              "         1.79328446e-02,  1.12113882e-02,  1.19468297e-02,\n",
              "         1.00000000e+00,  2.05852963e-01, -3.93915542e-03,\n",
              "        -8.81263521e-03, -7.50511219e-03,  1.70389843e-02,\n",
              "        -1.54094226e-04, -6.40712730e-03, -7.98344599e-03,\n",
              "        -1.12200948e-02,  1.21491560e-03, -1.88920537e-03,\n",
              "        -3.61183598e-03, -5.60628566e-03, -9.09733626e-03,\n",
              "        -3.52655239e-03],\n",
              "       [ 2.05743315e-02,  4.52494759e-02,  2.69733182e-02,\n",
              "         2.21344973e-02,  2.86838426e-02,  2.48591306e-02,\n",
              "         2.05852963e-01,  1.00000000e+00, -4.72946706e-03,\n",
              "        -1.01168002e-02,  2.86274357e-04,  9.69056420e-03,\n",
              "         1.17244279e-02,  9.54309395e-03,  1.43491414e-03,\n",
              "         8.87253879e-03,  9.65583630e-03,  6.30127641e-03,\n",
              "         5.92694550e-03,  8.86795427e-03,  2.29295941e-03,\n",
              "         5.21789042e-03],\n",
              "       [ 1.24475384e-01, -1.07567045e-01, -1.32874068e-01,\n",
              "        -1.68244545e-01, -1.10733306e-01, -1.04250741e-01,\n",
              "        -3.93915542e-03, -4.72946706e-03,  1.00000000e+00,\n",
              "        -6.32445662e-02, -1.46288287e-01, -8.50859284e-02,\n",
              "         4.00687632e-02,  5.39819137e-02, -1.02370399e-02,\n",
              "         4.47704375e-02,  3.32227640e-02,  3.55794481e-03,\n",
              "        -1.61742519e-02,  4.73885544e-02,  4.00725603e-02,\n",
              "        -2.79763814e-03],\n",
              "       [-1.17327404e-02, -1.70825299e-01, -1.66191292e-01,\n",
              "        -1.24345054e-01, -2.13829006e-01, -1.08690146e-01,\n",
              "        -8.81263521e-03, -1.01168002e-02, -6.32445662e-02,\n",
              "         1.00000000e+00, -4.88502393e-01, -2.84128555e-01,\n",
              "        -1.36816467e-01, -1.91216379e-02, -5.06857229e-02,\n",
              "        -1.01144456e-01, -1.79003004e-02, -1.57156627e-01,\n",
              "        -3.22285637e-02, -7.78795567e-02, -2.73134746e-02,\n",
              "        -8.82987707e-03],\n",
              "       [-4.92135265e-02,  1.33337442e-01,  1.96834254e-01,\n",
              "         1.85460182e-01,  2.77904844e-01,  2.47285161e-01,\n",
              "        -7.50511219e-03,  2.86274357e-04, -1.46288287e-01,\n",
              "        -4.88502393e-01,  1.00000000e+00, -6.57205545e-01,\n",
              "         3.67500692e-01,  2.23127943e-02,  4.39629164e-01,\n",
              "         1.90164402e-01, -6.22265997e-02,  4.59621442e-01,\n",
              "         2.76459565e-01,  1.80683340e-02,  2.03549340e-02,\n",
              "         3.00291049e-01],\n",
              "       [ 2.72769998e-02,  2.86151365e-02, -3.85216636e-02,\n",
              "        -5.06477741e-02, -9.52528881e-02, -1.52233143e-01,\n",
              "         1.70389843e-02,  9.69056420e-03, -8.50859284e-02,\n",
              "        -2.84128555e-01, -6.57205545e-01,  1.00000000e+00,\n",
              "        -3.06084948e-01, -2.49756334e-02, -4.44436096e-01,\n",
              "        -1.39898839e-01,  7.45828454e-02, -3.80591183e-01,\n",
              "        -2.76241177e-01,  3.15942613e-02, -1.16421057e-02,\n",
              "        -3.26719331e-01],\n",
              "       [ 1.44923748e-01,  6.86731907e-03,  8.48883408e-02,\n",
              "         7.38031783e-02,  2.44658219e-01,  1.36522332e-01,\n",
              "        -1.54094226e-04,  1.17244279e-02,  4.00687632e-02,\n",
              "        -1.36816467e-01,  3.67500692e-01, -3.06084948e-01,\n",
              "         1.00000000e+00,  2.78256213e-01,  6.01363530e-01,\n",
              "         4.87385484e-01,  2.70382153e-01,  6.88832485e-01,\n",
              "         5.95190194e-01,  3.81622709e-01,  2.92995792e-01,\n",
              "         6.19846856e-01],\n",
              "       [ 3.09950145e-01, -1.10265991e-02, -4.39120430e-02,\n",
              "        -2.67864554e-02,  2.82886264e-02,  9.02780552e-03,\n",
              "        -6.40712730e-03,  9.54309395e-03,  5.39819137e-02,\n",
              "        -1.91216379e-02,  2.23127943e-02, -2.49756334e-02,\n",
              "         2.78256213e-01,  1.00000000e+00,  1.29147175e-01,\n",
              "         5.17928613e-01,  2.52694395e-01,  1.09788864e-01,\n",
              "         1.70521465e-01,  5.90068104e-01,  6.13502061e-01,\n",
              "         2.16741210e-01],\n",
              "       [ 6.25600240e-02, -2.47009419e-02,  3.98666214e-02,\n",
              "         7.61219880e-02,  1.75059390e-01,  1.25250872e-01,\n",
              "        -7.98344599e-03,  1.43491414e-03, -1.02370399e-02,\n",
              "        -5.06857229e-02,  4.39629164e-01, -4.44436096e-01,\n",
              "         6.01363530e-01,  1.29147175e-01,  1.00000000e+00,\n",
              "         3.12244748e-01,  1.12629513e-01,  6.80208779e-01,\n",
              "         5.24171348e-01,  2.08936018e-01,  1.45204839e-01,\n",
              "         5.44115935e-01],\n",
              "       [ 2.59318193e-01, -1.02579663e-02, -2.26697161e-02,\n",
              "        -1.18733087e-03,  1.15568325e-01,  5.70195294e-02,\n",
              "        -1.12200948e-02,  8.87253879e-03,  4.47704375e-02,\n",
              "        -1.01144456e-01,  1.90164402e-01, -1.39898839e-01,\n",
              "         4.87385484e-01,  5.17928613e-01,  3.12244748e-01,\n",
              "         1.00000000e+00,  2.88557687e-01,  3.26099708e-01,\n",
              "         3.18680853e-01,  6.09210045e-01,  5.96385997e-01,\n",
              "         3.51047683e-01],\n",
              "       [ 1.70672339e-01,  3.33778540e-02,  6.15139176e-02,\n",
              "         3.67006516e-02,  8.42133894e-02,  2.30750005e-02,\n",
              "         1.21491560e-03,  9.65583630e-03,  3.32227640e-02,\n",
              "        -1.79003004e-02, -6.22265997e-02,  7.45828454e-02,\n",
              "         2.70382153e-01,  2.52694395e-01,  1.12629513e-01,\n",
              "         2.88557687e-01,  1.00000000e+00,  1.39742096e-01,\n",
              "         1.67814332e-01,  3.34435270e-01,  2.90897292e-01,\n",
              "         1.64367058e-01],\n",
              "       [ 5.15691349e-02,  2.83750410e-02,  1.11763247e-01,\n",
              "         1.04050476e-01,  2.73062080e-01,  1.74776763e-01,\n",
              "        -1.88920537e-03,  6.30127641e-03,  3.55794481e-03,\n",
              "        -1.57156627e-01,  4.59621442e-01, -3.80591183e-01,\n",
              "         6.88832485e-01,  1.09788864e-01,  6.80208779e-01,\n",
              "         3.26099708e-01,  1.39742096e-01,  1.00000000e+00,\n",
              "         5.41074763e-01,  2.18623271e-01,  1.37871958e-01,\n",
              "         5.45700022e-01],\n",
              "       [ 9.83702406e-02, -1.43839256e-02,  6.95783768e-02,\n",
              "         9.65688546e-02,  1.79208780e-01,  1.27693974e-01,\n",
              "        -3.61183598e-03,  5.92694550e-03, -1.61742519e-02,\n",
              "        -3.22285637e-02,  2.76459565e-01, -2.76241177e-01,\n",
              "         5.95190194e-01,  1.70521465e-01,  5.24171348e-01,\n",
              "         3.18680853e-01,  1.67814332e-01,  5.41074763e-01,\n",
              "         1.00000000e+00,  2.76906132e-01,  1.93412688e-01,\n",
              "         6.60958427e-01],\n",
              "       [ 3.47514900e-01, -2.49914634e-02, -5.64446449e-02,\n",
              "        -2.82926821e-02,  4.67087621e-02,  4.95839556e-03,\n",
              "        -5.60628566e-03,  8.86795427e-03,  4.73885544e-02,\n",
              "        -7.78795567e-02,  1.80683340e-02,  3.15942613e-02,\n",
              "         3.81622709e-01,  5.90068104e-01,  2.08936018e-01,\n",
              "         6.09210045e-01,  3.34435270e-01,  2.18623271e-01,\n",
              "         2.76906132e-01,  1.00000000e+00,  7.31721358e-01,\n",
              "         3.07894083e-01],\n",
              "       [ 3.19359469e-01,  2.34454973e-03, -3.28444374e-02,\n",
              "        -1.96377056e-02,  5.95968432e-02,  2.02550103e-02,\n",
              "        -9.09733626e-03,  2.29295941e-03,  4.00725603e-02,\n",
              "        -2.73134746e-02,  2.03549340e-02, -1.16421057e-02,\n",
              "         2.92995792e-01,  6.13502061e-01,  1.45204839e-01,\n",
              "         5.96385997e-01,  2.90897292e-01,  1.37871958e-01,\n",
              "         1.93412688e-01,  7.31721358e-01,  1.00000000e+00,\n",
              "         2.20848161e-01],\n",
              "       [ 1.12751513e-01, -2.84834813e-02,  5.65212445e-02,\n",
              "         7.65573264e-02,  1.59933376e-01,  1.27079170e-01,\n",
              "        -3.52655239e-03,  5.21789042e-03, -2.79763814e-03,\n",
              "        -8.82987707e-03,  3.00291049e-01, -3.26719331e-01,\n",
              "         6.19846856e-01,  2.16741210e-01,  5.44115935e-01,\n",
              "         3.51047683e-01,  1.64367058e-01,  5.45700022e-01,\n",
              "         6.60958427e-01,  3.07894083e-01,  2.20848161e-01,\n",
              "         1.00000000e+00]])"
            ]
          },
          "metadata": {},
          "execution_count": 36
        }
      ]
    },
    {
      "cell_type": "code",
      "source": [
        "correlacao_df = pd.DataFrame(correlacao, columns=X, index=X)\n",
        "correlacao_df"
      ],
      "metadata": {
        "colab": {
          "base_uri": "https://localhost:8080/",
          "height": 885
        },
        "id": "VykTUKV783K3",
        "outputId": "d676dcb4-7130-489b-de04-2bce990643b5"
      },
      "execution_count": null,
      "outputs": [
        {
          "output_type": "execute_result",
          "data": {
            "text/plain": [
              "                       andar  area_util  banheiros   quartos    suites  \\\n",
              "andar               1.000000   0.045395   0.000733 -0.014967  0.007835   \n",
              "area_util           0.045395   1.000000   0.686365  0.674026  0.632230   \n",
              "banheiros           0.000733   0.686365   1.000000  0.667102  0.741708   \n",
              "quartos            -0.014967   0.674026   0.667102  1.000000  0.596361   \n",
              "suites              0.007835   0.632230   0.741708  0.596361  1.000000   \n",
              "vaga                0.016423   0.491548   0.458674  0.447123  0.464507   \n",
              "valor_iptu         -0.001759   0.022313   0.014018  0.017933  0.011211   \n",
              "valor_condominio    0.020574   0.045249   0.026973  0.022134  0.028684   \n",
              "Zona Central        0.124475  -0.107567  -0.132874 -0.168245 -0.110733   \n",
              "Zona Norte         -0.011733  -0.170825  -0.166191 -0.124345 -0.213829   \n",
              "Zona Oeste         -0.049214   0.133337   0.196834  0.185460  0.277905   \n",
              "Zona Sul            0.027277   0.028615  -0.038522 -0.050648 -0.095253   \n",
              "Academia            0.144924   0.006867   0.084888  0.073803  0.244658   \n",
              "Animais permitidos  0.309950  -0.011027  -0.043912 -0.026786  0.028289   \n",
              "Churrasqueira       0.062560  -0.024701   0.039867  0.076122  0.175059   \n",
              "Condomínio fechado  0.259318  -0.010258  -0.022670 -0.001187  0.115568   \n",
              "Elevador            0.170672   0.033378   0.061514  0.036701  0.084213   \n",
              "Piscina             0.051569   0.028375   0.111763  0.104050  0.273062   \n",
              "Playground          0.098370  -0.014384   0.069578  0.096569  0.179209   \n",
              "Portaria 24h        0.347515  -0.024991  -0.056445 -0.028293  0.046709   \n",
              "Portão eletrônico   0.319359   0.002345  -0.032844 -0.019638  0.059597   \n",
              "Salão de festas     0.112752  -0.028483   0.056521  0.076557  0.159933   \n",
              "\n",
              "                        vaga  valor_iptu  valor_condominio  Zona Central  \\\n",
              "andar               0.016423   -0.001759          0.020574      0.124475   \n",
              "area_util           0.491548    0.022313          0.045249     -0.107567   \n",
              "banheiros           0.458674    0.014018          0.026973     -0.132874   \n",
              "quartos             0.447123    0.017933          0.022134     -0.168245   \n",
              "suites              0.464507    0.011211          0.028684     -0.110733   \n",
              "vaga                1.000000    0.011947          0.024859     -0.104251   \n",
              "valor_iptu          0.011947    1.000000          0.205853     -0.003939   \n",
              "valor_condominio    0.024859    0.205853          1.000000     -0.004729   \n",
              "Zona Central       -0.104251   -0.003939         -0.004729      1.000000   \n",
              "Zona Norte         -0.108690   -0.008813         -0.010117     -0.063245   \n",
              "Zona Oeste          0.247285   -0.007505          0.000286     -0.146288   \n",
              "Zona Sul           -0.152233    0.017039          0.009691     -0.085086   \n",
              "Academia            0.136522   -0.000154          0.011724      0.040069   \n",
              "Animais permitidos  0.009028   -0.006407          0.009543      0.053982   \n",
              "Churrasqueira       0.125251   -0.007983          0.001435     -0.010237   \n",
              "Condomínio fechado  0.057020   -0.011220          0.008873      0.044770   \n",
              "Elevador            0.023075    0.001215          0.009656      0.033223   \n",
              "Piscina             0.174777   -0.001889          0.006301      0.003558   \n",
              "Playground          0.127694   -0.003612          0.005927     -0.016174   \n",
              "Portaria 24h        0.004958   -0.005606          0.008868      0.047389   \n",
              "Portão eletrônico   0.020255   -0.009097          0.002293      0.040073   \n",
              "Salão de festas     0.127079   -0.003527          0.005218     -0.002798   \n",
              "\n",
              "                    Zona Norte  ...  Academia  Animais permitidos  \\\n",
              "andar                -0.011733  ...  0.144924            0.309950   \n",
              "area_util            -0.170825  ...  0.006867           -0.011027   \n",
              "banheiros            -0.166191  ...  0.084888           -0.043912   \n",
              "quartos              -0.124345  ...  0.073803           -0.026786   \n",
              "suites               -0.213829  ...  0.244658            0.028289   \n",
              "vaga                 -0.108690  ...  0.136522            0.009028   \n",
              "valor_iptu           -0.008813  ... -0.000154           -0.006407   \n",
              "valor_condominio     -0.010117  ...  0.011724            0.009543   \n",
              "Zona Central         -0.063245  ...  0.040069            0.053982   \n",
              "Zona Norte            1.000000  ... -0.136816           -0.019122   \n",
              "Zona Oeste           -0.488502  ...  0.367501            0.022313   \n",
              "Zona Sul             -0.284129  ... -0.306085           -0.024976   \n",
              "Academia             -0.136816  ...  1.000000            0.278256   \n",
              "Animais permitidos   -0.019122  ...  0.278256            1.000000   \n",
              "Churrasqueira        -0.050686  ...  0.601364            0.129147   \n",
              "Condomínio fechado   -0.101144  ...  0.487385            0.517929   \n",
              "Elevador             -0.017900  ...  0.270382            0.252694   \n",
              "Piscina              -0.157157  ...  0.688832            0.109789   \n",
              "Playground           -0.032229  ...  0.595190            0.170521   \n",
              "Portaria 24h         -0.077880  ...  0.381623            0.590068   \n",
              "Portão eletrônico    -0.027313  ...  0.292996            0.613502   \n",
              "Salão de festas      -0.008830  ...  0.619847            0.216741   \n",
              "\n",
              "                    Churrasqueira  Condomínio fechado  Elevador   Piscina  \\\n",
              "andar                    0.062560            0.259318  0.170672  0.051569   \n",
              "area_util               -0.024701           -0.010258  0.033378  0.028375   \n",
              "banheiros                0.039867           -0.022670  0.061514  0.111763   \n",
              "quartos                  0.076122           -0.001187  0.036701  0.104050   \n",
              "suites                   0.175059            0.115568  0.084213  0.273062   \n",
              "vaga                     0.125251            0.057020  0.023075  0.174777   \n",
              "valor_iptu              -0.007983           -0.011220  0.001215 -0.001889   \n",
              "valor_condominio         0.001435            0.008873  0.009656  0.006301   \n",
              "Zona Central            -0.010237            0.044770  0.033223  0.003558   \n",
              "Zona Norte              -0.050686           -0.101144 -0.017900 -0.157157   \n",
              "Zona Oeste               0.439629            0.190164 -0.062227  0.459621   \n",
              "Zona Sul                -0.444436           -0.139899  0.074583 -0.380591   \n",
              "Academia                 0.601364            0.487385  0.270382  0.688832   \n",
              "Animais permitidos       0.129147            0.517929  0.252694  0.109789   \n",
              "Churrasqueira            1.000000            0.312245  0.112630  0.680209   \n",
              "Condomínio fechado       0.312245            1.000000  0.288558  0.326100   \n",
              "Elevador                 0.112630            0.288558  1.000000  0.139742   \n",
              "Piscina                  0.680209            0.326100  0.139742  1.000000   \n",
              "Playground               0.524171            0.318681  0.167814  0.541075   \n",
              "Portaria 24h             0.208936            0.609210  0.334435  0.218623   \n",
              "Portão eletrônico        0.145205            0.596386  0.290897  0.137872   \n",
              "Salão de festas          0.544116            0.351048  0.164367  0.545700   \n",
              "\n",
              "                    Playground  Portaria 24h  Portão eletrônico  \\\n",
              "andar                 0.098370      0.347515           0.319359   \n",
              "area_util            -0.014384     -0.024991           0.002345   \n",
              "banheiros             0.069578     -0.056445          -0.032844   \n",
              "quartos               0.096569     -0.028293          -0.019638   \n",
              "suites                0.179209      0.046709           0.059597   \n",
              "vaga                  0.127694      0.004958           0.020255   \n",
              "valor_iptu           -0.003612     -0.005606          -0.009097   \n",
              "valor_condominio      0.005927      0.008868           0.002293   \n",
              "Zona Central         -0.016174      0.047389           0.040073   \n",
              "Zona Norte           -0.032229     -0.077880          -0.027313   \n",
              "Zona Oeste            0.276460      0.018068           0.020355   \n",
              "Zona Sul             -0.276241      0.031594          -0.011642   \n",
              "Academia              0.595190      0.381623           0.292996   \n",
              "Animais permitidos    0.170521      0.590068           0.613502   \n",
              "Churrasqueira         0.524171      0.208936           0.145205   \n",
              "Condomínio fechado    0.318681      0.609210           0.596386   \n",
              "Elevador              0.167814      0.334435           0.290897   \n",
              "Piscina               0.541075      0.218623           0.137872   \n",
              "Playground            1.000000      0.276906           0.193413   \n",
              "Portaria 24h          0.276906      1.000000           0.731721   \n",
              "Portão eletrônico     0.193413      0.731721           1.000000   \n",
              "Salão de festas       0.660958      0.307894           0.220848   \n",
              "\n",
              "                    Salão de festas  \n",
              "andar                      0.112752  \n",
              "area_util                 -0.028483  \n",
              "banheiros                  0.056521  \n",
              "quartos                    0.076557  \n",
              "suites                     0.159933  \n",
              "vaga                       0.127079  \n",
              "valor_iptu                -0.003527  \n",
              "valor_condominio           0.005218  \n",
              "Zona Central              -0.002798  \n",
              "Zona Norte                -0.008830  \n",
              "Zona Oeste                 0.300291  \n",
              "Zona Sul                  -0.326719  \n",
              "Academia                   0.619847  \n",
              "Animais permitidos         0.216741  \n",
              "Churrasqueira              0.544116  \n",
              "Condomínio fechado         0.351048  \n",
              "Elevador                   0.164367  \n",
              "Piscina                    0.545700  \n",
              "Playground                 0.660958  \n",
              "Portaria 24h               0.307894  \n",
              "Portão eletrônico          0.220848  \n",
              "Salão de festas            1.000000  \n",
              "\n",
              "[22 rows x 22 columns]"
            ],
            "text/html": [
              "\n",
              "  <div id=\"df-b174d0be-46bf-4b74-bb5e-3cbe4bc85853\">\n",
              "    <div class=\"colab-df-container\">\n",
              "      <div>\n",
              "<style scoped>\n",
              "    .dataframe tbody tr th:only-of-type {\n",
              "        vertical-align: middle;\n",
              "    }\n",
              "\n",
              "    .dataframe tbody tr th {\n",
              "        vertical-align: top;\n",
              "    }\n",
              "\n",
              "    .dataframe thead th {\n",
              "        text-align: right;\n",
              "    }\n",
              "</style>\n",
              "<table border=\"1\" class=\"dataframe\">\n",
              "  <thead>\n",
              "    <tr style=\"text-align: right;\">\n",
              "      <th></th>\n",
              "      <th>andar</th>\n",
              "      <th>area_util</th>\n",
              "      <th>banheiros</th>\n",
              "      <th>quartos</th>\n",
              "      <th>suites</th>\n",
              "      <th>vaga</th>\n",
              "      <th>valor_iptu</th>\n",
              "      <th>valor_condominio</th>\n",
              "      <th>Zona Central</th>\n",
              "      <th>Zona Norte</th>\n",
              "      <th>...</th>\n",
              "      <th>Academia</th>\n",
              "      <th>Animais permitidos</th>\n",
              "      <th>Churrasqueira</th>\n",
              "      <th>Condomínio fechado</th>\n",
              "      <th>Elevador</th>\n",
              "      <th>Piscina</th>\n",
              "      <th>Playground</th>\n",
              "      <th>Portaria 24h</th>\n",
              "      <th>Portão eletrônico</th>\n",
              "      <th>Salão de festas</th>\n",
              "    </tr>\n",
              "  </thead>\n",
              "  <tbody>\n",
              "    <tr>\n",
              "      <th>andar</th>\n",
              "      <td>1.000000</td>\n",
              "      <td>0.045395</td>\n",
              "      <td>0.000733</td>\n",
              "      <td>-0.014967</td>\n",
              "      <td>0.007835</td>\n",
              "      <td>0.016423</td>\n",
              "      <td>-0.001759</td>\n",
              "      <td>0.020574</td>\n",
              "      <td>0.124475</td>\n",
              "      <td>-0.011733</td>\n",
              "      <td>...</td>\n",
              "      <td>0.144924</td>\n",
              "      <td>0.309950</td>\n",
              "      <td>0.062560</td>\n",
              "      <td>0.259318</td>\n",
              "      <td>0.170672</td>\n",
              "      <td>0.051569</td>\n",
              "      <td>0.098370</td>\n",
              "      <td>0.347515</td>\n",
              "      <td>0.319359</td>\n",
              "      <td>0.112752</td>\n",
              "    </tr>\n",
              "    <tr>\n",
              "      <th>area_util</th>\n",
              "      <td>0.045395</td>\n",
              "      <td>1.000000</td>\n",
              "      <td>0.686365</td>\n",
              "      <td>0.674026</td>\n",
              "      <td>0.632230</td>\n",
              "      <td>0.491548</td>\n",
              "      <td>0.022313</td>\n",
              "      <td>0.045249</td>\n",
              "      <td>-0.107567</td>\n",
              "      <td>-0.170825</td>\n",
              "      <td>...</td>\n",
              "      <td>0.006867</td>\n",
              "      <td>-0.011027</td>\n",
              "      <td>-0.024701</td>\n",
              "      <td>-0.010258</td>\n",
              "      <td>0.033378</td>\n",
              "      <td>0.028375</td>\n",
              "      <td>-0.014384</td>\n",
              "      <td>-0.024991</td>\n",
              "      <td>0.002345</td>\n",
              "      <td>-0.028483</td>\n",
              "    </tr>\n",
              "    <tr>\n",
              "      <th>banheiros</th>\n",
              "      <td>0.000733</td>\n",
              "      <td>0.686365</td>\n",
              "      <td>1.000000</td>\n",
              "      <td>0.667102</td>\n",
              "      <td>0.741708</td>\n",
              "      <td>0.458674</td>\n",
              "      <td>0.014018</td>\n",
              "      <td>0.026973</td>\n",
              "      <td>-0.132874</td>\n",
              "      <td>-0.166191</td>\n",
              "      <td>...</td>\n",
              "      <td>0.084888</td>\n",
              "      <td>-0.043912</td>\n",
              "      <td>0.039867</td>\n",
              "      <td>-0.022670</td>\n",
              "      <td>0.061514</td>\n",
              "      <td>0.111763</td>\n",
              "      <td>0.069578</td>\n",
              "      <td>-0.056445</td>\n",
              "      <td>-0.032844</td>\n",
              "      <td>0.056521</td>\n",
              "    </tr>\n",
              "    <tr>\n",
              "      <th>quartos</th>\n",
              "      <td>-0.014967</td>\n",
              "      <td>0.674026</td>\n",
              "      <td>0.667102</td>\n",
              "      <td>1.000000</td>\n",
              "      <td>0.596361</td>\n",
              "      <td>0.447123</td>\n",
              "      <td>0.017933</td>\n",
              "      <td>0.022134</td>\n",
              "      <td>-0.168245</td>\n",
              "      <td>-0.124345</td>\n",
              "      <td>...</td>\n",
              "      <td>0.073803</td>\n",
              "      <td>-0.026786</td>\n",
              "      <td>0.076122</td>\n",
              "      <td>-0.001187</td>\n",
              "      <td>0.036701</td>\n",
              "      <td>0.104050</td>\n",
              "      <td>0.096569</td>\n",
              "      <td>-0.028293</td>\n",
              "      <td>-0.019638</td>\n",
              "      <td>0.076557</td>\n",
              "    </tr>\n",
              "    <tr>\n",
              "      <th>suites</th>\n",
              "      <td>0.007835</td>\n",
              "      <td>0.632230</td>\n",
              "      <td>0.741708</td>\n",
              "      <td>0.596361</td>\n",
              "      <td>1.000000</td>\n",
              "      <td>0.464507</td>\n",
              "      <td>0.011211</td>\n",
              "      <td>0.028684</td>\n",
              "      <td>-0.110733</td>\n",
              "      <td>-0.213829</td>\n",
              "      <td>...</td>\n",
              "      <td>0.244658</td>\n",
              "      <td>0.028289</td>\n",
              "      <td>0.175059</td>\n",
              "      <td>0.115568</td>\n",
              "      <td>0.084213</td>\n",
              "      <td>0.273062</td>\n",
              "      <td>0.179209</td>\n",
              "      <td>0.046709</td>\n",
              "      <td>0.059597</td>\n",
              "      <td>0.159933</td>\n",
              "    </tr>\n",
              "    <tr>\n",
              "      <th>vaga</th>\n",
              "      <td>0.016423</td>\n",
              "      <td>0.491548</td>\n",
              "      <td>0.458674</td>\n",
              "      <td>0.447123</td>\n",
              "      <td>0.464507</td>\n",
              "      <td>1.000000</td>\n",
              "      <td>0.011947</td>\n",
              "      <td>0.024859</td>\n",
              "      <td>-0.104251</td>\n",
              "      <td>-0.108690</td>\n",
              "      <td>...</td>\n",
              "      <td>0.136522</td>\n",
              "      <td>0.009028</td>\n",
              "      <td>0.125251</td>\n",
              "      <td>0.057020</td>\n",
              "      <td>0.023075</td>\n",
              "      <td>0.174777</td>\n",
              "      <td>0.127694</td>\n",
              "      <td>0.004958</td>\n",
              "      <td>0.020255</td>\n",
              "      <td>0.127079</td>\n",
              "    </tr>\n",
              "    <tr>\n",
              "      <th>valor_iptu</th>\n",
              "      <td>-0.001759</td>\n",
              "      <td>0.022313</td>\n",
              "      <td>0.014018</td>\n",
              "      <td>0.017933</td>\n",
              "      <td>0.011211</td>\n",
              "      <td>0.011947</td>\n",
              "      <td>1.000000</td>\n",
              "      <td>0.205853</td>\n",
              "      <td>-0.003939</td>\n",
              "      <td>-0.008813</td>\n",
              "      <td>...</td>\n",
              "      <td>-0.000154</td>\n",
              "      <td>-0.006407</td>\n",
              "      <td>-0.007983</td>\n",
              "      <td>-0.011220</td>\n",
              "      <td>0.001215</td>\n",
              "      <td>-0.001889</td>\n",
              "      <td>-0.003612</td>\n",
              "      <td>-0.005606</td>\n",
              "      <td>-0.009097</td>\n",
              "      <td>-0.003527</td>\n",
              "    </tr>\n",
              "    <tr>\n",
              "      <th>valor_condominio</th>\n",
              "      <td>0.020574</td>\n",
              "      <td>0.045249</td>\n",
              "      <td>0.026973</td>\n",
              "      <td>0.022134</td>\n",
              "      <td>0.028684</td>\n",
              "      <td>0.024859</td>\n",
              "      <td>0.205853</td>\n",
              "      <td>1.000000</td>\n",
              "      <td>-0.004729</td>\n",
              "      <td>-0.010117</td>\n",
              "      <td>...</td>\n",
              "      <td>0.011724</td>\n",
              "      <td>0.009543</td>\n",
              "      <td>0.001435</td>\n",
              "      <td>0.008873</td>\n",
              "      <td>0.009656</td>\n",
              "      <td>0.006301</td>\n",
              "      <td>0.005927</td>\n",
              "      <td>0.008868</td>\n",
              "      <td>0.002293</td>\n",
              "      <td>0.005218</td>\n",
              "    </tr>\n",
              "    <tr>\n",
              "      <th>Zona Central</th>\n",
              "      <td>0.124475</td>\n",
              "      <td>-0.107567</td>\n",
              "      <td>-0.132874</td>\n",
              "      <td>-0.168245</td>\n",
              "      <td>-0.110733</td>\n",
              "      <td>-0.104251</td>\n",
              "      <td>-0.003939</td>\n",
              "      <td>-0.004729</td>\n",
              "      <td>1.000000</td>\n",
              "      <td>-0.063245</td>\n",
              "      <td>...</td>\n",
              "      <td>0.040069</td>\n",
              "      <td>0.053982</td>\n",
              "      <td>-0.010237</td>\n",
              "      <td>0.044770</td>\n",
              "      <td>0.033223</td>\n",
              "      <td>0.003558</td>\n",
              "      <td>-0.016174</td>\n",
              "      <td>0.047389</td>\n",
              "      <td>0.040073</td>\n",
              "      <td>-0.002798</td>\n",
              "    </tr>\n",
              "    <tr>\n",
              "      <th>Zona Norte</th>\n",
              "      <td>-0.011733</td>\n",
              "      <td>-0.170825</td>\n",
              "      <td>-0.166191</td>\n",
              "      <td>-0.124345</td>\n",
              "      <td>-0.213829</td>\n",
              "      <td>-0.108690</td>\n",
              "      <td>-0.008813</td>\n",
              "      <td>-0.010117</td>\n",
              "      <td>-0.063245</td>\n",
              "      <td>1.000000</td>\n",
              "      <td>...</td>\n",
              "      <td>-0.136816</td>\n",
              "      <td>-0.019122</td>\n",
              "      <td>-0.050686</td>\n",
              "      <td>-0.101144</td>\n",
              "      <td>-0.017900</td>\n",
              "      <td>-0.157157</td>\n",
              "      <td>-0.032229</td>\n",
              "      <td>-0.077880</td>\n",
              "      <td>-0.027313</td>\n",
              "      <td>-0.008830</td>\n",
              "    </tr>\n",
              "    <tr>\n",
              "      <th>Zona Oeste</th>\n",
              "      <td>-0.049214</td>\n",
              "      <td>0.133337</td>\n",
              "      <td>0.196834</td>\n",
              "      <td>0.185460</td>\n",
              "      <td>0.277905</td>\n",
              "      <td>0.247285</td>\n",
              "      <td>-0.007505</td>\n",
              "      <td>0.000286</td>\n",
              "      <td>-0.146288</td>\n",
              "      <td>-0.488502</td>\n",
              "      <td>...</td>\n",
              "      <td>0.367501</td>\n",
              "      <td>0.022313</td>\n",
              "      <td>0.439629</td>\n",
              "      <td>0.190164</td>\n",
              "      <td>-0.062227</td>\n",
              "      <td>0.459621</td>\n",
              "      <td>0.276460</td>\n",
              "      <td>0.018068</td>\n",
              "      <td>0.020355</td>\n",
              "      <td>0.300291</td>\n",
              "    </tr>\n",
              "    <tr>\n",
              "      <th>Zona Sul</th>\n",
              "      <td>0.027277</td>\n",
              "      <td>0.028615</td>\n",
              "      <td>-0.038522</td>\n",
              "      <td>-0.050648</td>\n",
              "      <td>-0.095253</td>\n",
              "      <td>-0.152233</td>\n",
              "      <td>0.017039</td>\n",
              "      <td>0.009691</td>\n",
              "      <td>-0.085086</td>\n",
              "      <td>-0.284129</td>\n",
              "      <td>...</td>\n",
              "      <td>-0.306085</td>\n",
              "      <td>-0.024976</td>\n",
              "      <td>-0.444436</td>\n",
              "      <td>-0.139899</td>\n",
              "      <td>0.074583</td>\n",
              "      <td>-0.380591</td>\n",
              "      <td>-0.276241</td>\n",
              "      <td>0.031594</td>\n",
              "      <td>-0.011642</td>\n",
              "      <td>-0.326719</td>\n",
              "    </tr>\n",
              "    <tr>\n",
              "      <th>Academia</th>\n",
              "      <td>0.144924</td>\n",
              "      <td>0.006867</td>\n",
              "      <td>0.084888</td>\n",
              "      <td>0.073803</td>\n",
              "      <td>0.244658</td>\n",
              "      <td>0.136522</td>\n",
              "      <td>-0.000154</td>\n",
              "      <td>0.011724</td>\n",
              "      <td>0.040069</td>\n",
              "      <td>-0.136816</td>\n",
              "      <td>...</td>\n",
              "      <td>1.000000</td>\n",
              "      <td>0.278256</td>\n",
              "      <td>0.601364</td>\n",
              "      <td>0.487385</td>\n",
              "      <td>0.270382</td>\n",
              "      <td>0.688832</td>\n",
              "      <td>0.595190</td>\n",
              "      <td>0.381623</td>\n",
              "      <td>0.292996</td>\n",
              "      <td>0.619847</td>\n",
              "    </tr>\n",
              "    <tr>\n",
              "      <th>Animais permitidos</th>\n",
              "      <td>0.309950</td>\n",
              "      <td>-0.011027</td>\n",
              "      <td>-0.043912</td>\n",
              "      <td>-0.026786</td>\n",
              "      <td>0.028289</td>\n",
              "      <td>0.009028</td>\n",
              "      <td>-0.006407</td>\n",
              "      <td>0.009543</td>\n",
              "      <td>0.053982</td>\n",
              "      <td>-0.019122</td>\n",
              "      <td>...</td>\n",
              "      <td>0.278256</td>\n",
              "      <td>1.000000</td>\n",
              "      <td>0.129147</td>\n",
              "      <td>0.517929</td>\n",
              "      <td>0.252694</td>\n",
              "      <td>0.109789</td>\n",
              "      <td>0.170521</td>\n",
              "      <td>0.590068</td>\n",
              "      <td>0.613502</td>\n",
              "      <td>0.216741</td>\n",
              "    </tr>\n",
              "    <tr>\n",
              "      <th>Churrasqueira</th>\n",
              "      <td>0.062560</td>\n",
              "      <td>-0.024701</td>\n",
              "      <td>0.039867</td>\n",
              "      <td>0.076122</td>\n",
              "      <td>0.175059</td>\n",
              "      <td>0.125251</td>\n",
              "      <td>-0.007983</td>\n",
              "      <td>0.001435</td>\n",
              "      <td>-0.010237</td>\n",
              "      <td>-0.050686</td>\n",
              "      <td>...</td>\n",
              "      <td>0.601364</td>\n",
              "      <td>0.129147</td>\n",
              "      <td>1.000000</td>\n",
              "      <td>0.312245</td>\n",
              "      <td>0.112630</td>\n",
              "      <td>0.680209</td>\n",
              "      <td>0.524171</td>\n",
              "      <td>0.208936</td>\n",
              "      <td>0.145205</td>\n",
              "      <td>0.544116</td>\n",
              "    </tr>\n",
              "    <tr>\n",
              "      <th>Condomínio fechado</th>\n",
              "      <td>0.259318</td>\n",
              "      <td>-0.010258</td>\n",
              "      <td>-0.022670</td>\n",
              "      <td>-0.001187</td>\n",
              "      <td>0.115568</td>\n",
              "      <td>0.057020</td>\n",
              "      <td>-0.011220</td>\n",
              "      <td>0.008873</td>\n",
              "      <td>0.044770</td>\n",
              "      <td>-0.101144</td>\n",
              "      <td>...</td>\n",
              "      <td>0.487385</td>\n",
              "      <td>0.517929</td>\n",
              "      <td>0.312245</td>\n",
              "      <td>1.000000</td>\n",
              "      <td>0.288558</td>\n",
              "      <td>0.326100</td>\n",
              "      <td>0.318681</td>\n",
              "      <td>0.609210</td>\n",
              "      <td>0.596386</td>\n",
              "      <td>0.351048</td>\n",
              "    </tr>\n",
              "    <tr>\n",
              "      <th>Elevador</th>\n",
              "      <td>0.170672</td>\n",
              "      <td>0.033378</td>\n",
              "      <td>0.061514</td>\n",
              "      <td>0.036701</td>\n",
              "      <td>0.084213</td>\n",
              "      <td>0.023075</td>\n",
              "      <td>0.001215</td>\n",
              "      <td>0.009656</td>\n",
              "      <td>0.033223</td>\n",
              "      <td>-0.017900</td>\n",
              "      <td>...</td>\n",
              "      <td>0.270382</td>\n",
              "      <td>0.252694</td>\n",
              "      <td>0.112630</td>\n",
              "      <td>0.288558</td>\n",
              "      <td>1.000000</td>\n",
              "      <td>0.139742</td>\n",
              "      <td>0.167814</td>\n",
              "      <td>0.334435</td>\n",
              "      <td>0.290897</td>\n",
              "      <td>0.164367</td>\n",
              "    </tr>\n",
              "    <tr>\n",
              "      <th>Piscina</th>\n",
              "      <td>0.051569</td>\n",
              "      <td>0.028375</td>\n",
              "      <td>0.111763</td>\n",
              "      <td>0.104050</td>\n",
              "      <td>0.273062</td>\n",
              "      <td>0.174777</td>\n",
              "      <td>-0.001889</td>\n",
              "      <td>0.006301</td>\n",
              "      <td>0.003558</td>\n",
              "      <td>-0.157157</td>\n",
              "      <td>...</td>\n",
              "      <td>0.688832</td>\n",
              "      <td>0.109789</td>\n",
              "      <td>0.680209</td>\n",
              "      <td>0.326100</td>\n",
              "      <td>0.139742</td>\n",
              "      <td>1.000000</td>\n",
              "      <td>0.541075</td>\n",
              "      <td>0.218623</td>\n",
              "      <td>0.137872</td>\n",
              "      <td>0.545700</td>\n",
              "    </tr>\n",
              "    <tr>\n",
              "      <th>Playground</th>\n",
              "      <td>0.098370</td>\n",
              "      <td>-0.014384</td>\n",
              "      <td>0.069578</td>\n",
              "      <td>0.096569</td>\n",
              "      <td>0.179209</td>\n",
              "      <td>0.127694</td>\n",
              "      <td>-0.003612</td>\n",
              "      <td>0.005927</td>\n",
              "      <td>-0.016174</td>\n",
              "      <td>-0.032229</td>\n",
              "      <td>...</td>\n",
              "      <td>0.595190</td>\n",
              "      <td>0.170521</td>\n",
              "      <td>0.524171</td>\n",
              "      <td>0.318681</td>\n",
              "      <td>0.167814</td>\n",
              "      <td>0.541075</td>\n",
              "      <td>1.000000</td>\n",
              "      <td>0.276906</td>\n",
              "      <td>0.193413</td>\n",
              "      <td>0.660958</td>\n",
              "    </tr>\n",
              "    <tr>\n",
              "      <th>Portaria 24h</th>\n",
              "      <td>0.347515</td>\n",
              "      <td>-0.024991</td>\n",
              "      <td>-0.056445</td>\n",
              "      <td>-0.028293</td>\n",
              "      <td>0.046709</td>\n",
              "      <td>0.004958</td>\n",
              "      <td>-0.005606</td>\n",
              "      <td>0.008868</td>\n",
              "      <td>0.047389</td>\n",
              "      <td>-0.077880</td>\n",
              "      <td>...</td>\n",
              "      <td>0.381623</td>\n",
              "      <td>0.590068</td>\n",
              "      <td>0.208936</td>\n",
              "      <td>0.609210</td>\n",
              "      <td>0.334435</td>\n",
              "      <td>0.218623</td>\n",
              "      <td>0.276906</td>\n",
              "      <td>1.000000</td>\n",
              "      <td>0.731721</td>\n",
              "      <td>0.307894</td>\n",
              "    </tr>\n",
              "    <tr>\n",
              "      <th>Portão eletrônico</th>\n",
              "      <td>0.319359</td>\n",
              "      <td>0.002345</td>\n",
              "      <td>-0.032844</td>\n",
              "      <td>-0.019638</td>\n",
              "      <td>0.059597</td>\n",
              "      <td>0.020255</td>\n",
              "      <td>-0.009097</td>\n",
              "      <td>0.002293</td>\n",
              "      <td>0.040073</td>\n",
              "      <td>-0.027313</td>\n",
              "      <td>...</td>\n",
              "      <td>0.292996</td>\n",
              "      <td>0.613502</td>\n",
              "      <td>0.145205</td>\n",
              "      <td>0.596386</td>\n",
              "      <td>0.290897</td>\n",
              "      <td>0.137872</td>\n",
              "      <td>0.193413</td>\n",
              "      <td>0.731721</td>\n",
              "      <td>1.000000</td>\n",
              "      <td>0.220848</td>\n",
              "    </tr>\n",
              "    <tr>\n",
              "      <th>Salão de festas</th>\n",
              "      <td>0.112752</td>\n",
              "      <td>-0.028483</td>\n",
              "      <td>0.056521</td>\n",
              "      <td>0.076557</td>\n",
              "      <td>0.159933</td>\n",
              "      <td>0.127079</td>\n",
              "      <td>-0.003527</td>\n",
              "      <td>0.005218</td>\n",
              "      <td>-0.002798</td>\n",
              "      <td>-0.008830</td>\n",
              "      <td>...</td>\n",
              "      <td>0.619847</td>\n",
              "      <td>0.216741</td>\n",
              "      <td>0.544116</td>\n",
              "      <td>0.351048</td>\n",
              "      <td>0.164367</td>\n",
              "      <td>0.545700</td>\n",
              "      <td>0.660958</td>\n",
              "      <td>0.307894</td>\n",
              "      <td>0.220848</td>\n",
              "      <td>1.000000</td>\n",
              "    </tr>\n",
              "  </tbody>\n",
              "</table>\n",
              "<p>22 rows × 22 columns</p>\n",
              "</div>\n",
              "      <button class=\"colab-df-convert\" onclick=\"convertToInteractive('df-b174d0be-46bf-4b74-bb5e-3cbe4bc85853')\"\n",
              "              title=\"Convert this dataframe to an interactive table.\"\n",
              "              style=\"display:none;\">\n",
              "        \n",
              "  <svg xmlns=\"http://www.w3.org/2000/svg\" height=\"24px\"viewBox=\"0 0 24 24\"\n",
              "       width=\"24px\">\n",
              "    <path d=\"M0 0h24v24H0V0z\" fill=\"none\"/>\n",
              "    <path d=\"M18.56 5.44l.94 2.06.94-2.06 2.06-.94-2.06-.94-.94-2.06-.94 2.06-2.06.94zm-11 1L8.5 8.5l.94-2.06 2.06-.94-2.06-.94L8.5 2.5l-.94 2.06-2.06.94zm10 10l.94 2.06.94-2.06 2.06-.94-2.06-.94-.94-2.06-.94 2.06-2.06.94z\"/><path d=\"M17.41 7.96l-1.37-1.37c-.4-.4-.92-.59-1.43-.59-.52 0-1.04.2-1.43.59L10.3 9.45l-7.72 7.72c-.78.78-.78 2.05 0 2.83L4 21.41c.39.39.9.59 1.41.59.51 0 1.02-.2 1.41-.59l7.78-7.78 2.81-2.81c.8-.78.8-2.07 0-2.86zM5.41 20L4 18.59l7.72-7.72 1.47 1.35L5.41 20z\"/>\n",
              "  </svg>\n",
              "      </button>\n",
              "      \n",
              "  <style>\n",
              "    .colab-df-container {\n",
              "      display:flex;\n",
              "      flex-wrap:wrap;\n",
              "      gap: 12px;\n",
              "    }\n",
              "\n",
              "    .colab-df-convert {\n",
              "      background-color: #E8F0FE;\n",
              "      border: none;\n",
              "      border-radius: 50%;\n",
              "      cursor: pointer;\n",
              "      display: none;\n",
              "      fill: #1967D2;\n",
              "      height: 32px;\n",
              "      padding: 0 0 0 0;\n",
              "      width: 32px;\n",
              "    }\n",
              "\n",
              "    .colab-df-convert:hover {\n",
              "      background-color: #E2EBFA;\n",
              "      box-shadow: 0px 1px 2px rgba(60, 64, 67, 0.3), 0px 1px 3px 1px rgba(60, 64, 67, 0.15);\n",
              "      fill: #174EA6;\n",
              "    }\n",
              "\n",
              "    [theme=dark] .colab-df-convert {\n",
              "      background-color: #3B4455;\n",
              "      fill: #D2E3FC;\n",
              "    }\n",
              "\n",
              "    [theme=dark] .colab-df-convert:hover {\n",
              "      background-color: #434B5C;\n",
              "      box-shadow: 0px 1px 3px 1px rgba(0, 0, 0, 0.15);\n",
              "      filter: drop-shadow(0px 1px 2px rgba(0, 0, 0, 0.3));\n",
              "      fill: #FFFFFF;\n",
              "    }\n",
              "  </style>\n",
              "\n",
              "      <script>\n",
              "        const buttonEl =\n",
              "          document.querySelector('#df-b174d0be-46bf-4b74-bb5e-3cbe4bc85853 button.colab-df-convert');\n",
              "        buttonEl.style.display =\n",
              "          google.colab.kernel.accessAllowed ? 'block' : 'none';\n",
              "\n",
              "        async function convertToInteractive(key) {\n",
              "          const element = document.querySelector('#df-b174d0be-46bf-4b74-bb5e-3cbe4bc85853');\n",
              "          const dataTable =\n",
              "            await google.colab.kernel.invokeFunction('convertToInteractive',\n",
              "                                                     [key], {});\n",
              "          if (!dataTable) return;\n",
              "\n",
              "          const docLinkHtml = 'Like what you see? Visit the ' +\n",
              "            '<a target=\"_blank\" href=https://colab.research.google.com/notebooks/data_table.ipynb>data table notebook</a>'\n",
              "            + ' to learn more about interactive tables.';\n",
              "          element.innerHTML = '';\n",
              "          dataTable['output_type'] = 'display_data';\n",
              "          await google.colab.output.renderOutput(dataTable, element);\n",
              "          const docLink = document.createElement('div');\n",
              "          docLink.innerHTML = docLinkHtml;\n",
              "          element.appendChild(docLink);\n",
              "        }\n",
              "      </script>\n",
              "    </div>\n",
              "  </div>\n",
              "  "
            ]
          },
          "metadata": {},
          "execution_count": 37
        }
      ]
    },
    {
      "cell_type": "code",
      "source": [
        "plt.figure(figsize=(12,10))\n",
        "paleta = sns.color_palette(\"light:salmon\", as_cmap=True)\n",
        "sns.heatmap(correlacao_df.round(1), annot=True, cmap=paleta)"
      ],
      "metadata": {
        "colab": {
          "base_uri": "https://localhost:8080/",
          "height": 705
        },
        "id": "dGA8M2-G9HLH",
        "outputId": "dfdf876c-7ef9-46d4-b9de-67a86b3d4be1"
      },
      "execution_count": null,
      "outputs": [
        {
          "output_type": "execute_result",
          "data": {
            "text/plain": [
              "<matplotlib.axes._subplots.AxesSubplot at 0x7f2fbdc56fa0>"
            ]
          },
          "metadata": {},
          "execution_count": 38
        },
        {
          "output_type": "display_data",
          "data": {
            "text/plain": [
              "<Figure size 864x720 with 2 Axes>"
            ],
            "image/png": "[encoded data removed]"
          },
          "metadata": {
            "needs_background": "light"
          }
        }
      ]
    },
    {
      "cell_type": "markdown",
      "source": [
        "# Regressão Linear / Linear Regression"
      ],
      "metadata": {
        "id": "RtHif_d39jgw"
      }
    },
    {
      "cell_type": "code",
      "source": [
        "from pyspark.ml.regression import LinearRegression"
      ],
      "metadata": {
        "id": "ZiFLwayv9KVB"
      },
      "execution_count": null,
      "outputs": []
    },
    {
      "cell_type": "code",
      "source": [
        "treino, teste = dataset_prep.randomSplit([0.7, 0.3], seed=202)"
      ],
      "metadata": {
        "id": "xU-5MTlY9nqa"
      },
      "execution_count": null,
      "outputs": []
    },
    {
      "cell_type": "code",
      "source": [
        "treino.count()"
      ],
      "metadata": {
        "colab": {
          "base_uri": "https://localhost:8080/"
        },
        "id": "SbrlYOy99wL_",
        "outputId": "feb993be-f3ac-4acd-e7a6-389be5a36461"
      },
      "execution_count": null,
      "outputs": [
        {
          "output_type": "execute_result",
          "data": {
            "text/plain": [
              "37704"
            ]
          },
          "metadata": {},
          "execution_count": 108
        }
      ]
    },
    {
      "cell_type": "code",
      "source": [
        "teste.count()"
      ],
      "metadata": {
        "colab": {
          "base_uri": "https://localhost:8080/"
        },
        "id": "utvbks6u9yEJ",
        "outputId": "6a448bbf-3ff9-439d-d36e-239ed8859365"
      },
      "execution_count": null,
      "outputs": [
        {
          "output_type": "execute_result",
          "data": {
            "text/plain": [
              "16096"
            ]
          },
          "metadata": {},
          "execution_count": 109
        }
      ]
    },
    {
      "cell_type": "code",
      "source": [
        "lr = LinearRegression()"
      ],
      "metadata": {
        "id": "uEY5Ve6o9ytn"
      },
      "execution_count": null,
      "outputs": []
    },
    {
      "cell_type": "code",
      "source": [
        "modelo_lr = lr.fit(treino)"
      ],
      "metadata": {
        "id": "cC0ttxmL91Pa"
      },
      "execution_count": null,
      "outputs": []
    },
    {
      "cell_type": "code",
      "source": [
        "prev_lr_treino = modelo_lr.transform(treino)"
      ],
      "metadata": {
        "id": "bQMfJSZd96cg"
      },
      "execution_count": null,
      "outputs": []
    },
    {
      "cell_type": "code",
      "source": [
        "prev_lr_treino.show()"
      ],
      "metadata": {
        "colab": {
          "base_uri": "https://localhost:8080/"
        },
        "id": "LoSuL1ja-BmB",
        "outputId": "66809d0d-7650-4b05-c2bb-1e1a2fbc340b"
      },
      "execution_count": null,
      "outputs": [
        {
          "output_type": "stream",
          "name": "stdout",
          "text": [
            "+--------------------+---------+-------------------+\n",
            "|            features|    label|         prediction|\n",
            "+--------------------+---------+-------------------+\n",
            "|(22,[0,1,2,3,4,5,...| 262000.0|  701385.0998071819|\n",
            "|(22,[0,1,2,3,4,5,...| 917000.0|  694952.0608767555|\n",
            "|(22,[0,1,2,3,4,5,...| 560000.0|  1154375.224931684|\n",
            "|(22,[0,1,2,3,4,5,...| 630000.0| 1329935.0520376062|\n",
            "|(22,[0,1,2,3,4,5,...| 816000.0|   728392.349584006|\n",
            "|(22,[0,1,2,3,4,5,...| 996000.0|  704417.8327955608|\n",
            "|(22,[0,1,2,3,4,5,...| 420000.0| 284762.58932019863|\n",
            "|(22,[0,1,2,3,4,5,...|1485400.0|  943413.9796319213|\n",
            "|(22,[0,1,2,3,4,5,...|  99000.0|-137280.20740069245|\n",
            "|(22,[0,1,2,3,4,5,...| 620000.0| 40096.620267859435|\n",
            "|(22,[0,1,2,3,4,5,...| 750000.0|  7631.653241595961|\n",
            "|(22,[0,1,2,3,4,5,...| 690000.0| 522278.18565913825|\n",
            "|(22,[0,1,2,3,4,5,...| 897000.0| 1467899.1031139893|\n",
            "|(22,[0,1,2,3,4,5,...| 290000.0|  691009.6561620533|\n",
            "|(22,[0,1,2,3,4,5,...| 480000.0|  288748.3270706856|\n",
            "|(22,[0,1,2,3,4,5,...| 570000.0|   920248.303701093|\n",
            "|(22,[0,1,2,3,4,5,...| 480000.0|  573380.4988347564|\n",
            "|(22,[0,1,2,3,4,5,...| 800000.0|  579732.6506939614|\n",
            "|(22,[0,1,2,3,4,5,...| 649999.0| 411021.28405846364|\n",
            "|(22,[0,1,2,3,4,5,...|1080000.0| 1308109.8666169983|\n",
            "+--------------------+---------+-------------------+\n",
            "only showing top 20 rows\n",
            "\n"
          ]
        }
      ]
    },
    {
      "cell_type": "code",
      "source": [
        "print(modelo_lr.summary.r2)\n",
        "print(modelo_lr.summary.rootMeanSquaredError)"
      ],
      "metadata": {
        "colab": {
          "base_uri": "https://localhost:8080/"
        },
        "id": "SSjEwZPG-MiR",
        "outputId": "3af123ce-9ec1-4d09-8bca-008b25f71b7a"
      },
      "execution_count": null,
      "outputs": [
        {
          "output_type": "stream",
          "name": "stdout",
          "text": [
            "0.6789199941314505\n",
            "852462.9710229166\n"
          ]
        }
      ]
    },
    {
      "cell_type": "code",
      "source": [
        "print(modelo_lr.evaluate(teste).r2)\n",
        "print(modelo_lr.evaluate(teste).rootMeanSquaredError)"
      ],
      "metadata": {
        "colab": {
          "base_uri": "https://localhost:8080/"
        },
        "id": "5L31_IJE-Oz5",
        "outputId": "36bc8273-8aad-482c-8587-0ffd898925ac"
      },
      "execution_count": null,
      "outputs": [
        {
          "output_type": "stream",
          "name": "stdout",
          "text": [
            "0.6522044138744197\n",
            "871523.1435324732\n"
          ]
        }
      ]
    },
    {
      "cell_type": "markdown",
      "source": [
        "## Criando modelos com validação cruzada e busca por malha / Creating models with cross validations and grid search"
      ],
      "metadata": {
        "id": "WerVwSyuiwWN"
      }
    },
    {
      "cell_type": "code",
      "source": [
        "from pyspark.ml.tuning import CrossValidator, ParamGridBuilder\n",
        "from pyspark.ml.regression import RandomForestRegressor\n",
        "from pyspark.ml.regression import DecisionTreeRegressor\n",
        "from pyspark.ml.evaluation import RegressionEvaluator"
      ],
      "metadata": {
        "id": "5TtmMO9I-n2C"
      },
      "execution_count": null,
      "outputs": []
    },
    {
      "cell_type": "markdown",
      "source": [
        "### Decision tree"
      ],
      "metadata": {
        "id": "LyXIhLqBjMkB"
      }
    },
    {
      "cell_type": "code",
      "source": [
        "dtr = DecisionTreeRegressor()\n",
        "dtr_grid = ParamGridBuilder() \\\n",
        "    .addGrid(dtr.maxDepth, [2, 5, 10])\\\n",
        "    .addGrid(dtr.maxBins, [10, 32, 45])\\\n",
        "    .build()\n",
        "dtr_evaluator = RegressionEvaluator()"
      ],
      "metadata": {
        "id": "BFyOu4-HjHKv"
      },
      "execution_count": null,
      "outputs": []
    },
    {
      "cell_type": "code",
      "source": [
        "dtr_cv = CrossValidator(\n",
        "    estimator=dtr,\n",
        "    estimatorParamMaps=dtr_grid,\n",
        "    evaluator=dtr_evaluator,\n",
        "    numFolds=5\n",
        ")"
      ],
      "metadata": {
        "id": "Nj3_ll8CkkW_"
      },
      "execution_count": null,
      "outputs": []
    },
    {
      "cell_type": "code",
      "source": [
        "modelo_dtr = dtr_cv.fit(treino)"
      ],
      "metadata": {
        "id": "ZxNxxQx-kkTa"
      },
      "execution_count": null,
      "outputs": []
    },
    {
      "cell_type": "code",
      "source": [
        "previsoes_dtr_teste = modelo_dtr.transform(teste)"
      ],
      "metadata": {
        "id": "V246cxK2kkMu"
      },
      "execution_count": null,
      "outputs": []
    },
    {
      "cell_type": "code",
      "source": [
        "print('Decision Tree Regression')\n",
        "print(\"=\"*30)\n",
        "print(\"R²: %f\" % dtr_evaluator.evaluate(previsoes_dtr_teste, {dtr_evaluator.metricName: \"r2\"}))\n",
        "print(\"RMSE: %f\" % dtr_evaluator.evaluate(previsoes_dtr_teste, {dtr_evaluator.metricName: \"rmse\"}))\n",
        "\n"
      ],
      "metadata": {
        "colab": {
          "base_uri": "https://localhost:8080/"
        },
        "id": "-VgrwDaskkBf",
        "outputId": "68382bb7-fc42-4ee3-b038-2a154a45314b"
      },
      "execution_count": null,
      "outputs": [
        {
          "output_type": "stream",
          "name": "stdout",
          "text": [
            "Decision Tree Regression\n",
            "==============================\n",
            "R²: 0.761379\n",
            "RMSE: 721889.984076\n"
          ]
        }
      ]
    },
    {
      "cell_type": "markdown",
      "source": [
        "### Random Forest"
      ],
      "metadata": {
        "id": "jrm7X-vRjPYZ"
      }
    },
    {
      "cell_type": "code",
      "source": [
        "rfr = RandomForestRegressor()\n",
        "rfr_grid = ParamGridBuilder() \\\n",
        "    .addGrid(rfr.numTrees, [10, 20, 30])\\\n",
        "    .addGrid(rfr.maxDepth, [5, 10])\\\n",
        "    .addGrid(rfr.maxBins, [10, 32, 45])\\\n",
        "    .build()\n",
        "rfr_evaluator = RegressionEvaluator()"
      ],
      "metadata": {
        "id": "V4OHOYpijQty"
      },
      "execution_count": null,
      "outputs": []
    },
    {
      "cell_type": "code",
      "source": [
        "rfr_cv = CrossValidator(\n",
        "    estimator=rfr,\n",
        "    estimatorParamMaps=rfr_grid,\n",
        "    evaluator=rfr_evaluator,\n",
        "    numFolds=5\n",
        ")"
      ],
      "metadata": {
        "id": "_0iiGvcSlzbo"
      },
      "execution_count": null,
      "outputs": []
    },
    {
      "cell_type": "code",
      "source": [
        "modelo_rfr = rfr_cv.fit(treino)"
      ],
      "metadata": {
        "id": "BV4s_j_JlzXQ"
      },
      "execution_count": null,
      "outputs": []
    },
    {
      "cell_type": "code",
      "source": [
        "previsoes_rfr_teste = modelo_rfr.transform(teste)"
      ],
      "metadata": {
        "id": "Jhcy3n9Xl_Vs"
      },
      "execution_count": null,
      "outputs": []
    },
    {
      "cell_type": "code",
      "source": [
        "print('Random Forest Regression')\n",
        "print(\"=\"*30)\n",
        "print(\"R²: %f\" % rfr_evaluator.evaluate(previsoes_rfr_teste, {rfr_evaluator.metricName: \"r2\"}))\n",
        "print(\"RMSE: %f\" % rfr_evaluator.evaluate(previsoes_rfr_teste, {rfr_evaluator.metricName: \"rmse\"}))\n",
        "\n"
      ],
      "metadata": {
        "colab": {
          "base_uri": "https://localhost:8080/"
        },
        "id": "DldJ_FBRlzUR",
        "outputId": "c0ffda0b-8ae8-4b3b-a7d2-c26ff323c1c2"
      },
      "execution_count": null,
      "outputs": [
        {
          "output_type": "stream",
          "name": "stdout",
          "text": [
            "Random Forest Regression\n",
            "==============================\n",
            "R²: 0.840613\n",
            "RMSE: 589988.328365\n"
          ]
        }
      ]
    },
    {
      "cell_type": "markdown",
      "source": [
        "### Gradient-Boosted Tree"
      ],
      "metadata": {
        "id": "aY8HnPWAo90G"
      }
    },
    {
      "cell_type": "code",
      "source": [
        "from pyspark.ml.regression import GBTRegressor"
      ],
      "metadata": {
        "id": "3pqOKP-tpAgD"
      },
      "execution_count": null,
      "outputs": []
    },
    {
      "cell_type": "code",
      "source": [
        "gbtr = GBTRegressor()\n",
        "gbtr_grid = ParamGridBuilder() \\\n",
        "    .addGrid(gbtr.maxIter, [5, 10, 15])\\\n",
        "    .addGrid(gbtr.maxDepth, [5, 10])\\\n",
        "    .addGrid(gbtr.maxBins, [10, 32, 45])\\\n",
        "    .build()\n",
        "gbtr_evaluator = RegressionEvaluator()"
      ],
      "metadata": {
        "id": "jI7MvCkgpJYj"
      },
      "execution_count": null,
      "outputs": []
    },
    {
      "cell_type": "code",
      "source": [
        "gbtr_cv = CrossValidator(\n",
        "    estimator=gbtr,\n",
        "    estimatorParamMaps=gbtr_grid,\n",
        "    evaluator=gbtr_evaluator,\n",
        "    numFolds=5\n",
        ")"
      ],
      "metadata": {
        "id": "eSTTI4iAphd7"
      },
      "execution_count": null,
      "outputs": []
    },
    {
      "cell_type": "code",
      "source": [
        "gbtr_model = gbtr_cv.fit(treino)"
      ],
      "metadata": {
        "id": "WbwO8uEZcXB-"
      },
      "execution_count": null,
      "outputs": []
    },
    {
      "cell_type": "code",
      "source": [
        "previsoes_gbtr_teste = gbtr_model.transform(teste)"
      ],
      "metadata": {
        "id": "8TsT_qtmbtci"
      },
      "execution_count": null,
      "outputs": []
    },
    {
      "cell_type": "code",
      "source": [
        "print('Gradient-Boosted Tree Regression')\n",
        "print(\"=\"*30)\n",
        "print(\"R²: %f\" % gbtr_evaluator.evaluate(previsoes_gbtr_teste, {gbtr_evaluator.metricName: \"r2\"}))\n",
        "print(\"RMSE: %f\" % gbtr_evaluator.evaluate(previsoes_gbtr_teste, {gbtr_evaluator.metricName: \"rmse\"}))\n",
        "\n"
      ],
      "metadata": {
        "colab": {
          "base_uri": "https://localhost:8080/"
        },
        "id": "h715eacXpvAL",
        "outputId": "53051572-4a0f-4879-8f0c-4a9784600dc0"
      },
      "execution_count": null,
      "outputs": [
        {
          "output_type": "stream",
          "name": "stdout",
          "text": [
            "Gradient-Boosted Tree Regression\n",
            "==============================\n",
            "R²: 0.793372\n",
            "RMSE: 671755.711183\n"
          ]
        }
      ]
    }
  ]
}